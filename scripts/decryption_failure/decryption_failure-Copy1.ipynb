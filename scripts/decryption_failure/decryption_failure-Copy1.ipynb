{
 "cells": [
  {
   "cell_type": "code",
   "execution_count": 1,
   "metadata": {},
   "outputs": [],
   "source": [
    "R.<x> = QQ[]"
   ]
  },
  {
   "cell_type": "code",
   "execution_count": 2,
   "metadata": {},
   "outputs": [],
   "source": [
    "def mod3(r):\n",
    "    return ((r + 1) % 3) - 1"
   ]
  },
  {
   "cell_type": "code",
   "execution_count": 3,
   "metadata": {},
   "outputs": [],
   "source": [
    "table0 = [0, 0, 0]\n",
    "for i in range(0,2):\n",
    "    for j in range(0,2):\n",
    "        t1 = i + j;\n",
    "        for k in range(0,2):\n",
    "            for h in range(0,2):\n",
    "                t2 = k + h;\n",
    "                \n",
    "                r = mod3(t1 - t2) + 1\n",
    "                                              \n",
    "                table0[r] += 1/16;"
   ]
  },
  {
   "cell_type": "code",
   "execution_count": 4,
   "metadata": {},
   "outputs": [],
   "source": [
    "table0 =[1/4,2/4,1/4]"
   ]
  },
  {
   "cell_type": "code",
   "execution_count": 5,
   "metadata": {},
   "outputs": [],
   "source": [
    "table1 = [0, 0, 0, 0, 0]\n",
    "\n",
    "for a1 in range(-1,2):\n",
    "    p1 = table0[a1+1];\n",
    "    for a2 in range(-1,2):\n",
    "        p2 = table0[a2+1];\n",
    "        for b1 in range(-1,2):\n",
    "            p3 = table0[b1+1];\n",
    "            for b2 in range(-1,2):\n",
    "                p4= table0[b2+1];\n",
    "                \n",
    "                table1[a1*a2+b1*b2 + 2] += p1*p2*p3*p4;"
   ]
  },
  {
   "cell_type": "code",
   "execution_count": 6,
   "metadata": {},
   "outputs": [],
   "source": [
    "poly1 = 0;\n",
    "for i in range(5):\n",
    "    poly1 += table1[i]*x^i"
   ]
  },
  {
   "cell_type": "code",
   "execution_count": 7,
   "metadata": {},
   "outputs": [],
   "source": [
    "table2 = [0, 0, 0, 0, 0, 0, 0]\n",
    "\n",
    "for a1 in range(-1,2):\n",
    "    p1 = table0[a1+1];\n",
    "    for a2 in range(-1,2):\n",
    "        p2 = table0[a2+1];\n",
    "        for b1 in range(-1,2):\n",
    "            p3 = table0[b1+1];\n",
    "            for b2 in range(-1,2):\n",
    "                p4= table0[b2+1];\n",
    "                \n",
    "                table2[(a1*b1)+b2*(a1 + a2) + 3] += p1*p2*p3*p4;"
   ]
  },
  {
   "cell_type": "code",
   "execution_count": 8,
   "metadata": {},
   "outputs": [
    {
     "data": {
      "text/plain": [
       "[1/64, 3/16, 19/32, 3/16, 1/64]"
      ]
     },
     "execution_count": 8,
     "metadata": {},
     "output_type": "execute_result"
    }
   ],
   "source": [
    "table1"
   ]
  },
  {
   "cell_type": "code",
   "execution_count": 9,
   "metadata": {},
   "outputs": [
    {
     "data": {
      "text/plain": [
       "[1/128, 1/32, 23/128, 9/16, 23/128, 1/32, 1/128]"
      ]
     },
     "execution_count": 9,
     "metadata": {},
     "output_type": "execute_result"
    }
   ],
   "source": [
    "table2"
   ]
  },
  {
   "cell_type": "code",
   "execution_count": 26,
   "metadata": {},
   "outputs": [],
   "source": [
    "poly2 = 0;\n",
    "for i in range(7):\n",
    "    poly2 += table2[i]*x^i"
   ]
  },
  {
   "cell_type": "code",
   "execution_count": 27,
   "metadata": {},
   "outputs": [],
   "source": [
    "n = 768\n",
    "q = 3457\n",
    "\n",
    "poly = poly2^n\n",
    "coef = poly.coefficients()\n",
    "deg = poly.degree()\n",
    "\n",
    "sum = 0;\n",
    "for j in range(deg/2 + floor((q-1)/ 6), deg+1):\n",
    "    sum += coef[j]\n",
    "\n",
    "p = 1 - (1 - 2 * sum)^n;"
   ]
  },
  {
   "cell_type": "code",
   "execution_count": 28,
   "metadata": {},
   "outputs": [
    {
     "data": {
      "text/plain": [
       "-254.68187304907280691656315029"
      ]
     },
     "execution_count": 28,
     "metadata": {},
     "output_type": "execute_result"
    }
   ],
   "source": [
    "log(p,2).n(100)"
   ]
  },
  {
   "cell_type": "code",
   "execution_count": null,
   "metadata": {},
   "outputs": [],
   "source": []
  }
 ],
 "metadata": {
  "kernelspec": {
   "display_name": "SageMath 9.3",
   "language": "sage",
   "name": "sagemath"
  },
  "language_info": {
   "codemirror_mode": {
    "name": "ipython",
    "version": 3
   },
   "file_extension": ".py",
   "mimetype": "text/x-python",
   "name": "python",
   "nbconvert_exporter": "python",
   "pygments_lexer": "ipython3",
   "version": "3.7.10"
  }
 },
 "nbformat": 4,
 "nbformat_minor": 4
}
