{
 "cells": [
  {
   "cell_type": "code",
   "execution_count": 43,
   "metadata": {},
   "outputs": [],
   "source": [
    "R.<x> = QQ[]"
   ]
  },
  {
   "cell_type": "code",
   "execution_count": 44,
   "metadata": {},
   "outputs": [],
   "source": [
    "def mod3(r):\n",
    "    return ((r + 1) % 3) - 1"
   ]
  },
  {
   "cell_type": "code",
   "execution_count": 45,
   "metadata": {},
   "outputs": [],
   "source": [
    "table0 = [0, 0, 0]\n",
    "for i in range(0,2):\n",
    "    for j in range(0,2):\n",
    "        t1 = i + j;\n",
    "        for k in range(0,2):\n",
    "            for h in range(0,2):\n",
    "                t2 = k + h;\n",
    "                \n",
    "                r = mod3(t1 - t2) + 1\n",
    "                                              \n",
    "                table0[r] += 1/16;"
   ]
  },
  {
   "cell_type": "code",
   "execution_count": 75,
   "metadata": {},
   "outputs": [],
   "source": [
    "table0 =[5/16,6/16,5/16]"
   ]
  },
  {
   "cell_type": "code",
   "execution_count": 76,
   "metadata": {},
   "outputs": [],
   "source": [
    "table1 = [0, 0, 0, 0, 0]\n",
    "\n",
    "for a1 in range(-1,2):\n",
    "    p1 = table0[a1+1];\n",
    "    for a2 in range(-1,2):\n",
    "        p2 = table0[a2+1];\n",
    "        for b1 in range(-1,2):\n",
    "            p3 = table0[b1+1];\n",
    "            for b2 in range(-1,2):\n",
    "                p4= table0[b2+1];\n",
    "                \n",
    "                table1[a1*a2+b1*b2 + 2] += p1*p2*p3*p4;"
   ]
  },
  {
   "cell_type": "code",
   "execution_count": 77,
   "metadata": {},
   "outputs": [],
   "source": [
    "poly1 = 0;\n",
    "for i in range(5):\n",
    "    poly1 += table1[i]*x^i"
   ]
  },
  {
   "cell_type": "code",
   "execution_count": 78,
   "metadata": {},
   "outputs": [],
   "source": [
    "table2 = [0, 0, 0, 0, 0, 0, 0]\n",
    "\n",
    "for a1 in range(-1,2):\n",
    "    p1 = table0[a1+1];\n",
    "    for a2 in range(-1,2):\n",
    "        p2 = table0[a2+1];\n",
    "        for b1 in range(-1,2):\n",
    "            p3 = table0[b1+1];\n",
    "            for b2 in range(-1,2):\n",
    "                p4= table0[b2+1];\n",
    "                \n",
    "                table2[(a1*b1)+b2*(a1 + a2) + 3] += p1*p2*p3*p4;"
   ]
  },
  {
   "cell_type": "code",
   "execution_count": 79,
   "metadata": {},
   "outputs": [],
   "source": [
    "poly2 = 0;\n",
    "for i in range(7):\n",
    "    poly2 += table2[i]*x^i"
   ]
  },
  {
   "cell_type": "code",
   "execution_count": 74,
   "metadata": {},
   "outputs": [
    {
     "ename": "KeyboardInterrupt",
     "evalue": "",
     "output_type": "error",
     "traceback": [
      "\u001b[0;31m---------------------------------------------------------------------------\u001b[0m",
      "\u001b[0;31mKeyboardInterrupt\u001b[0m                         Traceback (most recent call last)",
      "\u001b[0;32m<ipython-input-74-e6b8aec2df8b>\u001b[0m in \u001b[0;36m<module>\u001b[0;34m\u001b[0m\n\u001b[1;32m      6\u001b[0m \u001b[0;32mfor\u001b[0m \u001b[0mi\u001b[0m \u001b[0;32min\u001b[0m \u001b[0mrange\u001b[0m\u001b[0;34m(\u001b[0m\u001b[0mfloor\u001b[0m\u001b[0;34m(\u001b[0m\u001b[0mn\u001b[0m\u001b[0;34m/\u001b[0m\u001b[0mInteger\u001b[0m\u001b[0;34m(\u001b[0m\u001b[0;36m2\u001b[0m\u001b[0;34m)\u001b[0m\u001b[0;34m)\u001b[0m \u001b[0;34m-\u001b[0m \u001b[0mInteger\u001b[0m\u001b[0;34m(\u001b[0m\u001b[0;36m256\u001b[0m\u001b[0;34m)\u001b[0m\u001b[0;34m,\u001b[0m \u001b[0mfloor\u001b[0m\u001b[0;34m(\u001b[0m\u001b[0mn\u001b[0m\u001b[0;34m/\u001b[0m\u001b[0mInteger\u001b[0m\u001b[0;34m(\u001b[0m\u001b[0;36m2\u001b[0m\u001b[0;34m)\u001b[0m\u001b[0;34m)\u001b[0m\u001b[0;34m)\u001b[0m\u001b[0;34m:\u001b[0m\u001b[0;34m\u001b[0m\u001b[0;34m\u001b[0m\u001b[0m\n\u001b[1;32m      7\u001b[0m     \u001b[0mpoly\u001b[0m \u001b[0;34m=\u001b[0m \u001b[0mpoly1\u001b[0m\u001b[0;34m**\u001b[0m\u001b[0;34m(\u001b[0m\u001b[0mInteger\u001b[0m\u001b[0;34m(\u001b[0m\u001b[0;36m2\u001b[0m\u001b[0;34m)\u001b[0m\u001b[0;34m*\u001b[0m\u001b[0mi\u001b[0m\u001b[0;34m)\u001b[0m\u001b[0;34m\u001b[0m\u001b[0;34m\u001b[0m\u001b[0m\n\u001b[0;32m----> 8\u001b[0;31m     \u001b[0mpoly\u001b[0m \u001b[0;34m*=\u001b[0m \u001b[0mpoly2\u001b[0m\u001b[0;34m**\u001b[0m\u001b[0;34m(\u001b[0m\u001b[0mn\u001b[0m\u001b[0;34m-\u001b[0m\u001b[0mi\u001b[0m\u001b[0;34m*\u001b[0m\u001b[0mInteger\u001b[0m\u001b[0;34m(\u001b[0m\u001b[0;36m2\u001b[0m\u001b[0;34m)\u001b[0m\u001b[0;34m)\u001b[0m\u001b[0;34m\u001b[0m\u001b[0;34m\u001b[0m\u001b[0m\n\u001b[0m\u001b[1;32m      9\u001b[0m \u001b[0;34m\u001b[0m\u001b[0m\n\u001b[1;32m     10\u001b[0m     \u001b[0mcoef\u001b[0m \u001b[0;34m=\u001b[0m \u001b[0mpoly\u001b[0m\u001b[0;34m.\u001b[0m\u001b[0mcoefficients\u001b[0m\u001b[0;34m(\u001b[0m\u001b[0;34m)\u001b[0m\u001b[0;34m\u001b[0m\u001b[0;34m\u001b[0m\u001b[0m\n",
      "\u001b[0;32m/opt/sagemath-9.3/local/lib/python3.7/site-packages/sage/structure/element.pyx\u001b[0m in \u001b[0;36msage.structure.element.Element.__mul__ (build/cythonized/sage/structure/element.c:12170)\u001b[0;34m()\u001b[0m\n\u001b[1;32m   1511\u001b[0m         \u001b[0mcdef\u001b[0m \u001b[0mint\u001b[0m \u001b[0mcl\u001b[0m \u001b[0;34m=\u001b[0m \u001b[0mclassify_elements\u001b[0m\u001b[0;34m(\u001b[0m\u001b[0mleft\u001b[0m\u001b[0;34m,\u001b[0m \u001b[0mright\u001b[0m\u001b[0;34m)\u001b[0m\u001b[0;34m\u001b[0m\u001b[0;34m\u001b[0m\u001b[0m\n\u001b[1;32m   1512\u001b[0m         \u001b[0;32mif\u001b[0m \u001b[0mHAVE_SAME_PARENT\u001b[0m\u001b[0;34m(\u001b[0m\u001b[0mcl\u001b[0m\u001b[0;34m)\u001b[0m\u001b[0;34m:\u001b[0m\u001b[0;34m\u001b[0m\u001b[0;34m\u001b[0m\u001b[0m\n\u001b[0;32m-> 1513\u001b[0;31m             \u001b[0;32mreturn\u001b[0m \u001b[0;34m(\u001b[0m\u001b[0;34m<\u001b[0m\u001b[0mElement\u001b[0m\u001b[0;34m>\u001b[0m\u001b[0mleft\u001b[0m\u001b[0;34m)\u001b[0m\u001b[0;34m.\u001b[0m\u001b[0m_mul_\u001b[0m\u001b[0;34m(\u001b[0m\u001b[0mright\u001b[0m\u001b[0;34m)\u001b[0m\u001b[0;34m\u001b[0m\u001b[0;34m\u001b[0m\u001b[0m\n\u001b[0m\u001b[1;32m   1514\u001b[0m         \u001b[0;32mif\u001b[0m \u001b[0mBOTH_ARE_ELEMENT\u001b[0m\u001b[0;34m(\u001b[0m\u001b[0mcl\u001b[0m\u001b[0;34m)\u001b[0m\u001b[0;34m:\u001b[0m\u001b[0;34m\u001b[0m\u001b[0;34m\u001b[0m\u001b[0m\n\u001b[1;32m   1515\u001b[0m             \u001b[0;32mreturn\u001b[0m \u001b[0mcoercion_model\u001b[0m\u001b[0;34m.\u001b[0m\u001b[0mbin_op\u001b[0m\u001b[0;34m(\u001b[0m\u001b[0mleft\u001b[0m\u001b[0;34m,\u001b[0m \u001b[0mright\u001b[0m\u001b[0;34m,\u001b[0m \u001b[0mmul\u001b[0m\u001b[0;34m)\u001b[0m\u001b[0;34m\u001b[0m\u001b[0;34m\u001b[0m\u001b[0m\n",
      "\u001b[0;32m/opt/sagemath-9.3/local/lib/python3.7/site-packages/sage/rings/polynomial/polynomial_rational_flint.pyx\u001b[0m in \u001b[0;36msage.rings.polynomial.polynomial_rational_flint.Polynomial_rational_flint._mul_ (build/cythonized/sage/rings/polynomial/polynomial_rational_flint.cpp:11826)\u001b[0;34m()\u001b[0m\n\u001b[1;32m   1075\u001b[0m         \u001b[0mcdef\u001b[0m \u001b[0mbint\u001b[0m \u001b[0mdo_sig\u001b[0m \u001b[0;34m=\u001b[0m \u001b[0m_do_sig\u001b[0m\u001b[0;34m(\u001b[0m\u001b[0mself\u001b[0m\u001b[0;34m.\u001b[0m\u001b[0m__poly\u001b[0m\u001b[0;34m)\u001b[0m \u001b[0;32mor\u001b[0m \u001b[0m_do_sig\u001b[0m\u001b[0;34m(\u001b[0m\u001b[0mop2\u001b[0m\u001b[0;34m.\u001b[0m\u001b[0m__poly\u001b[0m\u001b[0;34m)\u001b[0m\u001b[0;34m\u001b[0m\u001b[0;34m\u001b[0m\u001b[0m\n\u001b[1;32m   1076\u001b[0m \u001b[0;34m\u001b[0m\u001b[0m\n\u001b[0;32m-> 1077\u001b[0;31m         \u001b[0;32mif\u001b[0m \u001b[0mdo_sig\u001b[0m\u001b[0;34m:\u001b[0m \u001b[0msig_str\u001b[0m\u001b[0;34m(\u001b[0m\u001b[0;34m\"FLINT exception\"\u001b[0m\u001b[0;34m)\u001b[0m\u001b[0;34m\u001b[0m\u001b[0;34m\u001b[0m\u001b[0m\n\u001b[0m\u001b[1;32m   1078\u001b[0m         \u001b[0mfmpq_poly_mul\u001b[0m\u001b[0;34m(\u001b[0m\u001b[0mres\u001b[0m\u001b[0;34m.\u001b[0m\u001b[0m__poly\u001b[0m\u001b[0;34m,\u001b[0m \u001b[0mself\u001b[0m\u001b[0;34m.\u001b[0m\u001b[0m__poly\u001b[0m\u001b[0;34m,\u001b[0m \u001b[0mop2\u001b[0m\u001b[0;34m.\u001b[0m\u001b[0m__poly\u001b[0m\u001b[0;34m)\u001b[0m\u001b[0;34m\u001b[0m\u001b[0;34m\u001b[0m\u001b[0m\n\u001b[1;32m   1079\u001b[0m         \u001b[0;32mif\u001b[0m \u001b[0mdo_sig\u001b[0m\u001b[0;34m:\u001b[0m \u001b[0msig_off\u001b[0m\u001b[0;34m(\u001b[0m\u001b[0;34m)\u001b[0m\u001b[0;34m\u001b[0m\u001b[0;34m\u001b[0m\u001b[0m\n",
      "\u001b[0;31mKeyboardInterrupt\u001b[0m: "
     ]
    }
   ],
   "source": [
    "n = 729\n",
    "q = 4861\n",
    "\n",
    "p = 1;\n",
    "\n",
    "for i in range(floor(n/2) - 256, floor(n/2)):\n",
    "    poly = poly1^(2*i)\n",
    "    poly *= poly2^(n-i*2)\n",
    "    \n",
    "    coef = poly.coefficients()\n",
    "    deg = poly.degree()\n",
    "    \n",
    "    sum = 0;\n",
    "    for j in range(deg/2 + floor((q-1)/ 6), deg+1):\n",
    "        sum += coef[j]\n",
    "    \n",
    "    p *= (1 - 2 * sum);\n",
    "    \n",
    "    if i % 50 == 0:\n",
    "        print(i)\n",
    "\n",
    "p = 1 - p"
   ]
  },
  {
   "cell_type": "code",
   "execution_count": 180,
   "metadata": {},
   "outputs": [
    {
     "data": {
      "text/plain": [
       "-596.54402657916946828218522766"
      ]
     },
     "execution_count": 180,
     "metadata": {},
     "output_type": "execute_result"
    }
   ],
   "source": [
    "log(p,2).n(100)"
   ]
  },
  {
   "cell_type": "code",
   "execution_count": null,
   "metadata": {},
   "outputs": [],
   "source": []
  },
  {
   "cell_type": "code",
   "execution_count": 118,
   "metadata": {},
   "outputs": [
    {
     "name": "stdout",
     "output_type": "stream",
     "text": [
      "0\n",
      "50\n",
      "100\n",
      "150\n",
      "200\n"
     ]
    }
   ],
   "source": [
    "n = 486\n",
    "q = 4051\n",
    "\n",
    "p = 1;\n",
    "\n",
    "for i in range(0, n/2):\n",
    "    poly = poly1^(2*i)\n",
    "    poly *= poly2^(n-i*2)\n",
    "    \n",
    "    coef = poly.coefficients()\n",
    "    deg = poly.degree()\n",
    "    \n",
    "    sum = 0;\n",
    "    for j in range(deg/2 + floor((q-1)/ 6), deg+1):\n",
    "        sum += coef[j]\n",
    "    \n",
    "    p *= (1 - 2 * sum);\n",
    "    \n",
    "    if i % 50 == 0:\n",
    "        print(i)\n",
    "        \n",
    "        \n",
    "poly = poly2^(256 - n/2)\n",
    "\n",
    "coef = poly.coefficients()\n",
    "deg = poly.degree()\n",
    "\n",
    "sum = 0;\n",
    "for j in range(deg/2 + floor((q-1)/ 6), deg+1):\n",
    "    sum += coef[j]\n",
    "\n",
    "p *= (1 - 2 * sum)^(256 - n/2);\n",
    "\n",
    "p = 1 - p"
   ]
  },
  {
   "cell_type": "code",
   "execution_count": 119,
   "metadata": {},
   "outputs": [
    {
     "data": {
      "text/plain": [
       "-549.16902993983835998656716858"
      ]
     },
     "execution_count": 119,
     "metadata": {},
     "output_type": "execute_result"
    }
   ],
   "source": [
    "log(p,2).n(100)"
   ]
  },
  {
   "cell_type": "code",
   "execution_count": 80,
   "metadata": {},
   "outputs": [
    {
     "name": "stdout",
     "output_type": "stream",
     "text": [
      "300\n",
      "350\n",
      "400\n",
      "450\n",
      "500\n"
     ]
    }
   ],
   "source": [
    "n = 1024\n",
    "q = 3329\n",
    "\n",
    "p = 1;\n",
    "\n",
    "for i in range(floor(n/2) - 256, floor(n/2)):\n",
    "    poly = poly1^(2*i)\n",
    "    poly *= poly2^(n-i*2)\n",
    "    \n",
    "    coef = poly.coefficients()\n",
    "    deg = poly.degree()\n",
    "    \n",
    "    sum = 0;\n",
    "    for j in range(deg/2 + floor((q-1)/ 6), deg+1):\n",
    "        sum += coef[j]\n",
    "    \n",
    "    p *= (1 - 2 * sum);\n",
    "    \n",
    "    if i % 50 == 0:\n",
    "        print(i)\n",
    "\n",
    "p = 1 - p"
   ]
  },
  {
   "cell_type": "code",
   "execution_count": 81,
   "metadata": {},
   "outputs": [
    {
     "data": {
      "text/plain": [
       "-220.43049399020638687826055379"
      ]
     },
     "execution_count": 81,
     "metadata": {},
     "output_type": "execute_result"
    }
   ],
   "source": [
    "log(p,2).n(100)"
   ]
  },
  {
   "cell_type": "code",
   "execution_count": null,
   "metadata": {},
   "outputs": [],
   "source": []
  }
 ],
 "metadata": {
  "kernelspec": {
   "display_name": "SageMath 9.3",
   "language": "sage",
   "name": "sagemath"
  },
  "language_info": {
   "codemirror_mode": {
    "name": "ipython",
    "version": 3
   },
   "file_extension": ".py",
   "mimetype": "text/x-python",
   "name": "python",
   "nbconvert_exporter": "python",
   "pygments_lexer": "ipython3",
   "version": "3.7.10"
  }
 },
 "nbformat": 4,
 "nbformat_minor": 4
}
