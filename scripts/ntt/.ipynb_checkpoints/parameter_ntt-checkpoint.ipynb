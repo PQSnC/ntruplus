{
 "cells": [
  {
   "cell_type": "code",
   "execution_count": 82,
   "metadata": {},
   "outputs": [
    {
     "name": "stdout",
     "output_type": "stream",
     "text": [
      "18433\n",
      "23041\n",
      "32257\n",
      "===============end===============\n"
     ]
    }
   ],
   "source": [
    "n=768\n",
    "l = 1\n",
    "\n",
    "for i in range(100000):\n",
    "    q = (3*n*i/l)+1\n",
    "\n",
    "    if q > 2^15:\n",
    "        print(\"===============end===============\");\n",
    "        break;\n",
    "    \n",
    "    if q in Primes():\n",
    "        print(q)"
   ]
  },
  {
   "cell_type": "code",
   "execution_count": 83,
   "metadata": {},
   "outputs": [
    {
     "name": "stdout",
     "output_type": "stream",
     "text": [
      "1153\n",
      "3457\n",
      "===============end===============\n"
     ]
    }
   ],
   "source": [
    "n=768\n",
    "l = 2\n",
    "\n",
    "for i in range(100000):\n",
    "    q = (3*n*i/l)+1\n",
    "\n",
    "    if q > 2^13:\n",
    "        print(\"===============end===============\");\n",
    "        break;\n",
    "    \n",
    "    if q in Primes():\n",
    "        print(q)"
   ]
  },
  {
   "cell_type": "code",
   "execution_count": 84,
   "metadata": {},
   "outputs": [
    {
     "name": "stdout",
     "output_type": "stream",
     "text": [
      "769\n",
      "7681\n",
      "===============end===============\n"
     ]
    }
   ],
   "source": [
    "n=768\n",
    "l = 3\n",
    "\n",
    "for i in range(100000):\n",
    "    q = (3*n*i/l)+1\n",
    "\n",
    "    if q > 2^13:\n",
    "        print(\"===============end===============\");\n",
    "        break;\n",
    "    \n",
    "    if q in Primes():\n",
    "        print(q)"
   ]
  },
  {
   "cell_type": "code",
   "execution_count": 89,
   "metadata": {},
   "outputs": [
    {
     "name": "stdout",
     "output_type": "stream",
     "text": [
      "577\n",
      "1153\n",
      "3457\n",
      "6337\n",
      "7489\n",
      "===============end===============\n"
     ]
    }
   ],
   "source": [
    "n=768\n",
    "l = 4\n",
    "\n",
    "for i in range(100000):\n",
    "    q = (3*n*i/l)+1\n",
    "\n",
    "    if q > 2^13:\n",
    "        print(\"===============end===============\");\n",
    "        break;\n",
    "    \n",
    "    if q in Primes():\n",
    "        print(q)"
   ]
  },
  {
   "cell_type": "code",
   "execution_count": 86,
   "metadata": {},
   "outputs": [
    {
     "name": "stdout",
     "output_type": "stream",
     "text": [
      "769\n",
      "1153\n",
      "2689\n",
      "3457\n",
      "4993\n",
      "6529\n",
      "7297\n",
      "7681\n",
      "===============end===============\n"
     ]
    }
   ],
   "source": [
    "n=768\n",
    "l = 6\n",
    "\n",
    "for i in range(100000):\n",
    "    q = (3*n*i/l)+1\n",
    "\n",
    "    if q > 2^13:\n",
    "        print(\"===============end===============\");\n",
    "        break;\n",
    "    \n",
    "    if q in Primes():\n",
    "        print(q)"
   ]
  },
  {
   "cell_type": "code",
   "execution_count": 1,
   "metadata": {},
   "outputs": [
    {
     "name": "stdout",
     "output_type": "stream",
     "text": [
      "577\n",
      "1153\n",
      "2017\n",
      "2593\n",
      "3169\n",
      "3457\n",
      "6337\n",
      "7489\n",
      "===============end===============\n"
     ]
    }
   ],
   "source": [
    "n=768\n",
    "l = 8\n",
    "\n",
    "for i in range(100000):\n",
    "    q = (3*n*i/l)+1\n",
    "\n",
    "    if q > 2^13:\n",
    "        print(\"===============end===============\");\n",
    "        break;\n",
    "    \n",
    "    if q in Primes():\n",
    "        print(q)"
   ]
  },
  {
   "cell_type": "code",
   "execution_count": 2,
   "metadata": {},
   "outputs": [
    {
     "name": "stdout",
     "output_type": "stream",
     "text": [
      "193\n",
      "577\n",
      "769\n",
      "1153\n",
      "2113\n",
      "2689\n",
      "3457\n",
      "4801\n",
      "4993\n",
      "5569\n",
      "5953\n",
      "6337\n",
      "6529\n",
      "7297\n",
      "7489\n",
      "7681\n",
      "7873\n",
      "===============end===============\n"
     ]
    }
   ],
   "source": [
    "n=768\n",
    "l = 12\n",
    "\n",
    "for i in range(100000):\n",
    "    q = (3*n*i/l)+1\n",
    "\n",
    "    if q > 2^13:\n",
    "        print(\"===============end===============\");\n",
    "        break;\n",
    "    \n",
    "    if q in Primes():\n",
    "        print(q)"
   ]
  },
  {
   "cell_type": "code",
   "execution_count": 87,
   "metadata": {},
   "outputs": [
    {
     "data": {
      "text/plain": [
       "2"
      ]
     },
     "execution_count": 87,
     "metadata": {},
     "output_type": "execute_result"
    }
   ],
   "source": [
    "Primes()[0]"
   ]
  },
  {
   "cell_type": "code",
   "execution_count": 19,
   "metadata": {},
   "outputs": [],
   "source": [
    "table = []\n",
    "i = 0\n",
    "for a in range(12):\n",
    "    for b in range(12):\n",
    "        table = table + [2^a*3^b]\n",
    "\n",
    "table.sort()"
   ]
  },
  {
   "cell_type": "code",
   "execution_count": 20,
   "metadata": {},
   "outputs": [
    {
     "name": "stdout",
     "output_type": "stream",
     "text": [
      "[1, 2, 3, 4, 6, 8, 9, 12, 16, 18, 24, 27, 32, 36, 48, 54, 64, 72, 81, 96, 108, 128, 144, 162, 192, 216, 243, 256, 288, 324, 384, 432, 486, 512, 576, 648, 729, 768, 864, 972, 1024, 1152, 1296, 1458, 1536, 1728, 1944, 2048, 2187, 2304, 2592, 2916, 3072, 3456, 3888, 4374, 4608, 5184, 5832, 6144, 6561, 6912, 7776, 8748, 9216, 10368, 11664, 13122, 13824, 15552, 17496, 18432, 19683, 20736, 23328, 26244, 27648, 31104, 34992, 39366, 41472, 46656, 52488, 55296, 59049, 62208, 69984, 78732, 82944, 93312, 104976, 118098, 124416, 139968, 157464, 165888, 177147, 186624, 209952, 236196, 248832, 279936, 314928, 354294, 373248, 419904, 472392, 497664, 559872, 629856, 708588, 746496, 839808, 944784, 1119744, 1259712, 1417176, 1492992, 1679616, 1889568, 2239488, 2519424, 2834352, 3359232, 3779136, 4478976, 5038848, 5668704, 6718464, 7558272, 10077696, 11337408, 13436928, 15116544, 20155392, 22674816, 30233088, 40310784, 45349632, 60466176, 90699264, 120932352, 181398528, 362797056]\n"
     ]
    }
   ],
   "source": [
    "print(table)"
   ]
  },
  {
   "cell_type": "code",
   "execution_count": 37,
   "metadata": {},
   "outputs": [
    {
     "name": "stdout",
     "output_type": "stream",
     "text": [
      "1297\n",
      "1621\n",
      "2269\n",
      "2593\n",
      "2917\n",
      "3889\n",
      "===============end===============\n"
     ]
    }
   ],
   "source": [
    "n=648 #2^3 * 3^4\n",
    "\n",
    "a = 1\n",
    "b = 0\n",
    "\n",
    "for i in range(10000):\n",
    "    q = (n/(2^a * 3^b)*i)+1\n",
    "\n",
    "    if q > 2^12:\n",
    "        print(\"===============end===============\");\n",
    "        break;\n",
    "    \n",
    "    if q in Primes():\n",
    "        print(q)"
   ]
  },
  {
   "cell_type": "code",
   "execution_count": 51,
   "metadata": {},
   "outputs": [],
   "source": [
    "a = 2593-1=32 * 81 = 2^5 * 3^4"
   ]
  },
  {
   "cell_type": "code",
   "execution_count": 54,
   "metadata": {},
   "outputs": [
    {
     "name": "stdout",
     "output_type": "stream",
     "text": [
      "1297\n",
      "2593\n",
      "3889\n",
      "===============end===============\n"
     ]
    }
   ],
   "source": [
    "n=648 #2^3 * 3^4\n",
    "\n",
    "a = 0\n",
    "b = 0\n",
    "\n",
    "for i in range(10000):\n",
    "    q = (n/(2^a * 3^b)*i)+1\n",
    "\n",
    "    if q > 2^12:\n",
    "        print(\"===============end===============\");\n",
    "        break;\n",
    "    \n",
    "    if q in Primes():\n",
    "        print(q)"
   ]
  },
  {
   "cell_type": "code",
   "execution_count": 55,
   "metadata": {},
   "outputs": [
    {
     "name": "stdout",
     "output_type": "stream",
     "text": [
      "1297\n",
      "1621\n",
      "2269\n",
      "2593\n",
      "2917\n",
      "3889\n",
      "===============end===============\n"
     ]
    }
   ],
   "source": [
    "n=648 #2^3 * 3^4\n",
    "\n",
    "a = 1\n",
    "b = 0\n",
    "\n",
    "for i in range(10000):\n",
    "    q = (n/(2^a * 3^b)*i)+1\n",
    "\n",
    "    if q > 2^12:\n",
    "        print(\"===============end===============\");\n",
    "        break;\n",
    "    \n",
    "    if q in Primes():\n",
    "        print(q)"
   ]
  },
  {
   "cell_type": "code",
   "execution_count": 56,
   "metadata": {},
   "outputs": [
    {
     "name": "stdout",
     "output_type": "stream",
     "text": [
      "433\n",
      "1297\n",
      "2161\n",
      "2377\n",
      "2593\n",
      "3457\n",
      "3673\n",
      "3889\n",
      "===============end===============\n"
     ]
    }
   ],
   "source": [
    "n=648 #2^3 * 3^4\n",
    "\n",
    "a = 0\n",
    "b = 1\n",
    "\n",
    "for i in range(10000):\n",
    "    q = (n/(2^a * 3^b)*i)+1\n",
    "\n",
    "    if q > 2^12:\n",
    "        print(\"===============end===============\");\n",
    "        break;\n",
    "    \n",
    "    if q in Primes():\n",
    "        print(q)"
   ]
  },
  {
   "cell_type": "code",
   "execution_count": 58,
   "metadata": {},
   "outputs": [
    {
     "name": "stdout",
     "output_type": "stream",
     "text": [
      "487\n",
      "1459\n",
      "2917\n",
      "3889\n",
      "===============end===============\n"
     ]
    }
   ],
   "source": [
    "n=486\n",
    "\n",
    "a = 0\n",
    "b = 0\n",
    "\n",
    "for i in range(10000):\n",
    "    q = (n/(2^a * 3^b)*i)+1\n",
    "\n",
    "    if q > 2^12:\n",
    "        print(\"===============end===============\");\n",
    "        break;\n",
    "    \n",
    "    if q in Primes():\n",
    "        print(q)"
   ]
  },
  {
   "cell_type": "code",
   "execution_count": 59,
   "metadata": {},
   "outputs": [
    {
     "name": "stdout",
     "output_type": "stream",
     "text": [
      "487\n",
      "1459\n",
      "2917\n",
      "3889\n",
      "===============end===============\n"
     ]
    }
   ],
   "source": [
    "n=486\n",
    "\n",
    "a = 1\n",
    "b = 0\n",
    "\n",
    "for i in range(10000):\n",
    "    q = (n/(2^a * 3^b)*i)+1\n",
    "\n",
    "    if q > 2^12:\n",
    "        print(\"===============end===============\");\n",
    "        break;\n",
    "    \n",
    "    if q in Primes():\n",
    "        print(q)"
   ]
  },
  {
   "cell_type": "code",
   "execution_count": 60,
   "metadata": {},
   "outputs": [
    {
     "name": "stdout",
     "output_type": "stream",
     "text": [
      "163\n",
      "487\n",
      "811\n",
      "1297\n",
      "1459\n",
      "1621\n",
      "1783\n",
      "2269\n",
      "2593\n",
      "2917\n",
      "3079\n",
      "3727\n",
      "3889\n",
      "4051\n",
      "===============end===============\n"
     ]
    }
   ],
   "source": [
    "n=486\n",
    "\n",
    "a = 0\n",
    "b = 1\n",
    "\n",
    "for i in range(10000):\n",
    "    q = (n/(2^a * 3^b)*i)+1\n",
    "\n",
    "    if q > 2^12:\n",
    "        print(\"===============end===============\");\n",
    "        break;\n",
    "    \n",
    "    if q in Primes():\n",
    "        print(q)"
   ]
  },
  {
   "cell_type": "code",
   "execution_count": 99,
   "metadata": {},
   "outputs": [
    {
     "name": "stdout",
     "output_type": "stream",
     "text": [
      "769\n",
      "7681\n",
      "10753\n",
      "12289\n",
      "14593\n",
      "15361\n",
      "===============end===============\n"
     ]
    }
   ],
   "source": [
    "n=768\n",
    "\n",
    "a = 0\n",
    "b = 0\n",
    "\n",
    "for i in range(10000):\n",
    "    q = (n/(2^a * 3^b)*i)+1\n",
    "\n",
    "    if q > 2^14:\n",
    "        print(\"===============end===============\");\n",
    "        break;\n",
    "    \n",
    "    if q in Primes():\n",
    "        print(q)"
   ]
  },
  {
   "cell_type": "code",
   "execution_count": 100,
   "metadata": {},
   "outputs": [
    {
     "name": "stdout",
     "output_type": "stream",
     "text": [
      "769\n",
      "1153\n",
      "2689\n",
      "3457\n",
      "4993\n",
      "6529\n",
      "7297\n",
      "7681\n",
      "9601\n",
      "10369\n",
      "10753\n",
      "12289\n",
      "13441\n",
      "14593\n",
      "15361\n",
      "===============end===============\n"
     ]
    }
   ],
   "source": [
    "n=768\n",
    "\n",
    "a = 1\n",
    "b = 0\n",
    "\n",
    "for i in range(10000):\n",
    "    q = (n/(2^a * 3^b)*i)+1\n",
    "\n",
    "    if q > 2^14:\n",
    "        print(\"===============end===============\");\n",
    "        break;\n",
    "    \n",
    "    if q in Primes():\n",
    "        print(q)"
   ]
  },
  {
   "cell_type": "code",
   "execution_count": 8,
   "metadata": {},
   "outputs": [
    {
     "name": "stdout",
     "output_type": "stream",
     "text": [
      "7681\n",
      "10753\n",
      "12289\n",
      "15361\n",
      "===============end===============\n"
     ]
    }
   ],
   "source": [
    "n=768\n",
    "\n",
    "a = \n",
    "b = 0\n",
    "\n",
    "for i in range(10000):\n",
    "    q = (n/(2^a * 3^b)*i)+1\n",
    "\n",
    "    if q > 2^14:\n",
    "        print(\"===============end===============\");\n",
    "        break;\n",
    "    \n",
    "    if q in Primes():\n",
    "        print(q)"
   ]
  },
  {
   "cell_type": "code",
   "execution_count": 23,
   "metadata": {},
   "outputs": [
    {
     "name": "stdout",
     "output_type": "stream",
     "text": [
      "1297\n",
      "1621\n",
      "2269\n",
      "2593\n",
      "2917\n",
      "3889\n",
      "4861\n",
      "6481\n",
      "7129\n",
      "8101\n",
      "9397\n",
      "9721\n",
      "10369\n",
      "12637\n",
      "13933\n",
      "15877\n",
      "===============end===============\n"
     ]
    }
   ],
   "source": [
    "n=972\n",
    "\n",
    "a = 0\n",
    "b = 1\n",
    "\n",
    "for i in range(10000):\n",
    "    q = (n/(2^a * 3^b)*i)+1\n",
    "\n",
    "    if q > 2^14:\n",
    "        print(\"===============end===============\");\n",
    "        break;\n",
    "    \n",
    "    if q in Primes():\n",
    "        print(q)"
   ]
  },
  {
   "cell_type": "code",
   "execution_count": 61,
   "metadata": {
    "scrolled": false
   },
   "outputs": [
    {
     "name": "stdout",
     "output_type": "stream",
     "text": [
      "433\n",
      "1297\n",
      "2161\n",
      "2593\n",
      "3457\n",
      "3889\n",
      "6481\n",
      "===============end===============\n"
     ]
    }
   ],
   "source": [
    "n=1296\n",
    "\n",
    "a = 0\n",
    "b = 1\n",
    "\n",
    "for i in range(10000):\n",
    "    q = (n/(2^a * 3^b)*i)+1\n",
    "\n",
    "    if q > 2^13:\n",
    "        print(\"===============end===============\");\n",
    "        break;\n",
    "    \n",
    "    if q in Primes():\n",
    "        print(q)"
   ]
  },
  {
   "cell_type": "code",
   "execution_count": 5,
   "metadata": {},
   "outputs": [
    {
     "name": "stdout",
     "output_type": "stream",
     "text": [
      "18433\n",
      "23041\n",
      "32257\n",
      "43777\n",
      "57601\n",
      "64513\n",
      "===============end===============\n"
     ]
    }
   ],
   "source": [
    "n=384\n",
    "\n",
    "a = 0\n",
    "b = 0\n",
    "\n",
    "for i in range(50000):\n",
    "    q = (6*n*i)+1\n",
    "\n",
    "    if q > 2^16:\n",
    "        print(\"===============end===============\");\n",
    "        break;\n",
    "    \n",
    "    if q in Primes():\n",
    "        print(q)"
   ]
  },
  {
   "cell_type": "code",
   "execution_count": 9,
   "metadata": {},
   "outputs": [
    {
     "name": "stdout",
     "output_type": "stream",
     "text": [
      "1153\n",
      "3457\n",
      "10369\n",
      "18433\n",
      "23041\n",
      "26497\n",
      "32257\n",
      "33409\n",
      "43777\n",
      "49537\n",
      "57601\n",
      "61057\n",
      "63361\n",
      "64513\n",
      "===============end===============\n"
     ]
    }
   ],
   "source": [
    "n=384\n",
    "\n",
    "a = 0\n",
    "b = 0\n",
    "\n",
    "for i in range(50000):\n",
    "    q = (3*n*i)+1\n",
    "\n",
    "    if q > 2^16:\n",
    "        print(\"===============end===============\");\n",
    "        break;\n",
    "    \n",
    "    if q in Primes():\n",
    "        print(q)"
   ]
  },
  {
   "cell_type": "code",
   "execution_count": null,
   "metadata": {},
   "outputs": [],
   "source": []
  }
 ],
 "metadata": {
  "kernelspec": {
   "display_name": "SageMath 9.3",
   "language": "sage",
   "name": "sagemath"
  },
  "language_info": {
   "codemirror_mode": {
    "name": "ipython",
    "version": 3
   },
   "file_extension": ".py",
   "mimetype": "text/x-python",
   "name": "python",
   "nbconvert_exporter": "python",
   "pygments_lexer": "ipython3",
   "version": "3.7.10"
  }
 },
 "nbformat": 4,
 "nbformat_minor": 4
}
