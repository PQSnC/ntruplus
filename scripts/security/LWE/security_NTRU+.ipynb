{
 "cells": [
  {
   "cell_type": "code",
   "execution_count": 1,
   "metadata": {},
   "outputs": [],
   "source": [
    "load('./MLWE_security.py')"
   ]
  },
  {
   "cell_type": "code",
   "execution_count": 2,
   "metadata": {},
   "outputs": [
    {
     "name": "stdout",
     "output_type": "stream",
     "text": [
      "NTRU+576\n",
      "Primal attacks uses block-size 399 and 477 samples; dim d=1054\n",
      "Primal & 477 & 399 & 116 & 105 & 82\n",
      "Dual attacks uses block-size 395 and 469 samples; dim d=1045\n",
      "shortest vector used has length l=5863.86, q=3457, `l<q'= 0\n",
      "log2(epsilon) = -40.97, log2 nvector per run 81.97\n",
      "Dual & 469 & 395 & 115 & 104 & 81 \n"
     ]
    },
    {
     "data": {
      "text/plain": [
       "(395, 115, 104, 81)"
      ]
     },
     "execution_count": 2,
     "metadata": {},
     "output_type": "execute_result"
    }
   ],
   "source": [
    "print(\"NTRU+576\")\n",
    "ps = MLWEParameterSet(576, 1, 1, 1, 3457, distr=\"binomial\")\n",
    "MLWE_summarize_attacks(ps)"
   ]
  },
  {
   "cell_type": "code",
   "execution_count": 3,
   "metadata": {},
   "outputs": [
    {
     "name": "stdout",
     "output_type": "stream",
     "text": [
      "NTRU+768\n",
      "Primal attacks uses block-size 560 and 628 samples; dim d=1397\n",
      "Primal & 628 & 560 & 163 & 148 & 116\n",
      "Dual attacks uses block-size 553 and 602 samples; dim d=1370\n",
      "shortest vector used has length l=7806.14, q=3889, `l<q'= 0\n",
      "log2(epsilon) = -57.37, log2 nvector per run 114.76\n",
      "Dual & 602 & 553 & 161 & 146 & 114 \n"
     ]
    },
    {
     "data": {
      "text/plain": [
       "(553, 161, 146, 114)"
      ]
     },
     "execution_count": 3,
     "metadata": {},
     "output_type": "execute_result"
    }
   ],
   "source": [
    "print(\"NTRU+768\")\n",
    "ps = MLWEParameterSet(768, 1, 1, 1, 3889, distr=\"binomial\")\n",
    "MLWE_summarize_attacks(ps)"
   ]
  },
  {
   "cell_type": "code",
   "execution_count": 4,
   "metadata": {},
   "outputs": [
    {
     "name": "stdout",
     "output_type": "stream",
     "text": [
      "NTRU+864\n",
      "Primal attacks uses block-size 655 and 708 samples; dim d=1573\n",
      "Primal & 708 & 655 & 191 & 173 & 135\n",
      "Dual attacks uses block-size 645 and 713 samples; dim d=1577\n",
      "shortest vector used has length l=7494.90, q=3457, `l<q'= 0\n",
      "log2(epsilon) = -66.93, log2 nvector per run 133.85\n",
      "Dual & 713 & 645 & 188 & 171 & 133 \n"
     ]
    },
    {
     "data": {
      "text/plain": [
       "(645, 188, 171, 133)"
      ]
     },
     "execution_count": 4,
     "metadata": {},
     "output_type": "execute_result"
    }
   ],
   "source": [
    "print(\"NTRU+864\")\n",
    "ps = MLWEParameterSet(864, 1, 1, 1, 3457, distr=\"binomial\")\n",
    "MLWE_summarize_attacks(ps)"
   ]
  },
  {
   "cell_type": "code",
   "execution_count": 5,
   "metadata": {},
   "outputs": [
    {
     "name": "stdout",
     "output_type": "stream",
     "text": [
      "NTRU+1152\n",
      "Primal attacks uses block-size 922 and 892 samples; dim d=2045\n",
      "Primal & 892 & 922 & 269 & 244 & 191\n",
      "Dual attacks uses block-size 905 and 857 samples; dim d=2009\n",
      "shortest vector used has length l=8877.68, q=3457, `l<q'= 0\n",
      "log2(epsilon) = -93.90, log2 nvector per run 187.80\n",
      "Dual & 857 & 905 & 264 & 240 & 187 \n"
     ]
    },
    {
     "data": {
      "text/plain": [
       "(905, 264, 240, 187)"
      ]
     },
     "execution_count": 5,
     "metadata": {},
     "output_type": "execute_result"
    }
   ],
   "source": [
    "print(\"NTRU+1152\")\n",
    "ps = MLWEParameterSet(1152, 1, 1, 1, 3457, distr=\"binomial\")\n",
    "MLWE_summarize_attacks(ps)"
   ]
  },
  {
   "cell_type": "code",
   "execution_count": null,
   "metadata": {},
   "outputs": [],
   "source": []
  }
 ],
 "metadata": {
  "kernelspec": {
   "display_name": "SageMath 9.3",
   "language": "sage",
   "name": "sagemath"
  },
  "language_info": {
   "codemirror_mode": {
    "name": "ipython",
    "version": 3
   },
   "file_extension": ".py",
   "mimetype": "text/x-python",
   "name": "python",
   "nbconvert_exporter": "python",
   "pygments_lexer": "ipython3",
   "version": "3.7.10"
  }
 },
 "nbformat": 4,
 "nbformat_minor": 4
}
