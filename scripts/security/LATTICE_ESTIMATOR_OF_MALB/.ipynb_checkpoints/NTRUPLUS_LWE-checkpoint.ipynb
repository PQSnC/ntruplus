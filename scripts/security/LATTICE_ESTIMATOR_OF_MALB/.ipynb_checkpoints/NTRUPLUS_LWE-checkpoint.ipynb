{
 "cells": [
  {
   "cell_type": "code",
   "execution_count": 1,
   "metadata": {},
   "outputs": [],
   "source": [
    "from functools import partial"
   ]
  },
  {
   "cell_type": "code",
   "execution_count": 2,
   "metadata": {},
   "outputs": [],
   "source": [
    "from estimator import *"
   ]
  },
  {
   "cell_type": "code",
   "execution_count": 3,
   "metadata": {},
   "outputs": [],
   "source": [
    "from estimator.nd import NoiseDistribution, stddevf"
   ]
  },
  {
   "cell_type": "code",
   "execution_count": 4,
   "metadata": {},
   "outputs": [],
   "source": [
    "from estimator.lwe_parameters import LWEParameters"
   ]
  },
  {
   "cell_type": "code",
   "execution_count": 5,
   "metadata": {},
   "outputs": [],
   "source": [
    "from estimator.reduction import ADPS16\n",
    "#from estimator.reduction import MATZOV"
   ]
  },
  {
   "cell_type": "code",
   "execution_count": 6,
   "metadata": {},
   "outputs": [],
   "source": [
    "Ccost=partial(ADPS16, mode=\"classical\")  #2^(0.292*b)"
   ]
  },
  {
   "cell_type": "code",
   "execution_count": 7,
   "metadata": {},
   "outputs": [],
   "source": [
    "# We modified the cost reduction model of ADPS16 in the original lattice estimator to support the cost model of [CL21].\n",
    "Qcost=partial(ADPS16, mode=\"quantum\")    #2^(0.257*b)"
   ]
  },
  {
   "cell_type": "markdown",
   "metadata": {},
   "source": [
    "NTRUPLUS"
   ]
  },
  {
   "cell_type": "code",
   "execution_count": 8,
   "metadata": {},
   "outputs": [],
   "source": [
    "NTRUPLUS576 = LWEParameters(n=576, q=3457, Xs=NoiseDistribution.CenteredBinomial(1), Xe=NoiseDistribution.CenteredBinomial(1), m=576, tag='NTRU+576')"
   ]
  },
  {
   "cell_type": "code",
   "execution_count": 9,
   "metadata": {},
   "outputs": [],
   "source": [
    "NTRUPLUS768 = LWEParameters(n=768, q=3457, Xs=NoiseDistribution.CenteredBinomial(1), Xe=NoiseDistribution.CenteredBinomial(1), m=768, tag='NTRU+768')"
   ]
  },
  {
   "cell_type": "code",
   "execution_count": 10,
   "metadata": {},
   "outputs": [],
   "source": [
    "NTRUPLUS864 = LWEParameters(n=864, q=3457, Xs=NoiseDistribution.CenteredBinomial(1), Xe=NoiseDistribution.CenteredBinomial(1), m=864, tag='NTRU+864')"
   ]
  },
  {
   "cell_type": "code",
   "execution_count": 11,
   "metadata": {},
   "outputs": [],
   "source": [
    "NTRUPLUS1152 = LWEParameters(n=1152, q=3457, Xs=NoiseDistribution.CenteredBinomial(1), Xe=NoiseDistribution.CenteredBinomial(1), m=1152, tag='NTRU+1152')"
   ]
  },
  {
   "cell_type": "code",
   "execution_count": 12,
   "metadata": {},
   "outputs": [
    {
     "name": "stdout",
     "output_type": "stream",
     "text": [
      "=====================Classical=====================\n",
      "bkw                  :: rop: ≈2^167.9, m: ≈2^155.8, mem: ≈2^156.8, b: 13, t1: 0, t2: 16, ℓ: 12, #cod: 492, #top: 0, #test: 85, tag: coded-bkw\n",
      "usvp                 :: rop: ≈2^115.9, red: ≈2^115.9, δ: 1.004003, β: 397, d: 1058, tag: usvp\n",
      "bdd                  :: rop: ≈2^116.9, red: ≈2^115.9, svp: ≈2^115.9, β: 397, η: 397, d: 1057, tag: bdd\n",
      "bdd_hybrid           :: rop: ≈2^116.9, red: ≈2^115.9, svp: ≈2^115.9, β: 397, η: 397, ζ: 0, |S|: 1, d: 1085, prob: 1, ↻: 1, tag: hybrid\n",
      "bdd_mitm_hybrid      :: rop: ≈2^193.2, red: ≈2^192.3, svp: ≈2^192.2, β: 397, η: 2, ζ: 145, |S|: ≈2^192.2, d: 940, prob: ≈2^-74.1, ↻: ≈2^76.3, tag: hybrid\n",
      "dual                 :: rop: ≈2^120.9, mem: ≈2^85.4, m: 524, β: 414, d: 1100, ↻: 1, tag: dual\n",
      "dual_hybrid          :: rop: ≈2^117.2, mem: ≈2^114.1, m: 512, β: 400, d: 1068, ↻: 1, ζ: 20, tag: dual_hybrid\n",
      "======================Quantum======================\n",
      "bkw                  :: rop: ≈2^167.9, m: ≈2^155.8, mem: ≈2^156.8, b: 13, t1: 0, t2: 16, ℓ: 12, #cod: 492, #top: 0, #test: 85, tag: coded-bkw\n",
      "usvp                 :: rop: ≈2^102.0, red: ≈2^102.0, δ: 1.004003, β: 397, d: 1058, tag: usvp\n",
      "bdd                  :: rop: ≈2^103.0, red: ≈2^102.0, svp: ≈2^102.0, β: 397, η: 397, d: 1057, tag: bdd\n",
      "bdd_hybrid           :: rop: ≈2^103.0, red: ≈2^102.0, svp: ≈2^102.0, β: 397, η: 397, ζ: 0, |S|: 1, d: 1085, prob: 1, ↻: 1, tag: hybrid\n",
      "bdd_mitm_hybrid      :: rop: ≈2^196.2, red: ≈2^195.3, svp: ≈2^195.0, β: 397, η: 2, ζ: 126, |S|: ≈2^163.8, d: 959, prob: ≈2^-91.1, ↻: ≈2^93.3, tag: hybrid\n",
      "dual                 :: rop: ≈2^106.4, mem: ≈2^85.4, m: 524, β: 414, d: 1100, ↻: 1, tag: dual\n",
      "dual_hybrid          :: rop: ≈2^105.0, mem: ≈2^100.2, m: 519, β: 408, d: 1085, ↻: 1, ζ: 10, tag: dual_hybrid\n"
     ]
    }
   ],
   "source": [
    "print(\"=====================Classical=====================\")\n",
    "r = LWE.estimate(NTRUPLUS576, red_cost_model = Ccost())\n",
    "print(\"======================Quantum======================\")\n",
    "r = LWE.estimate(NTRUPLUS576, red_cost_model = Qcost())\n",
    "#print(\"======================MATZOV=======================\")\n",
    "#r = LWE.estimate(NTRUPLUS576, red_cost_model = MATZOV())"
   ]
  },
  {
   "cell_type": "code",
   "execution_count": 13,
   "metadata": {},
   "outputs": [
    {
     "name": "stdout",
     "output_type": "stream",
     "text": [
      "=====================Classical=====================\n",
      "bkw                  :: rop: ≈2^215.4, m: ≈2^202.9, mem: ≈2^203.8, b: 17, t1: 0, t2: 16, ℓ: 16, #cod: 653, #top: 0, #test: 115, tag: coded-bkw\n",
      "usvp                 :: rop: ≈2^164.7, red: ≈2^164.7, δ: 1.003122, β: 564, d: 1398, tag: usvp\n",
      "bdd                  :: rop: ≈2^165.7, red: ≈2^164.4, svp: ≈2^165.0, β: 563, η: 565, d: 1398, tag: bdd\n",
      "bdd_hybrid           :: rop: ≈2^165.7, red: ≈2^164.4, svp: ≈2^165.0, β: 563, η: 565, ζ: 0, |S|: 1, d: 1417, prob: 1, ↻: 1, tag: hybrid\n",
      "bdd_mitm_hybrid      :: rop: ≈2^264.1, red: ≈2^263.2, svp: ≈2^263.1, β: 563, η: 2, ζ: 217, |S|: ≈2^287.6, d: 1200, prob: ≈2^-96.6, ↻: ≈2^98.8, tag: hybrid\n",
      "dual                 :: rop: ≈2^171.1, mem: ≈2^121.0, m: 669, β: 586, d: 1437, ↻: 1, tag: dual\n",
      "dual_hybrid          :: rop: ≈2^164.9, mem: ≈2^160.7, m: 651, β: 564, d: 1391, ↻: 1, ζ: 28, tag: dual_hybrid\n",
      "======================Quantum======================\n",
      "bkw                  :: rop: ≈2^215.4, m: ≈2^202.9, mem: ≈2^203.8, b: 17, t1: 0, t2: 16, ℓ: 16, #cod: 653, #top: 0, #test: 115, tag: coded-bkw\n",
      "usvp                 :: rop: ≈2^144.9, red: ≈2^144.9, δ: 1.003122, β: 564, d: 1398, tag: usvp\n",
      "bdd                  :: rop: ≈2^146.0, red: ≈2^144.7, svp: ≈2^145.2, β: 563, η: 565, d: 1398, tag: bdd\n",
      "bdd_hybrid           :: rop: ≈2^146.0, red: ≈2^144.7, svp: ≈2^145.2, β: 563, η: 565, ζ: 0, |S|: 1, d: 1417, prob: 1, ↻: 1, tag: hybrid\n",
      "bdd_mitm_hybrid      :: rop: ≈2^267.8, red: ≈2^266.9, svp: ≈2^266.8, β: 563, η: 2, ζ: 192, |S|: ≈2^248.1, d: 1225, prob: ≈2^-120.0, ↻: ≈2^122.2, tag: hybrid\n",
      "dual                 :: rop: ≈2^150.6, mem: ≈2^121.0, m: 669, β: 586, d: 1437, ↻: 1, tag: dual\n",
      "dual_hybrid          :: rop: ≈2^147.8, mem: ≈2^144.2, m: 659, β: 574, d: 1411, ↻: 1, ζ: 16, tag: dual_hybrid\n"
     ]
    }
   ],
   "source": [
    "print(\"=====================Classical=====================\")\n",
    "r = LWE.estimate(NTRUPLUS768, red_cost_model = Ccost())\n",
    "print(\"======================Quantum======================\")\n",
    "r = LWE.estimate(NTRUPLUS768, red_cost_model = Qcost())\n",
    "#print(\"======================MATZOV=======================\")\n",
    "#r = LWE.estimate(NTRUPLUS768, red_cost_model = MATZOV())"
   ]
  },
  {
   "cell_type": "code",
   "execution_count": 14,
   "metadata": {},
   "outputs": [
    {
     "name": "stdout",
     "output_type": "stream",
     "text": [
      "=====================Classical=====================\n",
      "bkw                  :: rop: ≈2^239.5, m: ≈2^226.4, mem: ≈2^227.4, b: 19, t1: 0, t2: 17, ℓ: 18, #cod: 739, #top: 1, #test: 124, tag: coded-bkw\n",
      "usvp                 :: rop: ≈2^189.8, red: ≈2^189.8, δ: 1.002817, β: 650, d: 1532, tag: usvp\n",
      "bdd                  :: rop: ≈2^190.7, red: ≈2^189.5, svp: ≈2^189.8, β: 649, η: 650, d: 1549, tag: bdd\n",
      "bdd_hybrid           :: rop: ≈2^190.7, red: ≈2^189.5, svp: ≈2^189.8, β: 649, η: 650, ζ: 0, |S|: 1, d: 1583, prob: 1, ↻: 1, tag: hybrid\n",
      "bdd_mitm_hybrid      :: rop: ≈2^300.0, red: ≈2^299.1, svp: ≈2^298.8, β: 649, η: 2, ζ: 243, |S|: ≈2^336.8, d: 1340, prob: ≈2^-107.4, ↻: ≈2^109.6, tag: hybrid\n",
      "dual                 :: rop: ≈2^196.5, mem: ≈2^139.4, m: 739, β: 673, d: 1603, ↻: 1, tag: dual\n",
      "dual_hybrid          :: rop: ≈2^189.2, mem: ≈2^185.4, m: 718, β: 647, d: 1549, ↻: 1, ζ: 33, tag: dual_hybrid\n",
      "======================Quantum======================\n",
      "bkw                  :: rop: ≈2^239.5, m: ≈2^226.4, mem: ≈2^227.4, b: 19, t1: 0, t2: 17, ℓ: 18, #cod: 739, #top: 1, #test: 124, tag: coded-bkw\n",
      "usvp                 :: rop: ≈2^167.1, red: ≈2^167.1, δ: 1.002817, β: 650, d: 1532, tag: usvp\n",
      "bdd                  :: rop: ≈2^167.9, red: ≈2^166.8, svp: ≈2^167.1, β: 649, η: 650, d: 1549, tag: bdd\n",
      "bdd_hybrid           :: rop: ≈2^167.9, red: ≈2^166.8, svp: ≈2^167.1, β: 649, η: 650, ζ: 0, |S|: 1, d: 1583, prob: 1, ↻: 1, tag: hybrid\n",
      "bdd_mitm_hybrid      :: rop: ≈2^303.6, red: ≈2^302.6, svp: ≈2^302.6, β: 649, η: 2, ζ: 229, |S|: ≈2^291.9, d: 1354, prob: ≈2^-133.6, ↻: ≈2^135.8, tag: hybrid\n",
      "dual                 :: rop: ≈2^173.0, mem: ≈2^139.4, m: 739, β: 673, d: 1603, ↻: 1, tag: dual\n",
      "dual_hybrid          :: rop: ≈2^169.6, mem: ≈2^166.2, m: 728, β: 659, d: 1573, ↻: 1, ζ: 19, tag: dual_hybrid\n"
     ]
    }
   ],
   "source": [
    "print(\"=====================Classical=====================\")\n",
    "r = LWE.estimate(NTRUPLUS864, red_cost_model = Ccost())\n",
    "print(\"======================Quantum======================\")\n",
    "r = LWE.estimate(NTRUPLUS864, red_cost_model = Qcost())\n",
    "#print(\"======================MATZOV=======================\")\n",
    "#r = LWE.estimate(NTRUPLUS864, red_cost_model = MATZOV())"
   ]
  },
  {
   "cell_type": "code",
   "execution_count": 15,
   "metadata": {},
   "outputs": [
    {
     "name": "stdout",
     "output_type": "stream",
     "text": [
      "=====================Classical=====================\n",
      "bkw                  :: rop: ≈2^310.2, m: ≈2^297.0, mem: ≈2^298.0, b: 25, t1: 0, t2: 17, ℓ: 24, #cod: 983, #top: 0, #test: 169, tag: coded-bkw\n",
      "usvp                 :: rop: ≈2^266.0, red: ≈2^266.0, δ: 1.002192, β: 911, d: 2015, tag: usvp\n",
      "bdd                  :: rop: ≈2^266.9, red: ≈2^266.0, svp: ≈2^265.7, β: 911, η: 910, d: 2035, tag: bdd\n",
      "bdd_hybrid           :: rop: ≈2^266.9, red: ≈2^266.0, svp: ≈2^265.7, β: 911, η: 910, ζ: 0, |S|: 1, d: 2072, prob: 1, ↻: 1, tag: hybrid\n",
      "bdd_mitm_hybrid      :: rop: ≈2^408.9, red: ≈2^407.9, svp: ≈2^407.8, β: 911, η: 2, ζ: 359, |S|: ≈2^488.8, d: 1713, prob: ≈2^-139.7, ↻: ≈2^141.9, tag: hybrid\n",
      "dual                 :: rop: ≈2^274.8, mem: ≈2^195.0, m: 944, β: 941, d: 2096, ↻: 1, tag: dual\n",
      "dual_hybrid          :: rop: ≈2^263.4, mem: ≈2^260.2, m: 915, β: 901, d: 2020, ↻: 1, ζ: 47, tag: dual_hybrid\n",
      "======================Quantum======================\n",
      "bkw                  :: rop: ≈2^310.2, m: ≈2^297.0, mem: ≈2^298.0, b: 25, t1: 0, t2: 17, ℓ: 24, #cod: 983, #top: 0, #test: 169, tag: coded-bkw\n",
      "usvp                 :: rop: ≈2^234.1, red: ≈2^234.1, δ: 1.002192, β: 911, d: 2015, tag: usvp\n",
      "bdd                  :: rop: ≈2^235.0, red: ≈2^234.1, svp: ≈2^233.9, β: 911, η: 910, d: 2035, tag: bdd\n",
      "bdd_hybrid           :: rop: ≈2^235.0, red: ≈2^234.1, svp: ≈2^233.9, β: 911, η: 910, ζ: 0, |S|: 1, d: 2072, prob: 1, ↻: 1, tag: hybrid\n",
      "bdd_mitm_hybrid      :: rop: ≈2^415.4, red: ≈2^414.4, svp: ≈2^414.4, β: 911, η: 2, ζ: 334, |S|: ≈2^425.1, d: 1738, prob: ≈2^-178.1, ↻: ≈2^180.3, tag: hybrid\n",
      "dual                 :: rop: ≈2^241.8, mem: ≈2^195.0, m: 944, β: 941, d: 2096, ↻: 1, tag: dual\n",
      "dual_hybrid          :: rop: ≈2^236.4, mem: ≈2^232.7, m: 928, β: 919, d: 2053, ↻: 1, ζ: 27, tag: dual_hybrid\n"
     ]
    }
   ],
   "source": [
    "print(\"=====================Classical=====================\")\n",
    "r = LWE.estimate(NTRUPLUS1152, red_cost_model = Ccost())\n",
    "print(\"======================Quantum======================\")\n",
    "r = LWE.estimate(NTRUPLUS1152, red_cost_model = Qcost())\n",
    "#print(\"======================MATZOV=======================\")\n",
    "#r = LWE.estimate(NTRUPLUS1152, red_cost_model = MATZOV())"
   ]
  },
  {
   "cell_type": "markdown",
   "metadata": {},
   "source": [
    "KYBER"
   ]
  },
  {
   "cell_type": "code",
   "execution_count": 16,
   "metadata": {},
   "outputs": [
    {
     "name": "stdout",
     "output_type": "stream",
     "text": [
      "=====================Classical=====================\n",
      "bkw                  :: rop: ≈2^178.8, m: ≈2^166.8, mem: ≈2^167.8, b: 14, t1: 0, t2: 16, ℓ: 13, #cod: 448, #top: 0, #test: 64, tag: coded-bkw\n",
      "usvp                 :: rop: ≈2^118.6, red: ≈2^118.6, δ: 1.003941, β: 406, d: 998, tag: usvp\n",
      "bdd                  :: rop: ≈2^119.6, red: ≈2^118.3, svp: ≈2^118.8, β: 405, η: 407, d: 999, tag: bdd\n",
      "bdd_hybrid           :: rop: ≈2^119.6, red: ≈2^118.3, svp: ≈2^118.8, β: 405, η: 407, ζ: 0, |S|: 1, d: 1025, prob: 1, ↻: 1, tag: hybrid\n",
      "bdd_mitm_hybrid      :: rop: ≈2^263.3, red: ≈2^262.4, svp: ≈2^262.2, β: 405, η: 2, ζ: 92, |S|: ≈2^196.7, d: 933, prob: ≈2^-141.9, ↻: ≈2^144.1, tag: hybrid\n",
      "dual                 :: rop: ≈2^123.8, mem: ≈2^88.0, m: 512, β: 424, d: 1024, ↻: 1, tag: dual\n",
      "dual_hybrid          :: rop: ≈2^121.9, mem: ≈2^116.8, m: 512, β: 417, d: 1013, ↻: 1, ζ: 11, tag: dual_hybrid\n",
      "======================Quantum======================\n",
      "bkw                  :: rop: ≈2^178.8, m: ≈2^166.8, mem: ≈2^167.8, b: 14, t1: 0, t2: 16, ℓ: 13, #cod: 448, #top: 0, #test: 64, tag: coded-bkw\n",
      "usvp                 :: rop: ≈2^104.3, red: ≈2^104.3, δ: 1.003941, β: 406, d: 998, tag: usvp\n",
      "bdd                  :: rop: ≈2^105.4, red: ≈2^104.1, svp: ≈2^104.6, β: 405, η: 407, d: 999, tag: bdd\n",
      "bdd_hybrid           :: rop: ≈2^105.4, red: ≈2^104.1, svp: ≈2^104.6, β: 405, η: 407, ζ: 0, |S|: 1, d: 1025, prob: 1, ↻: 1, tag: hybrid\n",
      "bdd_mitm_hybrid      :: rop: ≈2^251.4, red: ≈2^251.4, svp: ≈2^167.3, β: 405, η: 2, ζ: 0, |S|: 1, d: 1025, prob: ≈2^-145.1, ↻: ≈2^147.3, tag: hybrid\n",
      "dual                 :: rop: ≈2^109.0, mem: ≈2^88.0, m: 512, β: 424, d: 1024, ↻: 1, tag: dual\n",
      "dual_hybrid          :: rop: ≈2^108.5, mem: ≈2^101.5, m: 512, β: 422, d: 1019, ↻: 1, ζ: 5, tag: dual_hybrid\n"
     ]
    }
   ],
   "source": [
    "print(\"=====================Classical=====================\")\n",
    "r = LWE.estimate(schemes.Kyber512, red_cost_model = Ccost())\n",
    "print(\"======================Quantum======================\")\n",
    "r = LWE.estimate(schemes.Kyber512, red_cost_model = Qcost())\n",
    "#print(\"======================MATZOV=======================\")\n",
    "#r = LWE.estimate(schemes.Kyber512, red_cost_model = MATZOV())"
   ]
  },
  {
   "cell_type": "code",
   "execution_count": 17,
   "metadata": {},
   "outputs": [
    {
     "name": "stdout",
     "output_type": "stream",
     "text": [
      "=====================Classical=====================\n",
      "bkw                  :: rop: ≈2^238.3, m: ≈2^225.5, mem: ≈2^226.5, b: 19, t1: 1, t2: 17, ℓ: 18, #cod: 653, #top: 1, #test: 95, tag: coded-bkw\n",
      "usvp                 :: rop: ≈2^182.2, red: ≈2^182.2, δ: 1.002902, β: 624, d: 1427, tag: usvp\n",
      "bdd                  :: rop: ≈2^183.1, red: ≈2^181.9, svp: ≈2^182.2, β: 623, η: 624, d: 1450, tag: bdd\n",
      "bdd_hybrid           :: rop: ≈2^183.1, red: ≈2^181.9, svp: ≈2^182.2, β: 623, η: 624, ζ: 0, |S|: 1, d: 1467, prob: 1, ↻: 1, tag: hybrid\n",
      "bdd_mitm_hybrid      :: rop: ≈2^362.4, red: ≈2^361.6, svp: ≈2^361.3, β: 623, η: 2, ζ: 168, |S|: ≈2^321.9, d: 1299, prob: ≈2^-177.5, ↻: ≈2^179.7, tag: hybrid\n",
      "dual                 :: rop: ≈2^189.2, mem: ≈2^133.4, m: 719, β: 648, d: 1487, ↻: 1, tag: dual\n",
      "dual_hybrid          :: rop: ≈2^184.3, mem: ≈2^180.8, m: 705, β: 630, d: 1451, ↻: 1, ζ: 22, tag: dual_hybrid\n",
      "======================Quantum======================\n",
      "bkw                  :: rop: ≈2^238.3, m: ≈2^225.5, mem: ≈2^226.5, b: 19, t1: 1, t2: 17, ℓ: 18, #cod: 653, #top: 1, #test: 95, tag: coded-bkw\n",
      "usvp                 :: rop: ≈2^160.4, red: ≈2^160.4, δ: 1.002902, β: 624, d: 1427, tag: usvp\n",
      "bdd                  :: rop: ≈2^161.2, red: ≈2^160.1, svp: ≈2^160.4, β: 623, η: 624, d: 1450, tag: bdd\n",
      "bdd_hybrid           :: rop: ≈2^161.2, red: ≈2^160.1, svp: ≈2^160.4, β: 623, η: 624, ζ: 0, |S|: 1, d: 1467, prob: 1, ↻: 1, tag: hybrid\n",
      "bdd_mitm_hybrid      :: rop: ≈2^369.0, red: ≈2^368.1, svp: ≈2^367.8, β: 623, η: 2, ζ: 170, |S|: ≈2^278.3, d: 1297, prob: ≈2^-205.8, ↻: ≈2^208.0, tag: hybrid\n",
      "dual                 :: rop: ≈2^166.5, mem: ≈2^133.4, m: 719, β: 648, d: 1487, ↻: 1, tag: dual\n",
      "dual_hybrid          :: rop: ≈2^164.4, mem: ≈2^159.9, m: 712, β: 639, d: 1468, ↻: 1, ζ: 12, tag: dual_hybrid\n"
     ]
    }
   ],
   "source": [
    "print(\"=====================Classical=====================\")\n",
    "r = LWE.estimate(schemes.Kyber768, red_cost_model = Ccost())\n",
    "print(\"======================Quantum======================\")\n",
    "r = LWE.estimate(schemes.Kyber768, red_cost_model = Qcost())\n",
    "#print(\"======================MATZOV=======================\")\n",
    "#r = LWE.estimate(schemes.Kyber768, red_cost_model = MATZOV())"
   ]
  },
  {
   "cell_type": "code",
   "execution_count": 18,
   "metadata": {},
   "outputs": [
    {
     "name": "stdout",
     "output_type": "stream",
     "text": [
      "=====================Classical=====================\n",
      "bkw                  :: rop: ≈2^315.0, m: ≈2^301.0, mem: ≈2^296.7, b: 25, t1: 0, t2: 18, ℓ: 24, #cod: 897, #top: 0, #test: 129, tag: coded-bkw\n",
      "usvp                 :: rop: ≈2^255.2, red: ≈2^255.2, δ: 1.002262, β: 874, d: 1867, tag: usvp\n",
      "bdd                  :: rop: ≈2^256.1, red: ≈2^254.9, svp: ≈2^255.2, β: 873, η: 874, d: 1885, tag: bdd\n",
      "bdd_hybrid           :: rop: ≈2^256.1, red: ≈2^254.9, svp: ≈2^255.2, β: 873, η: 874, ζ: 0, |S|: 1, d: 1918, prob: 1, ↻: 1, tag: hybrid\n",
      "bdd_mitm_hybrid      :: rop: ≈2^502.5, red: ≈2^501.6, svp: ≈2^501.4, β: 873, η: 2, ζ: 257, |S|: ≈2^466.7, d: 1661, prob: ≈2^-244.5, ↻: ≈2^246.7, tag: hybrid\n",
      "dual                 :: rop: ≈2^264.0, mem: ≈2^187.4, m: 918, β: 904, d: 1942, ↻: 1, tag: dual\n",
      "dual_hybrid          :: rop: ≈2^256.4, mem: ≈2^253.0, m: 898, β: 877, d: 1891, ↻: 1, ζ: 31, tag: dual_hybrid\n",
      "======================Quantum======================\n",
      "bkw                  :: rop: ≈2^315.0, m: ≈2^301.0, mem: ≈2^296.7, b: 25, t1: 0, t2: 18, ℓ: 24, #cod: 897, #top: 0, #test: 129, tag: coded-bkw\n",
      "usvp                 :: rop: ≈2^224.6, red: ≈2^224.6, δ: 1.002262, β: 874, d: 1867, tag: usvp\n",
      "bdd                  :: rop: ≈2^225.5, red: ≈2^224.4, svp: ≈2^224.6, β: 873, η: 874, d: 1885, tag: bdd\n",
      "bdd_hybrid           :: rop: ≈2^225.5, red: ≈2^224.4, svp: ≈2^224.6, β: 873, η: 874, ζ: 0, |S|: 1, d: 1918, prob: 1, ↻: 1, tag: hybrid\n",
      "bdd_mitm_hybrid      :: rop: ≈2^517.4, red: ≈2^516.7, svp: ≈2^516.2, β: 873, η: 2, ζ: 258, |S|: ≈2^404.9, d: 1660, prob: ≈2^-290.1, ↻: ≈2^292.3, tag: hybrid\n",
      "dual                 :: rop: ≈2^232.3, mem: ≈2^187.4, m: 918, β: 904, d: 1942, ↻: 1, tag: dual\n",
      "dual_hybrid          :: rop: ≈2^228.8, mem: ≈2^224.1, m: 908, β: 890, d: 1915, ↻: 1, ζ: 17, tag: dual_hybrid\n"
     ]
    }
   ],
   "source": [
    "print(\"=====================Classical=====================\")\n",
    "r = LWE.estimate(schemes.Kyber1024, red_cost_model = Ccost())\n",
    "print(\"======================Quantum======================\")\n",
    "r = LWE.estimate(schemes.Kyber1024, red_cost_model = Qcost())\n",
    "#print(\"======================MATZOV=======================\")\n",
    "#r = LWE.estimate(schemes.Kyber1024, red_cost_model = MATZOV())"
   ]
  },
  {
   "cell_type": "markdown",
   "metadata": {},
   "source": [
    "NTRU"
   ]
  },
  {
   "cell_type": "code",
   "execution_count": 20,
   "metadata": {},
   "outputs": [
    {
     "name": "stdout",
     "output_type": "stream",
     "text": [
      "=====================Classical=====================\n",
      "bkw                  :: rop: ≈2^156.0, m: ≈2^143.0, mem: ≈2^136.1, b: 12, t1: 1, t2: 16, ℓ: 11, #cod: 425, #top: 0, #test: 72, tag: coded-bkw\n",
      "usvp                 :: rop: ≈2^108.9, red: ≈2^108.9, δ: 1.004179, β: 373, d: 929, tag: usvp\n",
      "bdd                  :: rop: ≈2^109.9, red: ≈2^108.9, svp: ≈2^108.9, β: 373, η: 373, d: 928, tag: bdd\n",
      "bdd_hybrid           :: rop: ≈2^109.9, red: ≈2^108.9, svp: ≈2^108.9, β: 373, η: 373, ζ: 0, |S|: 1, d: 965, prob: 1, ↻: 1, tag: hybrid\n",
      "bdd_mitm_hybrid      :: rop: ≈2^183.1, red: ≈2^182.2, svp: ≈2^182.0, β: 373, η: 2, ζ: 135, |S|: ≈2^178.5, d: 830, prob: ≈2^-71.1, ↻: ≈2^73.3, tag: hybrid\n",
      "dual                 :: rop: ≈2^114.2, mem: ≈2^80.0, m: 463, β: 391, d: 971, ↻: 1, tag: dual\n",
      "dual_hybrid          :: rop: ≈2^109.7, mem: ≈2^105.3, m: 450, β: 375, d: 937, ↻: 1, ζ: 21, tag: dual_hybrid\n",
      "======================Quantum======================\n",
      "bkw                  :: rop: ≈2^156.0, m: ≈2^143.0, mem: ≈2^136.1, b: 12, t1: 1, t2: 16, ℓ: 11, #cod: 425, #top: 0, #test: 72, tag: coded-bkw\n",
      "usvp                 :: rop: ≈2^95.9, red: ≈2^95.9, δ: 1.004179, β: 373, d: 929, tag: usvp\n",
      "bdd                  :: rop: ≈2^96.9, red: ≈2^95.9, svp: ≈2^95.9, β: 373, η: 373, d: 928, tag: bdd\n",
      "bdd_hybrid           :: rop: ≈2^96.9, red: ≈2^95.9, svp: ≈2^95.9, β: 373, η: 373, ζ: 0, |S|: 1, d: 965, prob: 1, ↻: 1, tag: hybrid\n",
      "bdd_mitm_hybrid      :: rop: ≈2^185.3, red: ≈2^184.4, svp: ≈2^184.3, β: 373, η: 2, ζ: 123, |S|: ≈2^152.6, d: 842, prob: ≈2^-86.3, ↻: ≈2^88.5, tag: hybrid\n",
      "dual                 :: rop: ≈2^100.5, mem: ≈2^80.0, m: 463, β: 391, d: 971, ↻: 1, tag: dual\n",
      "dual_hybrid          :: rop: ≈2^98.5, mem: ≈2^95.0, m: 456, β: 382, d: 951, ↻: 1, ζ: 13, tag: dual_hybrid\n"
     ]
    }
   ],
   "source": [
    "print(\"=====================Classical=====================\")\n",
    "r = LWE.estimate(schemes.NTRUHPS2048509Enc, red_cost_model = Ccost())\n",
    "print(\"======================Quantum======================\")\n",
    "r = LWE.estimate(schemes.NTRUHPS2048509Enc, red_cost_model = Qcost())\n",
    "#print(\"======================MATZOV=======================\")\n",
    "#r = LWE.estimate(schemes.NTRUHPS2048509Enc, red_cost_model = MATZOV())"
   ]
  },
  {
   "cell_type": "code",
   "execution_count": 21,
   "metadata": {},
   "outputs": [
    {
     "name": "stdout",
     "output_type": "stream",
     "text": [
      "=====================Classical=====================\n",
      "bkw                  :: rop: ≈2^197.9, m: ≈2^185.3, mem: ≈2^186.2, b: 14, t1: 0, t2: 19, ℓ: 13, #cod: 611, #top: 0, #test: 91, tag: coded-bkw\n",
      "usvp                 :: rop: ≈2^137.5, red: ≈2^137.5, δ: 1.003551, β: 471, d: 1283, tag: usvp\n",
      "bdd                  :: rop: ≈2^138.3, red: ≈2^137.5, svp: ≈2^136.9, β: 471, η: 469, d: 1319, tag: bdd\n",
      "bdd_hybrid           :: rop: ≈2^138.3, red: ≈2^137.5, svp: ≈2^136.9, β: 471, η: 469, ζ: 0, |S|: 1, d: 1335, prob: 1, ↻: 1, tag: hybrid\n",
      "bdd_mitm_hybrid      :: rop: ≈2^235.5, red: ≈2^234.5, svp: ≈2^234.5, β: 471, η: 2, ζ: 148, |S|: ≈2^234.2, d: 1187, prob: ≈2^-94.8, ↻: ≈2^97.0, tag: hybrid\n",
      "dual                 :: rop: ≈2^142.5, mem: ≈2^101.0, m: 651, β: 488, d: 1351, ↻: 1, tag: dual\n",
      "dual_hybrid          :: rop: ≈2^138.0, mem: ≈2^133.6, m: 636, β: 472, d: 1313, ↻: 1, ζ: 23, tag: dual_hybrid\n",
      "======================Quantum======================\n",
      "bkw                  :: rop: ≈2^197.9, m: ≈2^185.3, mem: ≈2^186.2, b: 14, t1: 0, t2: 19, ℓ: 13, #cod: 611, #top: 0, #test: 91, tag: coded-bkw\n",
      "usvp                 :: rop: ≈2^121.0, red: ≈2^121.0, δ: 1.003551, β: 471, d: 1283, tag: usvp\n",
      "bdd                  :: rop: ≈2^121.8, red: ≈2^121.0, svp: ≈2^120.5, β: 471, η: 469, d: 1319, tag: bdd\n",
      "bdd_hybrid           :: rop: ≈2^121.8, red: ≈2^121.0, svp: ≈2^120.5, β: 471, η: 469, ζ: 0, |S|: 1, d: 1335, prob: 1, ↻: 1, tag: hybrid\n",
      "bdd_mitm_hybrid      :: rop: ≈2^243.5, red: ≈2^242.5, svp: ≈2^242.5, β: 471, η: 2, ζ: 127, |S|: ≈2^201.1, d: 1208, prob: ≈2^-119.3, ↻: ≈2^121.5, tag: hybrid\n",
      "dual                 :: rop: ≈2^125.4, mem: ≈2^101.0, m: 651, β: 488, d: 1351, ↻: 1, tag: dual\n",
      "dual_hybrid          :: rop: ≈2^123.5, mem: ≈2^119.4, m: 644, β: 480, d: 1331, ↻: 1, ζ: 13, tag: dual_hybrid\n"
     ]
    }
   ],
   "source": [
    "print(\"=====================Classical=====================\")\n",
    "r = LWE.estimate(schemes.NTRUHRSS701Enc, red_cost_model = Ccost())\n",
    "print(\"======================Quantum======================\")\n",
    "r = LWE.estimate(schemes.NTRUHRSS701Enc, red_cost_model = Qcost())\n",
    "#print(\"======================MATZOV=======================\")\n",
    "#r = LWE.estimate(schemes.NTRUHPS2048509Enc, red_cost_model = MATZOV())"
   ]
  },
  {
   "cell_type": "code",
   "execution_count": 22,
   "metadata": {},
   "outputs": [
    {
     "name": "stdout",
     "output_type": "stream",
     "text": [
      "=====================Classical=====================\n",
      "Algorithm functools.partial(<function dual_hybrid at 0x7f0ff25f4d30>, red_cost_model=<estimator.reduction.ADPS16 object at 0x7f0fb4a7ffd0>, mitm_optimization=True) on LWEParameters(n=676, q=2048, Xs=D(σ=0.61), Xe=D(σ=0.82), m=676, tag='NTRUHPS2048677Enc') failed with β = 79 > d = 61\n",
      "arora-gb             :: rop: ≈2^933.7, dreg: 82, mem: ≈2^603.0, t: 1, m: ≈2^340.1, tag: arora-gb, ↻: ≈2^330.7, ζ: 316, |S|: ≈2^93.5, prop: ≈2^-235.0\n",
      "bkw                  :: rop: ≈2^191.0, m: ≈2^178.8, mem: ≈2^179.8, b: 16, t1: 0, t2: 14, ℓ: 15, #cod: 565, #top: 0, #test: 113, tag: coded-bkw\n",
      "usvp                 :: rop: ≈2^150.7, red: ≈2^150.7, δ: 1.003328, β: 516, d: 1186, tag: usvp\n",
      "bdd                  :: rop: ≈2^151.5, red: ≈2^150.4, svp: ≈2^150.7, β: 515, η: 516, d: 1205, tag: bdd\n",
      "bdd_hybrid           :: rop: ≈2^151.7, red: ≈2^150.4, svp: ≈2^151.0, β: 515, η: 517, ζ: 0, |S|: 1, d: 1246, prob: 1, ↻: 1, tag: hybrid\n",
      "bdd_mitm_hybrid      :: rop: ≈2^222.3, red: ≈2^221.3, svp: ≈2^221.3, β: 515, η: 2, ζ: 234, |S|: ≈2^260.7, d: 1012, prob: ≈2^-68.8, ↻: ≈2^71.0, tag: hybrid\n",
      "dual                 :: rop: ≈2^156.8, mem: ≈2^111.4, m: 564, β: 537, d: 1240, ↻: 1, tag: dual\n",
      "dual_hybrid          :: rop: ≈2^154.1, mem: ≈2^144.8, m: 543, β: 508, d: 1183, ↻: 45, ζ: 36, h1: 11, tag: dual_hybrid\n",
      "======================Quantum======================\n",
      "Algorithm functools.partial(<function dual_hybrid at 0x7f0ff25f4d30>, red_cost_model=<estimator.reduction.ADPS16 object at 0x7f0f975370d0>, mitm_optimization=True) on LWEParameters(n=676, q=2048, Xs=D(σ=0.61), Xe=D(σ=0.82), m=676, tag='NTRUHPS2048677Enc') failed with β = 79 > d = 61\n",
      "arora-gb             :: rop: ≈2^933.7, dreg: 82, mem: ≈2^603.0, t: 1, m: ≈2^340.1, tag: arora-gb, ↻: ≈2^330.7, ζ: 316, |S|: ≈2^93.5, prop: ≈2^-235.0\n",
      "bkw                  :: rop: ≈2^191.0, m: ≈2^178.8, mem: ≈2^179.8, b: 16, t1: 0, t2: 14, ℓ: 15, #cod: 565, #top: 0, #test: 113, tag: coded-bkw\n",
      "usvp                 :: rop: ≈2^132.6, red: ≈2^132.6, δ: 1.003328, β: 516, d: 1186, tag: usvp\n",
      "bdd                  :: rop: ≈2^133.5, red: ≈2^132.4, svp: ≈2^132.6, β: 515, η: 516, d: 1205, tag: bdd\n",
      "bdd_hybrid           :: rop: ≈2^133.6, red: ≈2^132.4, svp: ≈2^132.9, β: 515, η: 517, ζ: 0, |S|: 1, d: 1246, prob: 1, ↻: 1, tag: hybrid\n",
      "bdd_mitm_hybrid      :: rop: ≈2^220.4, red: ≈2^219.5, svp: ≈2^219.4, β: 515, η: 2, ζ: 220, |S|: ≈2^224.5, d: 1026, prob: ≈2^-84.9, ↻: ≈2^87.1, tag: hybrid\n",
      "dual                 :: rop: ≈2^138.0, mem: ≈2^111.4, m: 564, β: 537, d: 1240, ↻: 1, tag: dual\n",
      "dual_hybrid          :: rop: ≈2^139.0, mem: ≈2^130.9, m: 553, β: 522, d: 1209, ↻: 23, ζ: 20, h1: 7, tag: dual_hybrid\n"
     ]
    }
   ],
   "source": [
    "print(\"=====================Classical=====================\")\n",
    "r = LWE.estimate(schemes.NTRUHPS2048677Enc, red_cost_model = Ccost())\n",
    "print(\"======================Quantum======================\")\n",
    "r = LWE.estimate(schemes.NTRUHPS2048677Enc, red_cost_model = Qcost())\n",
    "#print(\"======================MATZOV=======================\")\n",
    "#r = LWE.estimate(schemes.NTRUHPS2048677Enc, red_cost_model = MATZOV())"
   ]
  },
  {
   "cell_type": "code",
   "execution_count": 23,
   "metadata": {},
   "outputs": [
    {
     "name": "stdout",
     "output_type": "stream",
     "text": [
      "=====================Classical=====================\n",
      "Algorithm functools.partial(<function dual_hybrid at 0x7f0ff25f4d30>, red_cost_model=<estimator.reduction.ADPS16 object at 0x7f0f97537370>, mitm_optimization=True) on LWEParameters(n=820, q=4096, Xs=D(σ=0.79), Xe=D(σ=0.82), m=820, tag='NTRUHPS4096821Enc') failed with β = 71 > d = 63\n",
      "bkw                  :: rop: ≈2^232.0, m: ≈2^219.2, mem: ≈2^220.2, b: 18, t1: 0, t2: 18, ℓ: 17, #cod: 711, #top: 0, #test: 111, tag: coded-bkw\n",
      "usvp                 :: rop: ≈2^180.5, red: ≈2^180.5, δ: 1.002922, β: 618, d: 1498, tag: usvp\n",
      "bdd                  :: rop: ≈2^181.5, red: ≈2^180.2, svp: ≈2^180.7, β: 617, η: 619, d: 1499, tag: bdd\n",
      "bdd_hybrid           :: rop: ≈2^181.5, red: ≈2^180.2, svp: ≈2^180.7, β: 617, η: 619, ζ: 0, |S|: 1, d: 1529, prob: 1, ↻: 1, tag: hybrid\n",
      "bdd_mitm_hybrid      :: rop: ≈2^302.0, red: ≈2^301.1, svp: ≈2^301.0, β: 617, η: 2, ζ: 205, |S|: ≈2^318.7, d: 1324, prob: ≈2^-118.7, ↻: ≈2^120.9, tag: hybrid\n",
      "dual                 :: rop: ≈2^187.2, mem: ≈2^132.0, m: 727, β: 641, d: 1547, ↻: 1, tag: dual\n",
      "dual_hybrid          :: rop: ≈2^179.6, mem: ≈2^176.3, m: 705, β: 614, d: 1492, ↻: 1, ζ: 33, tag: dual_hybrid\n",
      "======================Quantum======================\n",
      "Algorithm functools.partial(<function dual_hybrid at 0x7f0ff25f4d30>, red_cost_model=<estimator.reduction.ADPS16 object at 0x7f0f8b1a5780>, mitm_optimization=True) on LWEParameters(n=820, q=4096, Xs=D(σ=0.79), Xe=D(σ=0.82), m=820, tag='NTRUHPS4096821Enc') failed with β = 71 > d = 63\n",
      "bkw                  :: rop: ≈2^232.0, m: ≈2^219.2, mem: ≈2^220.2, b: 18, t1: 0, t2: 18, ℓ: 17, #cod: 711, #top: 0, #test: 111, tag: coded-bkw\n",
      "usvp                 :: rop: ≈2^158.8, red: ≈2^158.8, δ: 1.002922, β: 618, d: 1498, tag: usvp\n",
      "bdd                  :: rop: ≈2^159.8, red: ≈2^158.6, svp: ≈2^159.1, β: 617, η: 619, d: 1499, tag: bdd\n",
      "bdd_hybrid           :: rop: ≈2^159.8, red: ≈2^158.6, svp: ≈2^159.1, β: 617, η: 619, ζ: 0, |S|: 1, d: 1529, prob: 1, ↻: 1, tag: hybrid\n",
      "bdd_mitm_hybrid      :: rop: ≈2^313.3, red: ≈2^312.3, svp: ≈2^312.2, β: 617, η: 2, ζ: 179, |S|: ≈2^275.2, d: 1350, prob: ≈2^-151.6, ↻: ≈2^153.8, tag: hybrid\n",
      "dual                 :: rop: ≈2^164.7, mem: ≈2^132.0, m: 727, β: 641, d: 1547, ↻: 1, tag: dual\n",
      "dual_hybrid          :: rop: ≈2^161.2, mem: ≈2^157.6, m: 714, β: 626, d: 1514, ↻: 1, ζ: 20, tag: dual_hybrid\n"
     ]
    }
   ],
   "source": [
    "print(\"=====================Classical=====================\")\n",
    "r = LWE.estimate(schemes.NTRUHPS4096821Enc, red_cost_model = Ccost())\n",
    "print(\"======================Quantum======================\")\n",
    "r = LWE.estimate(schemes.NTRUHPS4096821Enc, red_cost_model = Qcost())\n",
    "#print(\"======================MATZOV=======================\")\n",
    "#r = LWE.estimate(schemes.NTRUHPS2048509Enc, red_cost_model = MATZOV())"
   ]
  },
  {
   "cell_type": "code",
   "execution_count": null,
   "metadata": {},
   "outputs": [],
   "source": []
  },
  {
   "cell_type": "code",
   "execution_count": null,
   "metadata": {},
   "outputs": [],
   "source": []
  }
 ],
 "metadata": {
  "kernelspec": {
   "display_name": "SageMath 9.5",
   "language": "sage",
   "name": "sagemath"
  },
  "language_info": {
   "codemirror_mode": {
    "name": "ipython",
    "version": 3
   },
   "file_extension": ".py",
   "mimetype": "text/x-python",
   "name": "python",
   "nbconvert_exporter": "python",
   "pygments_lexer": "ipython3",
   "version": "3.10.12"
  }
 },
 "nbformat": 4,
 "nbformat_minor": 4
}
