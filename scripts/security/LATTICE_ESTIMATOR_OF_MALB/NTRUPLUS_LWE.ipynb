{
 "cells": [
  {
   "cell_type": "code",
   "execution_count": 10,
   "metadata": {},
   "outputs": [],
   "source": [
    "from functools import partial"
   ]
  },
  {
   "cell_type": "code",
   "execution_count": 11,
   "metadata": {},
   "outputs": [],
   "source": [
    "from estimator import *"
   ]
  },
  {
   "cell_type": "code",
   "execution_count": 12,
   "metadata": {},
   "outputs": [],
   "source": [
    "from estimator.nd import NoiseDistribution, stddevf"
   ]
  },
  {
   "cell_type": "code",
   "execution_count": 13,
   "metadata": {},
   "outputs": [],
   "source": [
    "from estimator.lwe_parameters import LWEParameters"
   ]
  },
  {
   "cell_type": "code",
   "execution_count": 14,
   "metadata": {},
   "outputs": [],
   "source": [
    "from estimator.reduction import ADPS16\n",
    "from estimator.reduction import MATZOV"
   ]
  },
  {
   "cell_type": "code",
   "execution_count": 15,
   "metadata": {},
   "outputs": [],
   "source": [
    "Qcost=partial(ADPS16, mode=\"quantum\")\n",
    "Ccost=partial(ADPS16, mode=\"classical\")"
   ]
  },
  {
   "cell_type": "code",
   "execution_count": 7,
   "metadata": {},
   "outputs": [],
   "source": [
    "NTRUPLUS576 = LWEParameters(n=576, q=3457, Xs=NoiseDistribution.CenteredBinomial(1), Xe=NoiseDistribution.CenteredBinomial(1), m=576, tag='NTRU+576')"
   ]
  },
  {
   "cell_type": "code",
   "execution_count": 8,
   "metadata": {},
   "outputs": [],
   "source": [
    "NTRUPLUS768 = LWEParameters(n=768, q=3457, Xs=NoiseDistribution.CenteredBinomial(1), Xe=NoiseDistribution.CenteredBinomial(1), m=768, tag='NTRU+768')"
   ]
  },
  {
   "cell_type": "code",
   "execution_count": 9,
   "metadata": {},
   "outputs": [],
   "source": [
    "NTRUPLUS864 = LWEParameters(n=864, q=3457, Xs=NoiseDistribution.CenteredBinomial(1), Xe=NoiseDistribution.CenteredBinomial(1), m=864, tag='NTRU+864')"
   ]
  },
  {
   "cell_type": "code",
   "execution_count": 10,
   "metadata": {},
   "outputs": [],
   "source": [
    "NTRUPLUS1152 = LWEParameters(n=1152, q=3457, Xs=NoiseDistribution.CenteredBinomial(1), Xe=NoiseDistribution.CenteredBinomial(1), m=1152, tag='NTRU+1152')"
   ]
  },
  {
   "cell_type": "code",
   "execution_count": 31,
   "metadata": {},
   "outputs": [
    {
     "name": "stdout",
     "output_type": "stream",
     "text": [
      "======================Quantum======================\n",
      "bkw                  :: rop: ≈2^167.9, m: ≈2^155.8, mem: ≈2^156.8, b: 13, t1: 0, t2: 16, ℓ: 12, #cod: 492, #top: 0, #test: 85, tag: coded-bkw\n",
      "usvp                 :: rop: ≈2^105.2, red: ≈2^105.2, δ: 1.004003, β: 397, d: 1058, tag: usvp\n",
      "bdd                  :: rop: ≈2^106.2, red: ≈2^105.2, svp: ≈2^105.2, β: 397, η: 397, d: 1057, tag: bdd\n",
      "bdd_hybrid           :: rop: ≈2^106.2, red: ≈2^105.2, svp: ≈2^105.2, β: 397, η: 397, ζ: 0, |S|: 1, d: 1085, prob: 1, ↻: 1, tag: hybrid\n",
      "bdd_mitm_hybrid      :: rop: ≈2^196.2, red: ≈2^195.2, svp: ≈2^195.1, β: 397, η: 2, ζ: 144, |S|: ≈2^170.6, d: 941, prob: ≈2^-87.8, ↻: ≈2^90.0, tag: hybrid\n",
      "dual                 :: rop: ≈2^109.7, mem: ≈2^85.4, m: 524, β: 414, d: 1100, ↻: 1, tag: dual\n",
      "dual_hybrid          :: rop: ≈2^107.8, mem: ≈2^104.0, m: 517, β: 406, d: 1080, ↻: 1, ζ: 13, tag: dual_hybrid\n",
      "=====================Classical=====================\n",
      "bkw                  :: rop: ≈2^167.9, m: ≈2^155.8, mem: ≈2^156.8, b: 13, t1: 0, t2: 16, ℓ: 12, #cod: 492, #top: 0, #test: 85, tag: coded-bkw\n",
      "usvp                 :: rop: ≈2^115.9, red: ≈2^115.9, δ: 1.004003, β: 397, d: 1058, tag: usvp\n",
      "bdd                  :: rop: ≈2^116.9, red: ≈2^115.9, svp: ≈2^115.9, β: 397, η: 397, d: 1057, tag: bdd\n",
      "bdd_hybrid           :: rop: ≈2^116.9, red: ≈2^115.9, svp: ≈2^115.9, β: 397, η: 397, ζ: 0, |S|: 1, d: 1085, prob: 1, ↻: 1, tag: hybrid\n",
      "bdd_mitm_hybrid      :: rop: ≈2^193.2, red: ≈2^192.3, svp: ≈2^192.2, β: 397, η: 2, ζ: 145, |S|: ≈2^192.2, d: 940, prob: ≈2^-74.1, ↻: ≈2^76.3, tag: hybrid\n",
      "dual                 :: rop: ≈2^120.9, mem: ≈2^85.4, m: 524, β: 414, d: 1100, ↻: 1, tag: dual\n",
      "dual_hybrid          :: rop: ≈2^117.2, mem: ≈2^114.1, m: 512, β: 400, d: 1068, ↻: 1, ζ: 20, tag: dual_hybrid\n",
      "======================MATZOV=======================\n",
      "bkw                  :: rop: ≈2^167.9, m: ≈2^155.8, mem: ≈2^156.8, b: 13, t1: 0, t2: 16, ℓ: 12, #cod: 492, #top: 0, #test: 85, tag: coded-bkw\n",
      "usvp                 :: rop: ≈2^141.5, red: ≈2^141.5, δ: 1.004003, β: 397, d: 1058, tag: usvp\n",
      "bdd                  :: rop: ≈2^138.2, red: ≈2^137.6, svp: ≈2^136.5, β: 383, η: 413, d: 1068, tag: bdd\n",
      "bdd_hybrid           :: rop: ≈2^138.2, red: ≈2^137.6, svp: ≈2^136.5, β: 383, η: 413, ζ: 0, |S|: 1, d: 1072, prob: 1, ↻: 1, tag: hybrid\n",
      "bdd_mitm_hybrid      :: rop: ≈2^195.7, red: ≈2^194.7, svp: ≈2^194.6, β: 397, η: 2, ζ: 170, |S|: ≈2^242.6, d: 915, prob: ≈2^-51.4, ↻: ≈2^53.6, tag: hybrid\n",
      "dual                 :: rop: ≈2^147.3, mem: ≈2^85.4, m: 524, β: 414, d: 1100, ↻: 1, tag: dual\n",
      "dual_hybrid          :: rop: ≈2^139.6, mem: ≈2^136.1, m: 500, β: 386, d: 1041, ↻: 1, ζ: 35, tag: dual_hybrid\n"
     ]
    }
   ],
   "source": [
    "print(\"======================Quantum======================\")\n",
    "r = LWE.estimate(NTRUPLUS576, red_cost_model = Qcost())\n",
    "print(\"=====================Classical=====================\")\n",
    "r = LWE.estimate(NTRUPLUS576, red_cost_model = Ccost())\n",
    "print(\"======================MATZOV=======================\")\n",
    "r = LWE.estimate(NTRUPLUS576, red_cost_model = MATZOV())"
   ]
  },
  {
   "cell_type": "code",
   "execution_count": 32,
   "metadata": {},
   "outputs": [
    {
     "name": "stdout",
     "output_type": "stream",
     "text": [
      "======================Quantum======================\n",
      "bkw                  :: rop: ≈2^215.4, m: ≈2^202.9, mem: ≈2^203.8, b: 17, t1: 0, t2: 16, ℓ: 16, #cod: 653, #top: 0, #test: 115, tag: coded-bkw\n",
      "usvp                 :: rop: ≈2^149.5, red: ≈2^149.5, δ: 1.003122, β: 564, d: 1398, tag: usvp\n",
      "bdd                  :: rop: ≈2^150.5, red: ≈2^149.2, svp: ≈2^149.7, β: 563, η: 565, d: 1398, tag: bdd\n",
      "bdd_hybrid           :: rop: ≈2^150.5, red: ≈2^149.2, svp: ≈2^149.7, β: 563, η: 565, ζ: 0, |S|: 1, d: 1417, prob: 1, ↻: 1, tag: hybrid\n",
      "bdd_mitm_hybrid      :: rop: ≈2^267.3, red: ≈2^266.4, svp: ≈2^266.2, β: 563, η: 2, ζ: 192, |S|: ≈2^256.8, d: 1225, prob: ≈2^-115.0, ↻: ≈2^117.2, tag: hybrid\n",
      "dual                 :: rop: ≈2^155.3, mem: ≈2^121.0, m: 669, β: 586, d: 1437, ↻: 1, tag: dual\n",
      "dual_hybrid          :: rop: ≈2^151.8, mem: ≈2^147.8, m: 658, β: 572, d: 1407, ↻: 1, ζ: 19, tag: dual_hybrid\n",
      "=====================Classical=====================\n",
      "bkw                  :: rop: ≈2^215.4, m: ≈2^202.9, mem: ≈2^203.8, b: 17, t1: 0, t2: 16, ℓ: 16, #cod: 653, #top: 0, #test: 115, tag: coded-bkw\n",
      "usvp                 :: rop: ≈2^164.7, red: ≈2^164.7, δ: 1.003122, β: 564, d: 1398, tag: usvp\n",
      "bdd                  :: rop: ≈2^165.7, red: ≈2^164.4, svp: ≈2^165.0, β: 563, η: 565, d: 1398, tag: bdd\n",
      "bdd_hybrid           :: rop: ≈2^165.7, red: ≈2^164.4, svp: ≈2^165.0, β: 563, η: 565, ζ: 0, |S|: 1, d: 1417, prob: 1, ↻: 1, tag: hybrid\n",
      "bdd_mitm_hybrid      :: rop: ≈2^264.1, red: ≈2^263.2, svp: ≈2^263.1, β: 563, η: 2, ζ: 217, |S|: ≈2^287.6, d: 1200, prob: ≈2^-96.6, ↻: ≈2^98.8, tag: hybrid\n",
      "dual                 :: rop: ≈2^171.1, mem: ≈2^121.0, m: 669, β: 586, d: 1437, ↻: 1, tag: dual\n",
      "dual_hybrid          :: rop: ≈2^164.9, mem: ≈2^160.7, m: 651, β: 564, d: 1391, ↻: 1, ζ: 28, tag: dual_hybrid\n",
      "======================MATZOV=======================\n",
      "bkw                  :: rop: ≈2^215.4, m: ≈2^202.9, mem: ≈2^203.8, b: 17, t1: 0, t2: 16, ℓ: 16, #cod: 653, #top: 0, #test: 115, tag: coded-bkw\n",
      "usvp                 :: rop: ≈2^188.3, red: ≈2^188.3, δ: 1.003122, β: 564, d: 1398, tag: usvp\n",
      "bdd                  :: rop: ≈2^184.7, red: ≈2^184.1, svp: ≈2^183.0, β: 549, η: 580, d: 1397, tag: bdd\n",
      "bdd_hybrid           :: rop: ≈2^184.7, red: ≈2^184.1, svp: ≈2^183.0, β: 549, η: 580, ζ: 0, |S|: 1, d: 1405, prob: 1, ↻: 1, tag: hybrid\n",
      "bdd_mitm_hybrid      :: rop: ≈2^265.0, red: ≈2^264.2, svp: ≈2^263.9, β: 563, η: 2, ζ: 234, |S|: ≈2^333.7, d: 1183, prob: ≈2^-74.4, ↻: ≈2^76.6, tag: hybrid\n",
      "dual                 :: rop: ≈2^196.4, mem: ≈2^121.0, m: 672, β: 589, d: 1440, ↻: 1, tag: dual\n",
      "dual_hybrid          :: rop: ≈2^186.3, mem: ≈2^182.4, m: 642, β: 553, d: 1366, ↻: 1, ζ: 44, tag: dual_hybrid\n"
     ]
    }
   ],
   "source": [
    "print(\"======================Quantum======================\")\n",
    "r = LWE.estimate(NTRUPLUS768, red_cost_model = Qcost())\n",
    "print(\"=====================Classical=====================\")\n",
    "r = LWE.estimate(NTRUPLUS768, red_cost_model = Ccost())\n",
    "print(\"======================MATZOV=======================\")\n",
    "r = LWE.estimate(NTRUPLUS768, red_cost_model = MATZOV())"
   ]
  },
  {
   "cell_type": "code",
   "execution_count": 33,
   "metadata": {},
   "outputs": [
    {
     "name": "stdout",
     "output_type": "stream",
     "text": [
      "======================Quantum======================\n",
      "bkw                  :: rop: ≈2^239.5, m: ≈2^226.4, mem: ≈2^227.4, b: 19, t1: 0, t2: 17, ℓ: 18, #cod: 739, #top: 1, #test: 124, tag: coded-bkw\n",
      "usvp                 :: rop: ≈2^172.2, red: ≈2^172.2, δ: 1.002817, β: 650, d: 1532, tag: usvp\n",
      "bdd                  :: rop: ≈2^173.1, red: ≈2^172.0, svp: ≈2^172.2, β: 649, η: 650, d: 1549, tag: bdd\n",
      "bdd_hybrid           :: rop: ≈2^173.1, red: ≈2^172.0, svp: ≈2^172.2, β: 649, η: 650, ζ: 0, |S|: 1, d: 1583, prob: 1, ↻: 1, tag: hybrid\n",
      "bdd_mitm_hybrid      :: rop: ≈2^303.0, red: ≈2^302.0, svp: ≈2^302.0, β: 649, η: 2, ζ: 243, |S|: ≈2^302.3, d: 1340, prob: ≈2^-127.8, ↻: ≈2^130.0, tag: hybrid\n",
      "dual                 :: rop: ≈2^178.3, mem: ≈2^139.4, m: 739, β: 673, d: 1603, ↻: 1, tag: dual\n",
      "dual_hybrid          :: rop: ≈2^174.2, mem: ≈2^170.9, m: 726, β: 656, d: 1568, ↻: 1, ζ: 22, tag: dual_hybrid\n",
      "=====================Classical=====================\n",
      "bkw                  :: rop: ≈2^239.5, m: ≈2^226.4, mem: ≈2^227.4, b: 19, t1: 0, t2: 17, ℓ: 18, #cod: 739, #top: 1, #test: 124, tag: coded-bkw\n",
      "usvp                 :: rop: ≈2^189.8, red: ≈2^189.8, δ: 1.002817, β: 650, d: 1532, tag: usvp\n",
      "bdd                  :: rop: ≈2^190.7, red: ≈2^189.5, svp: ≈2^189.8, β: 649, η: 650, d: 1549, tag: bdd\n",
      "bdd_hybrid           :: rop: ≈2^190.7, red: ≈2^189.5, svp: ≈2^189.8, β: 649, η: 650, ζ: 0, |S|: 1, d: 1583, prob: 1, ↻: 1, tag: hybrid\n",
      "bdd_mitm_hybrid      :: rop: ≈2^300.0, red: ≈2^299.1, svp: ≈2^298.8, β: 649, η: 2, ζ: 243, |S|: ≈2^336.8, d: 1340, prob: ≈2^-107.4, ↻: ≈2^109.6, tag: hybrid\n",
      "dual                 :: rop: ≈2^196.5, mem: ≈2^139.4, m: 739, β: 673, d: 1603, ↻: 1, tag: dual\n",
      "dual_hybrid          :: rop: ≈2^189.2, mem: ≈2^185.4, m: 718, β: 647, d: 1549, ↻: 1, ζ: 33, tag: dual_hybrid\n",
      "======================MATZOV=======================\n",
      "bkw                  :: rop: ≈2^239.5, m: ≈2^226.4, mem: ≈2^227.4, b: 19, t1: 0, t2: 17, ℓ: 18, #cod: 739, #top: 1, #test: 124, tag: coded-bkw\n",
      "usvp                 :: rop: ≈2^212.3, red: ≈2^212.3, δ: 1.002817, β: 650, d: 1532, tag: usvp\n",
      "bdd                  :: rop: ≈2^208.5, red: ≈2^207.9, svp: ≈2^206.7, β: 634, η: 665, d: 1561, tag: bdd\n",
      "bdd_hybrid           :: rop: ≈2^208.5, red: ≈2^208.0, svp: ≈2^206.7, β: 634, η: 665, ζ: 0, |S|: 1, d: 1569, prob: 1, ↻: 1, tag: hybrid\n",
      "bdd_mitm_hybrid      :: rop: ≈2^300.1, red: ≈2^299.1, svp: ≈2^299.1, β: 649, η: 2, ζ: 269, |S|: ≈2^381.8, d: 1314, prob: ≈2^-85.2, ↻: ≈2^87.4, tag: hybrid\n",
      "dual                 :: rop: ≈2^221.7, mem: ≈2^137.4, m: 745, β: 680, d: 1609, ↻: 1, tag: dual\n",
      "dual_hybrid          :: rop: ≈2^210.4, mem: ≈2^207.0, m: 712, β: 638, d: 1527, ↻: 1, ζ: 49, tag: dual_hybrid\n"
     ]
    }
   ],
   "source": [
    "print(\"======================Quantum======================\")\n",
    "r = LWE.estimate(NTRUPLUS864, red_cost_model = Qcost())\n",
    "print(\"=====================Classical=====================\")\n",
    "r = LWE.estimate(NTRUPLUS864, red_cost_model = Ccost())\n",
    "print(\"======================MATZOV=======================\")\n",
    "r = LWE.estimate(NTRUPLUS864, red_cost_model = MATZOV())"
   ]
  },
  {
   "cell_type": "code",
   "execution_count": 34,
   "metadata": {},
   "outputs": [
    {
     "name": "stdout",
     "output_type": "stream",
     "text": [
      "======================Quantum======================\n",
      "bkw                  :: rop: ≈2^310.2, m: ≈2^297.0, mem: ≈2^298.0, b: 25, t1: 0, t2: 17, ℓ: 24, #cod: 983, #top: 0, #test: 169, tag: coded-bkw\n",
      "usvp                 :: rop: ≈2^241.4, red: ≈2^241.4, δ: 1.002192, β: 911, d: 2015, tag: usvp\n",
      "bdd                  :: rop: ≈2^242.3, red: ≈2^241.4, svp: ≈2^241.2, β: 911, η: 910, d: 2035, tag: bdd\n",
      "bdd_hybrid           :: rop: ≈2^242.3, red: ≈2^241.4, svp: ≈2^241.2, β: 911, η: 910, ζ: 0, |S|: 1, d: 2072, prob: 1, ↻: 1, tag: hybrid\n",
      "bdd_mitm_hybrid      :: rop: ≈2^415.1, red: ≈2^414.2, svp: ≈2^414.0, β: 911, η: 2, ζ: 324, |S|: ≈2^439.3, d: 1748, prob: ≈2^-170.6, ↻: ≈2^172.8, tag: hybrid\n",
      "dual                 :: rop: ≈2^249.4, mem: ≈2^195.0, m: 944, β: 941, d: 2096, ↻: 1, tag: dual\n",
      "dual_hybrid          :: rop: ≈2^242.7, mem: ≈2^238.8, m: 925, β: 915, d: 2046, ↻: 1, ζ: 31, tag: dual_hybrid\n",
      "=====================Classical=====================\n",
      "bkw                  :: rop: ≈2^310.2, m: ≈2^297.0, mem: ≈2^298.0, b: 25, t1: 0, t2: 17, ℓ: 24, #cod: 983, #top: 0, #test: 169, tag: coded-bkw\n",
      "usvp                 :: rop: ≈2^266.0, red: ≈2^266.0, δ: 1.002192, β: 911, d: 2015, tag: usvp\n",
      "bdd                  :: rop: ≈2^266.9, red: ≈2^266.0, svp: ≈2^265.7, β: 911, η: 910, d: 2035, tag: bdd\n",
      "bdd_hybrid           :: rop: ≈2^266.9, red: ≈2^266.0, svp: ≈2^265.7, β: 911, η: 910, ζ: 0, |S|: 1, d: 2072, prob: 1, ↻: 1, tag: hybrid\n",
      "bdd_mitm_hybrid      :: rop: ≈2^408.9, red: ≈2^407.9, svp: ≈2^407.8, β: 911, η: 2, ζ: 359, |S|: ≈2^488.8, d: 1713, prob: ≈2^-139.7, ↻: ≈2^141.9, tag: hybrid\n",
      "dual                 :: rop: ≈2^274.8, mem: ≈2^195.0, m: 944, β: 941, d: 2096, ↻: 1, tag: dual\n",
      "dual_hybrid          :: rop: ≈2^263.4, mem: ≈2^260.2, m: 915, β: 901, d: 2020, ↻: 1, ζ: 47, tag: dual_hybrid\n",
      "======================MATZOV=======================\n",
      "bkw                  :: rop: ≈2^310.2, m: ≈2^297.0, mem: ≈2^298.0, b: 25, t1: 0, t2: 17, ℓ: 24, #cod: 983, #top: 0, #test: 169, tag: coded-bkw\n",
      "usvp                 :: rop: ≈2^285.7, red: ≈2^285.7, δ: 1.002192, β: 911, d: 2015, tag: usvp\n",
      "bdd                  :: rop: ≈2^281.3, red: ≈2^280.4, svp: ≈2^280.3, β: 892, η: 928, d: 2024, tag: bdd\n",
      "bdd_hybrid           :: rop: ≈2^281.4, red: ≈2^280.4, svp: ≈2^280.3, β: 892, η: 928, ζ: 0, |S|: 1, d: 2056, prob: 1, ↻: 1, tag: hybrid\n",
      "bdd_mitm_hybrid      :: rop: ≈2^408.6, red: ≈2^407.8, svp: ≈2^407.5, β: 911, η: 2, ζ: 377, |S|: ≈2^526.8, d: 1695, prob: ≈2^-120.4, ↻: ≈2^122.6, tag: hybrid\n",
      "dual                 :: rop: ≈2^299.0, mem: ≈2^192.0, m: 956, β: 955, d: 2108, ↻: 1, tag: dual\n",
      "dual_hybrid          :: rop: ≈2^283.5, mem: ≈2^279.6, m: 914, β: 899, d: 2004, ↻: 1, ζ: 62, tag: dual_hybrid\n"
     ]
    }
   ],
   "source": [
    "print(\"======================Quantum======================\")\n",
    "r = LWE.estimate(NTRUPLUS1152, red_cost_model = Qcost())\n",
    "print(\"=====================Classical=====================\")\n",
    "r = LWE.estimate(NTRUPLUS1152, red_cost_model = Ccost())\n",
    "print(\"======================MATZOV=======================\")\n",
    "r = LWE.estimate(NTRUPLUS1152, red_cost_model = MATZOV())"
   ]
  },
  {
   "cell_type": "code",
   "execution_count": 16,
   "metadata": {},
   "outputs": [
    {
     "name": "stdout",
     "output_type": "stream",
     "text": [
      "======================Quantum======================\n",
      "bkw                  :: rop: ≈2^178.8, m: ≈2^166.8, mem: ≈2^167.8, b: 14, t1: 0, t2: 16, ℓ: 13, #cod: 448, #top: 0, #test: 64, tag: coded-bkw\n",
      "usvp                 :: rop: ≈2^107.6, red: ≈2^107.6, δ: 1.003941, β: 406, d: 998, tag: usvp\n",
      "bdd                  :: rop: ≈2^108.6, red: ≈2^107.3, svp: ≈2^107.9, β: 405, η: 407, d: 999, tag: bdd\n",
      "bdd_hybrid           :: rop: ≈2^108.6, red: ≈2^107.3, svp: ≈2^107.9, β: 405, η: 407, ζ: 0, |S|: 1, d: 1025, prob: 1, ↻: 1, tag: hybrid\n",
      "bdd_mitm_hybrid      :: rop: ≈2^254.6, red: ≈2^254.6, svp: ≈2^167.3, β: 405, η: 2, ζ: 0, |S|: 1, d: 1025, prob: ≈2^-145.1, ↻: ≈2^147.3, tag: hybrid\n",
      "dual                 :: rop: ≈2^112.4, mem: ≈2^88.0, m: 512, β: 424, d: 1024, ↻: 1, tag: dual\n",
      "dual_hybrid          :: rop: ≈2^111.6, mem: ≈2^106.0, m: 512, β: 421, d: 1017, ↻: 1, ζ: 7, tag: dual_hybrid\n",
      "=====================Classical=====================\n",
      "bkw                  :: rop: ≈2^178.8, m: ≈2^166.8, mem: ≈2^167.8, b: 14, t1: 0, t2: 16, ℓ: 13, #cod: 448, #top: 0, #test: 64, tag: coded-bkw\n",
      "usvp                 :: rop: ≈2^118.6, red: ≈2^118.6, δ: 1.003941, β: 406, d: 998, tag: usvp\n",
      "bdd                  :: rop: ≈2^119.6, red: ≈2^118.3, svp: ≈2^118.8, β: 405, η: 407, d: 999, tag: bdd\n",
      "bdd_hybrid           :: rop: ≈2^119.6, red: ≈2^118.3, svp: ≈2^118.8, β: 405, η: 407, ζ: 0, |S|: 1, d: 1025, prob: 1, ↻: 1, tag: hybrid\n",
      "bdd_mitm_hybrid      :: rop: ≈2^263.3, red: ≈2^262.4, svp: ≈2^262.2, β: 405, η: 2, ζ: 92, |S|: ≈2^196.7, d: 933, prob: ≈2^-141.9, ↻: ≈2^144.1, tag: hybrid\n",
      "dual                 :: rop: ≈2^123.8, mem: ≈2^88.0, m: 512, β: 424, d: 1024, ↻: 1, tag: dual\n",
      "dual_hybrid          :: rop: ≈2^121.9, mem: ≈2^116.8, m: 512, β: 417, d: 1013, ↻: 1, ζ: 11, tag: dual_hybrid\n",
      "======================MATZOV=======================\n",
      "bkw                  :: rop: ≈2^178.8, m: ≈2^166.8, mem: ≈2^167.8, b: 14, t1: 0, t2: 16, ℓ: 13, #cod: 448, #top: 0, #test: 64, tag: coded-bkw\n",
      "usvp                 :: rop: ≈2^143.8, red: ≈2^143.8, δ: 1.003941, β: 406, d: 998, tag: usvp\n",
      "bdd                  :: rop: ≈2^140.3, red: ≈2^139.7, svp: ≈2^138.8, β: 391, η: 421, d: 1013, tag: bdd\n",
      "bdd_hybrid           :: rop: ≈2^140.3, red: ≈2^139.7, svp: ≈2^138.8, β: 391, η: 421, ζ: 0, |S|: 1, d: 1016, prob: 1, ↻: 1, tag: hybrid\n",
      "bdd_mitm_hybrid      :: rop: ≈2^260.3, red: ≈2^259.4, svp: ≈2^259.3, β: 405, η: 2, ζ: 102, |S|: ≈2^247.2, d: 923, prob: ≈2^-113.8, ↻: ≈2^116.0, tag: hybrid\n",
      "dual                 :: rop: ≈2^149.9, mem: ≈2^88.0, m: 512, β: 424, d: 1024, ↻: 1, tag: dual\n",
      "dual_hybrid          :: rop: ≈2^145.6, mem: ≈2^140.5, m: 512, β: 408, d: 1004, ↻: 1, ζ: 20, tag: dual_hybrid\n"
     ]
    }
   ],
   "source": [
    "print(\"======================Quantum======================\")\n",
    "r = LWE.estimate(schemes.Kyber512, red_cost_model = Qcost())\n",
    "print(\"=====================Classical=====================\")\n",
    "r = LWE.estimate(schemes.Kyber512, red_cost_model = Ccost())\n",
    "print(\"======================MATZOV=======================\")\n",
    "r = LWE.estimate(schemes.Kyber512, red_cost_model = MATZOV())"
   ]
  },
  {
   "cell_type": "code",
   "execution_count": 17,
   "metadata": {},
   "outputs": [
    {
     "name": "stdout",
     "output_type": "stream",
     "text": [
      "======================Quantum======================\n",
      "bkw                  :: rop: ≈2^238.3, m: ≈2^225.5, mem: ≈2^226.5, b: 19, t1: 1, t2: 17, ℓ: 18, #cod: 653, #top: 1, #test: 95, tag: coded-bkw\n",
      "usvp                 :: rop: ≈2^165.4, red: ≈2^165.4, δ: 1.002902, β: 624, d: 1427, tag: usvp\n",
      "bdd                  :: rop: ≈2^166.2, red: ≈2^165.1, svp: ≈2^165.4, β: 623, η: 624, d: 1450, tag: bdd\n",
      "bdd_hybrid           :: rop: ≈2^166.2, red: ≈2^165.1, svp: ≈2^165.4, β: 623, η: 624, ζ: 0, |S|: 1, d: 1467, prob: 1, ↻: 1, tag: hybrid\n",
      "bdd_mitm_hybrid      :: rop: ≈2^366.6, red: ≈2^365.6, svp: ≈2^365.5, β: 623, η: 2, ζ: 169, |S|: ≈2^288.7, d: 1298, prob: ≈2^-198.3, ↻: ≈2^200.5, tag: hybrid\n",
      "dual                 :: rop: ≈2^171.7, mem: ≈2^133.4, m: 719, β: 648, d: 1487, ↻: 1, tag: dual\n",
      "dual_hybrid          :: rop: ≈2^168.9, mem: ≈2^164.4, m: 710, β: 637, d: 1464, ↻: 1, ζ: 14, tag: dual_hybrid\n",
      "=====================Classical=====================\n",
      "bkw                  :: rop: ≈2^238.3, m: ≈2^225.5, mem: ≈2^226.5, b: 19, t1: 1, t2: 17, ℓ: 18, #cod: 653, #top: 1, #test: 95, tag: coded-bkw\n",
      "usvp                 :: rop: ≈2^182.2, red: ≈2^182.2, δ: 1.002902, β: 624, d: 1427, tag: usvp\n",
      "bdd                  :: rop: ≈2^183.1, red: ≈2^181.9, svp: ≈2^182.2, β: 623, η: 624, d: 1450, tag: bdd\n",
      "bdd_hybrid           :: rop: ≈2^183.1, red: ≈2^181.9, svp: ≈2^182.2, β: 623, η: 624, ζ: 0, |S|: 1, d: 1467, prob: 1, ↻: 1, tag: hybrid\n",
      "bdd_mitm_hybrid      :: rop: ≈2^362.4, red: ≈2^361.6, svp: ≈2^361.3, β: 623, η: 2, ζ: 168, |S|: ≈2^321.9, d: 1299, prob: ≈2^-177.5, ↻: ≈2^179.7, tag: hybrid\n",
      "dual                 :: rop: ≈2^189.2, mem: ≈2^133.4, m: 719, β: 648, d: 1487, ↻: 1, tag: dual\n",
      "dual_hybrid          :: rop: ≈2^184.3, mem: ≈2^180.8, m: 705, β: 630, d: 1451, ↻: 1, ζ: 22, tag: dual_hybrid\n",
      "======================MATZOV=======================\n",
      "bkw                  :: rop: ≈2^238.3, m: ≈2^225.5, mem: ≈2^226.5, b: 19, t1: 1, t2: 17, ℓ: 18, #cod: 653, #top: 1, #test: 95, tag: coded-bkw\n",
      "usvp                 :: rop: ≈2^204.9, red: ≈2^204.9, δ: 1.002902, β: 624, d: 1427, tag: usvp\n",
      "bdd                  :: rop: ≈2^201.0, red: ≈2^200.0, svp: ≈2^200.0, β: 606, η: 641, d: 1425, tag: bdd\n",
      "bdd_hybrid           :: rop: ≈2^201.0, red: ≈2^200.0, svp: ≈2^200.0, β: 606, η: 641, ζ: 0, |S|: 1, d: 1452, prob: 1, ↻: 1, tag: hybrid\n",
      "bdd_mitm_hybrid      :: rop: ≈2^356.7, red: ≈2^355.8, svp: ≈2^355.6, β: 623, η: 2, ζ: 189, |S|: ≈2^367.1, d: 1278, prob: ≈2^-149.2, ↻: ≈2^151.4, tag: hybrid\n",
      "dual                 :: rop: ≈2^214.2, mem: ≈2^133.4, m: 723, β: 653, d: 1491, ↻: 1, tag: dual\n",
      "dual_hybrid          :: rop: ≈2^206.4, mem: ≈2^201.9, m: 701, β: 625, d: 1437, ↻: 1, ζ: 32, tag: dual_hybrid\n"
     ]
    }
   ],
   "source": [
    "print(\"======================Quantum======================\")\n",
    "r = LWE.estimate(schemes.Kyber768, red_cost_model = Qcost())\n",
    "print(\"=====================Classical=====================\")\n",
    "r = LWE.estimate(schemes.Kyber768, red_cost_model = Ccost())\n",
    "print(\"======================MATZOV=======================\")\n",
    "r = LWE.estimate(schemes.Kyber768, red_cost_model = MATZOV())"
   ]
  },
  {
   "cell_type": "code",
   "execution_count": 18,
   "metadata": {},
   "outputs": [
    {
     "name": "stdout",
     "output_type": "stream",
     "text": [
      "======================Quantum======================\n",
      "bkw                  :: rop: ≈2^315.0, m: ≈2^301.0, mem: ≈2^296.7, b: 25, t1: 0, t2: 18, ℓ: 24, #cod: 897, #top: 0, #test: 129, tag: coded-bkw\n",
      "usvp                 :: rop: ≈2^231.6, red: ≈2^231.6, δ: 1.002262, β: 874, d: 1867, tag: usvp\n",
      "bdd                  :: rop: ≈2^232.5, red: ≈2^231.3, svp: ≈2^231.6, β: 873, η: 874, d: 1885, tag: bdd\n",
      "bdd_hybrid           :: rop: ≈2^232.5, red: ≈2^231.3, svp: ≈2^231.6, β: 873, η: 874, ζ: 0, |S|: 1, d: 1918, prob: 1, ↻: 1, tag: hybrid\n",
      "bdd_mitm_hybrid      :: rop: ≈2^513.1, red: ≈2^512.2, svp: ≈2^512.0, β: 873, η: 2, ζ: 258, |S|: ≈2^419.6, d: 1660, prob: ≈2^-278.6, ↻: ≈2^280.8, tag: hybrid\n",
      "dual                 :: rop: ≈2^239.6, mem: ≈2^187.4, m: 918, β: 904, d: 1942, ↻: 1, tag: dual\n",
      "dual_hybrid          :: rop: ≈2^235.3, mem: ≈2^231.5, m: 906, β: 887, d: 1909, ↻: 1, ζ: 21, tag: dual_hybrid\n",
      "=====================Classical=====================\n",
      "bkw                  :: rop: ≈2^315.0, m: ≈2^301.0, mem: ≈2^296.7, b: 25, t1: 0, t2: 18, ℓ: 24, #cod: 897, #top: 0, #test: 129, tag: coded-bkw\n",
      "usvp                 :: rop: ≈2^255.2, red: ≈2^255.2, δ: 1.002262, β: 874, d: 1867, tag: usvp\n",
      "bdd                  :: rop: ≈2^256.1, red: ≈2^254.9, svp: ≈2^255.2, β: 873, η: 874, d: 1885, tag: bdd\n",
      "bdd_hybrid           :: rop: ≈2^256.1, red: ≈2^254.9, svp: ≈2^255.2, β: 873, η: 874, ζ: 0, |S|: 1, d: 1918, prob: 1, ↻: 1, tag: hybrid\n",
      "bdd_mitm_hybrid      :: rop: ≈2^502.5, red: ≈2^501.6, svp: ≈2^501.4, β: 873, η: 2, ζ: 257, |S|: ≈2^466.7, d: 1661, prob: ≈2^-244.5, ↻: ≈2^246.7, tag: hybrid\n",
      "dual                 :: rop: ≈2^264.0, mem: ≈2^187.4, m: 918, β: 904, d: 1942, ↻: 1, tag: dual\n",
      "dual_hybrid          :: rop: ≈2^256.4, mem: ≈2^253.0, m: 898, β: 877, d: 1891, ↻: 1, ζ: 31, tag: dual_hybrid\n",
      "======================MATZOV=======================\n",
      "bkw                  :: rop: ≈2^315.0, m: ≈2^301.0, mem: ≈2^296.7, b: 25, t1: 0, t2: 18, ℓ: 24, #cod: 897, #top: 0, #test: 129, tag: coded-bkw\n",
      "usvp                 :: rop: ≈2^275.1, red: ≈2^275.1, δ: 1.002262, β: 874, d: 1867, tag: usvp\n",
      "bdd                  :: rop: ≈2^270.8, red: ≈2^269.9, svp: ≈2^269.7, β: 855, η: 890, d: 1873, tag: bdd\n",
      "bdd_hybrid           :: rop: ≈2^270.8, red: ≈2^269.9, svp: ≈2^269.7, β: 855, η: 890, ζ: 0, |S|: 1, d: 1903, prob: 1, ↻: 1, tag: hybrid\n",
      "bdd_mitm_hybrid      :: rop: ≈2^498.8, red: ≈2^497.8, svp: ≈2^497.7, β: 873, η: 2, ζ: 256, |S|: ≈2^506.1, d: 1662, prob: ≈2^-221.1, ↻: ≈2^223.3, tag: hybrid\n",
      "dual                 :: rop: ≈2^288.6, mem: ≈2^184.0, m: 930, β: 918, d: 1954, ↻: 1, tag: dual\n",
      "dual_hybrid          :: rop: ≈2^277.5, mem: ≈2^272.6, m: 900, β: 879, d: 1883, ↻: 1, ζ: 41, tag: dual_hybrid\n"
     ]
    }
   ],
   "source": [
    "print(\"======================Quantum======================\")\n",
    "r = LWE.estimate(schemes.Kyber1024, red_cost_model = Qcost())\n",
    "print(\"=====================Classical=====================\")\n",
    "r = LWE.estimate(schemes.Kyber1024, red_cost_model = Ccost())\n",
    "print(\"======================MATZOV=======================\")\n",
    "r = LWE.estimate(schemes.Kyber1024, red_cost_model = MATZOV())"
   ]
  },
  {
   "cell_type": "code",
   "execution_count": null,
   "metadata": {},
   "outputs": [],
   "source": []
  }
 ],
 "metadata": {
  "kernelspec": {
   "display_name": "SageMath 9.0",
   "language": "sage",
   "name": "sagemath"
  },
  "language_info": {
   "codemirror_mode": {
    "name": "ipython",
    "version": 3
   },
   "file_extension": ".py",
   "mimetype": "text/x-python",
   "name": "python",
   "nbconvert_exporter": "python",
   "pygments_lexer": "ipython3",
   "version": "3.8.10"
  }
 },
 "nbformat": 4,
 "nbformat_minor": 4
}
