{
 "cells": [
  {
   "cell_type": "code",
   "execution_count": 1,
   "id": "a0227e0a-e8ed-4b6b-a2b2-83a1038b5686",
   "metadata": {},
   "outputs": [],
   "source": [
    "from functools import partial"
   ]
  },
  {
   "cell_type": "code",
   "execution_count": 2,
   "id": "cc166526-d53d-404d-8c0f-3b992fb0cc6b",
   "metadata": {},
   "outputs": [],
   "source": [
    "from estimator import *"
   ]
  },
  {
   "cell_type": "code",
   "execution_count": 3,
   "id": "692e4e9a-a7bd-476d-96c9-c8e1fba54cd3",
   "metadata": {},
   "outputs": [],
   "source": [
    "from estimator.nd import NoiseDistribution, stddevf"
   ]
  },
  {
   "cell_type": "code",
   "execution_count": 4,
   "id": "08512504-7d14-4052-b9d1-07f6701cdc5f",
   "metadata": {},
   "outputs": [],
   "source": [
    "from estimator.lwe_parameters import LWEParameters"
   ]
  },
  {
   "cell_type": "code",
   "execution_count": 5,
   "id": "852de076-cb07-4193-8e3f-5b6515fa4ba3",
   "metadata": {},
   "outputs": [],
   "source": [
    "from estimator.ntru_parameters import NTRUParameters"
   ]
  },
  {
   "cell_type": "code",
   "execution_count": 6,
   "id": "8103e198-1389-4e09-a92e-b00d06a6bd8f",
   "metadata": {},
   "outputs": [],
   "source": [
    "from estimator.reduction import ADPS16, ChaLoy21"
   ]
  },
  {
   "cell_type": "code",
   "execution_count": 7,
   "id": "b5a47c04-604a-4d89-a452-52570eebfe09",
   "metadata": {},
   "outputs": [],
   "source": [
    "NTRUPLUS576_LWE = LWEParameters(n=576, q=3457, Xs=ND.CenteredBinomial(1), Xe=ND.CenteredBinomial(1), m=576, tag='NTRU+576')"
   ]
  },
  {
   "cell_type": "code",
   "execution_count": 8,
   "id": "25cb13d5-91cc-4d18-ad4a-f57aca1cac49",
   "metadata": {},
   "outputs": [],
   "source": [
    "NTRUPLUS576_NTRU = NTRUParameters(n=576, q=3457, Xs=ND.CenteredBinomial(1), Xe=ND.CenteredBinomial(1), m=576, tag='NTRU+576')"
   ]
  },
  {
   "cell_type": "code",
   "execution_count": 9,
   "id": "201ebf43-51af-448a-ae63-9a25cd91e28d",
   "metadata": {},
   "outputs": [],
   "source": [
    "NTRUPLUS768_LWE = LWEParameters(n=768, q=3457, Xs=ND.CenteredBinomial(1), Xe=ND.CenteredBinomial(1), m=768, tag='NTRU+768')"
   ]
  },
  {
   "cell_type": "code",
   "execution_count": 10,
   "id": "55d2437c-ab08-4c12-a064-f6c49e7402b0",
   "metadata": {},
   "outputs": [],
   "source": [
    "NTRUPLUS768_NTRU = NTRUParameters(n=768, q=3457, Xs=ND.CenteredBinomial(1), Xe=ND.CenteredBinomial(1), m=768, tag='NTRU+768')"
   ]
  },
  {
   "cell_type": "code",
   "execution_count": 11,
   "id": "5e829672-3c54-447d-abdf-121590e42cc4",
   "metadata": {},
   "outputs": [],
   "source": [
    "NTRUPLUS864_LWE = LWEParameters(n=864, q=3457, Xs=ND.CenteredBinomial(1), Xe=ND.CenteredBinomial(1), m=864, tag='NTRU+864')"
   ]
  },
  {
   "cell_type": "code",
   "execution_count": 12,
   "id": "59d17a2b-4a20-481b-a8c4-40cbfad27554",
   "metadata": {},
   "outputs": [],
   "source": [
    "NTRUPLUS864_NTRU = NTRUParameters(n=864, q=3457, Xs=ND.CenteredBinomial(1), Xe=ND.CenteredBinomial(1), m=864, tag='NTRU+864')"
   ]
  },
  {
   "cell_type": "code",
   "execution_count": 13,
   "id": "6840c687-6142-4765-95cb-25b392c8d0c2",
   "metadata": {},
   "outputs": [],
   "source": [
    "NTRUPLUS1152_LWE = LWEParameters(n=1152, q=3457, Xs=ND.CenteredBinomial(1), Xe=ND.CenteredBinomial(1), m=1152, tag='NTRU+1152')"
   ]
  },
  {
   "cell_type": "code",
   "execution_count": 14,
   "id": "bdb22131-c605-471b-9d8a-eb8ea0f66797",
   "metadata": {},
   "outputs": [],
   "source": [
    "NTRUPLUS1152_NTRU = NTRUParameters(n=1152, q=3457, Xs=ND.CenteredBinomial(1), Xe=ND.CenteredBinomial(1), m=1152, tag='NTRU+1152')"
   ]
  },
  {
   "cell_type": "code",
   "execution_count": 15,
   "id": "b30f984f-3d17-4f90-8147-3c4adacbdf88",
   "metadata": {},
   "outputs": [
    {
     "name": "stdout",
     "output_type": "stream",
     "text": [
      "=====================Classical_LWE=====================\n",
      "bkw                  :: rop: ≈2^167.9, m: ≈2^155.8, mem: ≈2^156.8, b: 13, t1: 0, t2: 16, ℓ: 12, #cod: 492, #top: 0, #test: 85, tag: coded-bkw\n",
      "usvp                 :: rop: ≈2^115.9, red: ≈2^115.9, δ: 1.004003, β: 397, d: 1058, tag: usvp\n",
      "bdd                  :: rop: ≈2^116.9, red: ≈2^115.9, svp: ≈2^115.9, β: 397, η: 397, d: 1057, tag: bdd\n",
      "dual                 :: rop: ≈2^120.9, mem: ≈2^94.6, m: 524, β: 414, d: 1100, ↻: 1, tag: dual\n",
      "dual_hybrid          :: rop: ≈2^111.6, red: ≈2^111.5, guess: ≈2^107.2, β: 382, p: 3, ζ: 10, t: 40, β': 382, N: ≈2^78.9, m: 576\n",
      "=====================Classical_NTRU=====================\n",
      "usvp                 :: rop: ≈2^115.9, red: ≈2^115.9, δ: 1.004003, β: 397, d: 1052, tag: usvp\n",
      "bdd                  :: rop: ≈2^116.7, red: ≈2^115.3, svp: ≈2^115.9, β: 395, η: 397, d: 1068, tag: bdd\n",
      "bdd_hybrid           :: rop: ≈2^116.7, red: ≈2^115.3, svp: ≈2^115.9, β: 395, η: 397, ζ: 0, |S|: 1, d: 1082, prob: 1, ↻: 1, tag: hybrid\n",
      "bdd_mitm_hybrid      :: rop: ≈2^196.4, red: ≈2^195.5, svp: ≈2^195.3, β: 395, η: 2, ζ: 143, |S|: ≈2^190.8, d: 939, prob: ≈2^-77.9, ↻: ≈2^80.1, tag: hybrid\n",
      "======================Quantum_LWE======================\n",
      "bkw                  :: rop: ≈2^167.9, m: ≈2^155.8, mem: ≈2^156.8, b: 13, t1: 0, t2: 16, ℓ: 12, #cod: 492, #top: 0, #test: 85, tag: coded-bkw\n",
      "usvp                 :: rop: ≈2^102.0, red: ≈2^102.0, δ: 1.004003, β: 397, d: 1058, tag: usvp\n",
      "bdd                  :: rop: ≈2^103.0, red: ≈2^102.0, svp: ≈2^102.0, β: 397, η: 397, d: 1057, tag: bdd\n",
      "dual                 :: rop: ≈2^106.4, mem: ≈2^94.6, m: 524, β: 414, d: 1100, ↻: 1, tag: dual\n",
      "dual_hybrid          :: rop: ≈2^99.1, red: ≈2^98.7, guess: ≈2^97.1, β: 384, p: 3, ζ: 0, t: 50, β': 384, N: ≈2^79.4, m: 576\n",
      "======================Quantum_NTRU======================\n",
      "usvp                 :: rop: ≈2^102.0, red: ≈2^102.0, δ: 1.004003, β: 397, d: 1052, tag: usvp\n",
      "bdd                  :: rop: ≈2^102.8, red: ≈2^101.5, svp: ≈2^102.0, β: 395, η: 397, d: 1068, tag: bdd\n",
      "bdd_hybrid           :: rop: ≈2^102.8, red: ≈2^101.5, svp: ≈2^102.0, β: 395, η: 397, ζ: 0, |S|: 1, d: 1082, prob: 1, ↻: 1, tag: hybrid\n",
      "bdd_mitm_hybrid      :: rop: ≈2^200.5, red: ≈2^199.5, svp: ≈2^199.5, β: 395, η: 2, ζ: 143, |S|: ≈2^163.5, d: 939, prob: ≈2^-95.8, ↻: ≈2^98.0, tag: hybrid\n"
     ]
    }
   ],
   "source": [
    "print(\"=====================Classical_LWE=====================\")\n",
    "r = LWE.estimate(NTRUPLUS576_LWE, red_cost_model = ADPS16())\n",
    "print(\"=====================Classical_NTRU=====================\")\n",
    "r = NTRU.estimate(NTRUPLUS576_NTRU, red_cost_model = ADPS16())\n",
    "print(\"======================Quantum_LWE======================\")\n",
    "r = LWE.estimate(NTRUPLUS576_LWE, red_cost_model = ChaLoy21())\n",
    "print(\"======================Quantum_NTRU======================\")\n",
    "r = NTRU.estimate(NTRUPLUS576_NTRU, red_cost_model = ChaLoy21())"
   ]
  },
  {
   "cell_type": "code",
   "execution_count": 16,
   "id": "842cae58-eb7d-4f1d-b0ed-b9c321488a7c",
   "metadata": {},
   "outputs": [
    {
     "name": "stdout",
     "output_type": "stream",
     "text": [
      "=====================Classical_LWE=====================\n",
      "bkw                  :: rop: ≈2^215.4, m: ≈2^202.9, mem: ≈2^203.8, b: 17, t1: 0, t2: 16, ℓ: 16, #cod: 653, #top: 0, #test: 115, tag: coded-bkw\n",
      "usvp                 :: rop: ≈2^164.7, red: ≈2^164.7, δ: 1.003122, β: 564, d: 1398, tag: usvp\n",
      "bdd                  :: rop: ≈2^165.7, red: ≈2^164.4, svp: ≈2^165.0, β: 563, η: 565, d: 1398, tag: bdd\n",
      "dual                 :: rop: ≈2^171.1, mem: ≈2^130.8, m: 669, β: 586, d: 1437, ↻: 1, tag: dual\n",
      "dual_hybrid          :: rop: ≈2^156.2, red: ≈2^156.2, guess: ≈2^147.6, β: 535, p: 3, ζ: 10, t: 70, β': 535, N: ≈2^110.6, m: 768\n",
      "=====================Classical_NTRU=====================\n",
      "usvp                 :: rop: ≈2^164.7, red: ≈2^164.7, δ: 1.003122, β: 564, d: 1388, tag: usvp\n",
      "bdd                  :: rop: ≈2^165.4, red: ≈2^164.4, svp: ≈2^164.4, β: 563, η: 563, d: 1404, tag: bdd\n",
      "bdd_hybrid           :: rop: ≈2^165.4, red: ≈2^164.4, svp: ≈2^164.4, β: 563, η: 563, ζ: 0, |S|: 1, d: 1416, prob: 1, ↻: 1, tag: hybrid\n",
      "bdd_mitm_hybrid      :: rop: ≈2^266.7, red: ≈2^265.8, svp: ≈2^265.6, β: 563, η: 2, ζ: 217, |S|: ≈2^287.6, d: 1199, prob: ≈2^-99.2, ↻: ≈2^101.4, tag: hybrid\n",
      "======================Quantum_LWE======================\n",
      "bkw                  :: rop: ≈2^215.4, m: ≈2^202.9, mem: ≈2^203.8, b: 17, t1: 0, t2: 16, ℓ: 16, #cod: 653, #top: 0, #test: 115, tag: coded-bkw\n",
      "usvp                 :: rop: ≈2^144.9, red: ≈2^144.9, δ: 1.003122, β: 564, d: 1398, tag: usvp\n",
      "bdd                  :: rop: ≈2^146.0, red: ≈2^144.7, svp: ≈2^145.2, β: 563, η: 565, d: 1398, tag: bdd\n",
      "dual                 :: rop: ≈2^150.6, mem: ≈2^130.8, m: 669, β: 586, d: 1437, ↻: 1, tag: dual\n",
      "dual_hybrid          :: rop: ≈2^139.6, red: ≈2^139.6, guess: ≈2^129.3, β: 543, p: 3, ζ: 0, t: 70, β': 543, N: ≈2^112.4, m: 768\n",
      "======================Quantum_NTRU======================\n",
      "usvp                 :: rop: ≈2^144.9, red: ≈2^144.9, δ: 1.003122, β: 564, d: 1388, tag: usvp\n",
      "bdd                  :: rop: ≈2^145.7, red: ≈2^144.7, svp: ≈2^144.7, β: 563, η: 563, d: 1404, tag: bdd\n",
      "bdd_hybrid           :: rop: ≈2^145.7, red: ≈2^144.7, svp: ≈2^144.7, β: 563, η: 563, ζ: 0, |S|: 1, d: 1416, prob: 1, ↻: 1, tag: hybrid\n",
      "bdd_mitm_hybrid      :: rop: ≈2^272.4, red: ≈2^271.4, svp: ≈2^271.3, β: 563, η: 2, ζ: 192, |S|: ≈2^248.1, d: 1224, prob: ≈2^-124.5, ↻: ≈2^126.7, tag: hybrid\n"
     ]
    }
   ],
   "source": [
    "print(\"=====================Classical_LWE=====================\")\n",
    "r = LWE.estimate(NTRUPLUS768_LWE, red_cost_model = ADPS16())\n",
    "print(\"=====================Classical_NTRU=====================\")\n",
    "r = NTRU.estimate(NTRUPLUS768_NTRU, red_cost_model = ADPS16())\n",
    "print(\"======================Quantum_LWE======================\")\n",
    "r = LWE.estimate(NTRUPLUS768_LWE, red_cost_model = ChaLoy21())\n",
    "print(\"======================Quantum_NTRU======================\")\n",
    "r = NTRU.estimate(NTRUPLUS768_NTRU, red_cost_model = ChaLoy21())"
   ]
  },
  {
   "cell_type": "code",
   "execution_count": 17,
   "id": "3b9ad822-5b1c-4629-8be3-46020a9f76a9",
   "metadata": {},
   "outputs": [
    {
     "name": "stdout",
     "output_type": "stream",
     "text": [
      "=====================Classical_LWE=====================\n",
      "bkw                  :: rop: ≈2^239.5, m: ≈2^226.4, mem: ≈2^227.4, b: 19, t1: 0, t2: 17, ℓ: 18, #cod: 739, #top: 1, #test: 124, tag: coded-bkw\n",
      "usvp                 :: rop: ≈2^189.8, red: ≈2^189.8, δ: 1.002817, β: 650, d: 1532, tag: usvp\n",
      "bdd                  :: rop: ≈2^190.7, red: ≈2^189.5, svp: ≈2^189.8, β: 649, η: 650, d: 1549, tag: bdd\n",
      "dual                 :: rop: ≈2^196.5, mem: ≈2^149.0, m: 739, β: 673, d: 1603, ↻: 1, tag: dual\n",
      "dual_hybrid          :: rop: ≈2^179.2, red: ≈2^178.7, guess: ≈2^177.4, β: 612, p: 3, ζ: 0, t: 100, β': 612, N: ≈2^126.7, m: 864\n",
      "=====================Classical_NTRU=====================\n",
      "usvp                 :: rop: ≈2^189.5, red: ≈2^189.5, δ: 1.002820, β: 649, d: 1577, tag: usvp\n",
      "bdd                  :: rop: ≈2^190.4, red: ≈2^189.5, svp: ≈2^189.2, β: 649, η: 648, d: 1552, tag: bdd\n",
      "bdd_hybrid           :: rop: ≈2^190.4, red: ≈2^189.5, svp: ≈2^189.2, β: 649, η: 648, ζ: 0, |S|: 1, d: 1582, prob: 1, ↻: 1, tag: hybrid\n",
      "bdd_mitm_hybrid      :: rop: ≈2^302.9, red: ≈2^301.9, svp: ≈2^301.8, β: 649, η: 2, ζ: 257, |S|: ≈2^337.2, d: 1325, prob: ≈2^-110.2, ↻: ≈2^112.4, tag: hybrid\n",
      "======================Quantum_LWE======================\n",
      "bkw                  :: rop: ≈2^239.5, m: ≈2^226.4, mem: ≈2^227.4, b: 19, t1: 0, t2: 17, ℓ: 18, #cod: 739, #top: 1, #test: 124, tag: coded-bkw\n",
      "usvp                 :: rop: ≈2^167.1, red: ≈2^167.1, δ: 1.002817, β: 650, d: 1532, tag: usvp\n",
      "bdd                  :: rop: ≈2^167.9, red: ≈2^166.8, svp: ≈2^167.1, β: 649, η: 650, d: 1549, tag: bdd\n",
      "dual                 :: rop: ≈2^173.0, mem: ≈2^149.0, m: 739, β: 673, d: 1603, ↻: 1, tag: dual\n",
      "dual_hybrid          :: rop: ≈2^160.2, red: ≈2^160.1, guess: ≈2^156.5, β: 623, p: 3, ζ: 10, t: 70, β': 623, N: ≈2^128.2, m: 864\n",
      "======================Quantum_NTRU======================\n",
      "usvp                 :: rop: ≈2^166.8, red: ≈2^166.8, δ: 1.002820, β: 649, d: 1577, tag: usvp\n",
      "bdd                  :: rop: ≈2^167.7, red: ≈2^166.8, svp: ≈2^166.5, β: 649, η: 648, d: 1552, tag: bdd\n",
      "bdd_hybrid           :: rop: ≈2^167.7, red: ≈2^166.8, svp: ≈2^166.5, β: 649, η: 648, ζ: 0, |S|: 1, d: 1582, prob: 1, ↻: 1, tag: hybrid\n",
      "bdd_mitm_hybrid      :: rop: ≈2^308.4, red: ≈2^307.4, svp: ≈2^307.3, β: 649, η: 2, ζ: 239, |S|: ≈2^292.0, d: 1343, prob: ≈2^-138.4, ↻: ≈2^140.6, tag: hybrid\n"
     ]
    }
   ],
   "source": [
    "print(\"=====================Classical_LWE=====================\")\n",
    "r = LWE.estimate(NTRUPLUS864_LWE, red_cost_model = ADPS16())\n",
    "print(\"=====================Classical_NTRU=====================\")\n",
    "r = NTRU.estimate(NTRUPLUS864_NTRU, red_cost_model = ADPS16())\n",
    "print(\"======================Quantum_LWE======================\")\n",
    "r = LWE.estimate(NTRUPLUS864_LWE, red_cost_model = ChaLoy21())\n",
    "print(\"======================Quantum_NTRU======================\")\n",
    "r = NTRU.estimate(NTRUPLUS864_NTRU, red_cost_model = ChaLoy21())"
   ]
  },
  {
   "cell_type": "code",
   "execution_count": 18,
   "id": "5f9e18e6-a9ca-479b-a187-059055414ccb",
   "metadata": {},
   "outputs": [
    {
     "name": "stdout",
     "output_type": "stream",
     "text": [
      "=====================Classical_LWE=====================\n",
      "bkw                  :: rop: ≈2^310.2, m: ≈2^297.0, mem: ≈2^298.0, b: 25, t1: 0, t2: 17, ℓ: 24, #cod: 983, #top: 0, #test: 169, tag: coded-bkw\n",
      "usvp                 :: rop: ≈2^266.0, red: ≈2^266.0, δ: 1.002192, β: 911, d: 2015, tag: usvp\n",
      "bdd                  :: rop: ≈2^266.9, red: ≈2^266.0, svp: ≈2^265.7, β: 911, η: 910, d: 2035, tag: bdd\n",
      "dual                 :: rop: ≈2^274.8, mem: ≈2^205.1, m: 944, β: 941, d: 2096, ↻: 1, tag: dual\n",
      "dual_hybrid          :: rop: ≈2^248.7, red: ≈2^248.5, guess: ≈2^245.9, β: 851, p: 3, ζ: 20, t: 120, β': 851, N: ≈2^176.3, m: 1152\n",
      "=====================Classical_NTRU=====================\n",
      "usvp                 :: rop: ≈2^266.0, red: ≈2^266.0, δ: 1.002192, β: 911, d: 2010, tag: usvp\n",
      "bdd                  :: rop: ≈2^266.6, red: ≈2^265.4, svp: ≈2^265.7, β: 909, η: 910, d: 2038, tag: bdd\n",
      "bdd_hybrid           :: rop: ≈2^266.6, red: ≈2^265.4, svp: ≈2^265.7, β: 909, η: 910, ζ: 0, |S|: 1, d: 2069, prob: 1, ↻: 1, tag: hybrid\n",
      "bdd_mitm_hybrid      :: rop: ≈2^414.6, red: ≈2^413.7, svp: ≈2^413.4, β: 909, η: 2, ζ: 359, |S|: ≈2^487.2, d: 1710, prob: ≈2^-146.1, ↻: ≈2^148.3, tag: hybrid\n",
      "======================Quantum_LWE======================\n",
      "bkw                  :: rop: ≈2^310.2, m: ≈2^297.0, mem: ≈2^298.0, b: 25, t1: 0, t2: 17, ℓ: 24, #cod: 983, #top: 0, #test: 169, tag: coded-bkw\n",
      "usvp                 :: rop: ≈2^234.1, red: ≈2^234.1, δ: 1.002192, β: 911, d: 2015, tag: usvp\n",
      "bdd                  :: rop: ≈2^235.0, red: ≈2^234.1, svp: ≈2^233.9, β: 911, η: 910, d: 2035, tag: bdd\n",
      "dual                 :: rop: ≈2^241.8, mem: ≈2^205.1, m: 944, β: 941, d: 2096, ↻: 1, tag: dual\n",
      "dual_hybrid          :: rop: ≈2^222.6, red: ≈2^222.6, guess: ≈2^211.7, β: 866, p: 3, ζ: 10, t: 110, β': 866, N: ≈2^179.1, m: 1152\n",
      "======================Quantum_NTRU======================\n",
      "usvp                 :: rop: ≈2^234.1, red: ≈2^234.1, δ: 1.002192, β: 911, d: 2010, tag: usvp\n",
      "bdd                  :: rop: ≈2^234.7, red: ≈2^233.6, svp: ≈2^233.9, β: 909, η: 910, d: 2038, tag: bdd\n",
      "bdd_hybrid           :: rop: ≈2^234.7, red: ≈2^233.6, svp: ≈2^233.9, β: 909, η: 910, ζ: 0, |S|: 1, d: 2069, prob: 1, ↻: 1, tag: hybrid\n",
      "bdd_mitm_hybrid      :: rop: ≈2^426.7, red: ≈2^425.9, svp: ≈2^425.4, β: 909, η: 2, ζ: 360, |S|: ≈2^423.4, d: 1709, prob: ≈2^-190.0, ↻: ≈2^192.2, tag: hybrid\n"
     ]
    }
   ],
   "source": [
    "print(\"=====================Classical_LWE=====================\")\n",
    "r = LWE.estimate(NTRUPLUS1152_LWE, red_cost_model = ADPS16())\n",
    "print(\"=====================Classical_NTRU=====================\")\n",
    "r = NTRU.estimate(NTRUPLUS1152_NTRU, red_cost_model = ADPS16())\n",
    "print(\"======================Quantum_LWE======================\")\n",
    "r = LWE.estimate(NTRUPLUS1152_LWE, red_cost_model = ChaLoy21())\n",
    "print(\"======================Quantum_NTRU======================\")\n",
    "r = NTRU.estimate(NTRUPLUS1152_NTRU, red_cost_model = ChaLoy21())"
   ]
  }
 ],
 "metadata": {
  "kernelspec": {
   "display_name": "SageMath 10.3",
   "language": "sage",
   "name": "sagemath-10.3"
  },
  "language_info": {
   "codemirror_mode": {
    "name": "ipython",
    "version": 3
   },
   "file_extension": ".py",
   "mimetype": "text/x-python",
   "name": "python",
   "nbconvert_exporter": "python",
   "pygments_lexer": "ipython3",
   "version": "3.11.8"
  }
 },
 "nbformat": 4,
 "nbformat_minor": 5
}
