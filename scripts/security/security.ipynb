{
 "cells": [
  {
   "cell_type": "code",
   "execution_count": 1,
   "metadata": {},
   "outputs": [],
   "source": [
    "load('https://bitbucket.org/malb/lwe-estimator/raw/HEAD/estimator.py')"
   ]
  },
  {
   "cell_type": "code",
   "execution_count": 2,
   "metadata": {},
   "outputs": [],
   "source": [
    "Qcost=partial(BKZ.ADPS16, mode=\"quantum\")\n",
    "Ccost=partial(BKZ.ADPS16, mode=\"classical\")"
   ]
  },
  {
   "cell_type": "code",
   "execution_count": 18,
   "metadata": {},
   "outputs": [
    {
     "name": "stderr",
     "output_type": "stream",
     "text": [
      "usvp: rop: ≈2^153.9,  red: ≈2^153.9,  δ_0: 1.003279,  β:  527,  d: 1396,  m:      627\n",
      " dec: rop: ≈2^200.9,  m:      782,  red: ≈2^200.9,  δ_0: 1.002809,  β:  653,  d: 1550,  babai: ≈2^186.5,  babai_op: ≈2^201.6,  repeat:     1177,  ε: 0.003906\n",
      "dual: rop: ≈2^184.0,  m:      777,  red: ≈2^184.0,  δ_0: 1.002882,  β:  630,  repeat: ≈2^131.0,  d: 1545,  c:        1\n",
      "usvp: rop: ≈2^139.7,  red: ≈2^139.7,  δ_0: 1.003279,  β:  527,  d: 1396,  m:      627\n",
      " dec: rop: ≈2^186.2,  m:      801,  red: ≈2^186.2,  δ_0: 1.002775,  β:  664,  d: 1569,  babai: ≈2^171.7,  babai_op: ≈2^186.8,  repeat:     1177,  ε: 0.003906\n",
      "dual: rop: ≈2^170.4,  m:      789,  red: ≈2^170.4,  δ_0: 1.002839,  β:  643,  repeat: ≈2^115.4,  d: 1557,  c:        1\n"
     ]
    },
    {
     "data": {
      "text/plain": [
       "OrderedDict([('usvp',          rop:  2^139.7\n",
       "         red:  2^139.7\n",
       "     delta_0: 1.003279\n",
       "        beta:      527\n",
       "           d:     1396\n",
       "           m:      627), ('dec',          rop:  2^186.2\n",
       "           m:      801\n",
       "         red:  2^186.2\n",
       "     delta_0: 1.002775\n",
       "        beta:      664\n",
       "           d:     1569\n",
       "       babai:  2^171.7\n",
       "    babai_op:  2^186.8\n",
       "      repeat:     1177\n",
       "     epsilon: 0.003906), ('dual',          rop:  2^170.4\n",
       "           m:      789\n",
       "         red:  2^170.4\n",
       "     delta_0: 1.002839\n",
       "        beta:      643\n",
       "      repeat:  2^115.4\n",
       "           d:     1557\n",
       "           c:        1)])"
      ]
     },
     "execution_count": 18,
     "metadata": {},
     "output_type": "execute_result"
    }
   ],
   "source": [
    "n = 768;\n",
    "q = 7681; stddev = sqrt(10/16); alpha = alphaf(sigmaf(stddev), q)\n",
    "estimate_lwe(n, alpha, q, secret_distribution=\"normal\", reduction_cost_model=Ccost)\n",
    "estimate_lwe(n, alpha, q, secret_distribution=\"normal\", reduction_cost_model=Qcost)"
   ]
  },
  {
   "cell_type": "code",
   "execution_count": 13,
   "metadata": {},
   "outputs": [
    {
     "name": "stderr",
     "output_type": "stream",
     "text": [
      "usvp: rop: ≈2^133.4,  red: ≈2^133.4,  δ_0: 1.003628,  β:  457,  d: 1091,  m:      514\n",
      " dec: rop: ≈2^178.0,  m:      614,  red: ≈2^178.0,  δ_0: 1.003135,  β:  561,  d: 1190,  babai: ≈2^163.2,  babai_op: ≈2^178.3,  repeat:  ≈2^14.2,  ε: ≈2^-12.0\n",
      "dual: rop: ≈2^165.3,  m:      630,  red: ≈2^165.3,  δ_0: 1.003115,  β:  566,  repeat: ≈2^115.0,  d: 1206,  c:        1\n",
      "usvp: rop: ≈2^121.1,  red: ≈2^121.1,  δ_0: 1.003628,  β:  457,  d: 1091,  m:      514\n",
      " dec: rop: ≈2^166.3,  m:      647,  red: ≈2^166.3,  δ_0: 1.003029,  β:  589,  d: 1223,  babai: ≈2^152.1,  babai_op: ≈2^167.2,  repeat:     1177,  ε: 0.003906\n",
      "dual: rop: ≈2^151.4,  m:      633,  red: ≈2^151.4,  δ_0: 1.003102,  β:  570,  repeat: ≈2^111.4,  d: 1209,  c:        1\n"
     ]
    },
    {
     "data": {
      "text/plain": [
       "OrderedDict([('usvp',          rop:  2^121.1\n",
       "         red:  2^121.1\n",
       "     delta_0: 1.003628\n",
       "        beta:      457\n",
       "           d:     1091\n",
       "           m:      514), ('dec',          rop:  2^166.3\n",
       "           m:      647\n",
       "         red:  2^166.3\n",
       "     delta_0: 1.003029\n",
       "        beta:      589\n",
       "           d:     1223\n",
       "       babai:  2^152.1\n",
       "    babai_op:  2^167.2\n",
       "      repeat:     1177\n",
       "     epsilon: 0.003906), ('dual',          rop:  2^151.4\n",
       "           m:      633\n",
       "         red:  2^151.4\n",
       "     delta_0: 1.003102\n",
       "        beta:      570\n",
       "      repeat:  2^111.4\n",
       "           d:     1209\n",
       "           c:        1)])"
      ]
     },
     "execution_count": 13,
     "metadata": {},
     "output_type": "execute_result"
    }
   ],
   "source": [
    "n = 576;\n",
    "q = 2593; stddev = sqrt(2.0/2); alpha = alphaf(sigmaf(stddev), q)\n",
    "estimate_lwe(n, alpha, q, secret_distribution=\"normal\", reduction_cost_model=Ccost)\n",
    "estimate_lwe(n, alpha, q, secret_distribution=\"normal\", reduction_cost_model=Qcost)"
   ]
  },
  {
   "cell_type": "code",
   "execution_count": 14,
   "metadata": {},
   "outputs": [
    {
     "name": "stderr",
     "output_type": "stream",
     "text": [
      "usvp: rop: ≈2^125.6,  red: ≈2^125.6,  δ_0: 1.003786,  β:  430,  d: 1079,  m:      502\n",
      " dec: rop: ≈2^167.0,  m:      599,  red: ≈2^167.0,  δ_0: 1.003236,  β:  537,  d: 1175,  babai: ≈2^152.1,  babai_op: ≈2^167.2,  repeat:     1177,  ε: 0.003906\n",
      "dual: rop: ≈2^154.2,  m:      599,  red: ≈2^154.2,  δ_0: 1.003286,  β:  526,  repeat: ≈2^115.0,  d: 1175,  c:        1\n",
      "usvp: rop: ≈2^114.0,  red: ≈2^114.0,  δ_0: 1.003786,  β:  430,  d: 1079,  m:      502\n",
      " dec: rop: ≈2^155.2,  m:      614,  red: ≈2^155.2,  δ_0: 1.003193,  β:  547,  d: 1190,  babai: ≈2^140.4,  babai_op: ≈2^155.5,  repeat:     1177,  ε: 0.003906\n",
      "dual: rop: ≈2^143.4,  m:      611,  red: ≈2^143.4,  δ_0: 1.003221,  β:  541,  repeat:  ≈2^99.0,  d: 1187,  c:        1\n"
     ]
    },
    {
     "data": {
      "text/plain": [
       "OrderedDict([('usvp',          rop:  2^114.0\n",
       "         red:  2^114.0\n",
       "     delta_0: 1.003786\n",
       "        beta:      430\n",
       "           d:     1079\n",
       "           m:      502), ('dec',          rop:  2^155.2\n",
       "           m:      614\n",
       "         red:  2^155.2\n",
       "     delta_0: 1.003193\n",
       "        beta:      547\n",
       "           d:     1190\n",
       "       babai:  2^140.4\n",
       "    babai_op:  2^155.5\n",
       "      repeat:     1177\n",
       "     epsilon: 0.003906), ('dual',          rop:  2^143.4\n",
       "           m:      611\n",
       "         red:  2^143.4\n",
       "     delta_0: 1.003221\n",
       "        beta:      541\n",
       "      repeat:   2^99.0\n",
       "           d:     1187\n",
       "           c:        1)])"
      ]
     },
     "execution_count": 14,
     "metadata": {},
     "output_type": "execute_result"
    }
   ],
   "source": [
    "n = 576;\n",
    "q = 2593; stddev = sqrt(2/3); alpha = alphaf(sigmaf(stddev), q)\n",
    "estimate_lwe(n, alpha, q, secret_distribution=\"normal\", reduction_cost_model=Ccost)\n",
    "estimate_lwe(n, alpha, q, secret_distribution=\"normal\", reduction_cost_model=Qcost)"
   ]
  },
  {
   "cell_type": "code",
   "execution_count": 17,
   "metadata": {},
   "outputs": [
    {
     "name": "stderr",
     "output_type": "stream",
     "text": [
      "usvp: rop: ≈2^124.4,  red: ≈2^124.4,  δ_0: 1.003811,  β:  426,  d: 1070,  m:      493\n",
      " dec: rop: ≈2^165.3,  m:      594,  red: ≈2^165.3,  δ_0: 1.003264,  β:  531,  d: 1170,  babai: ≈2^150.5,  babai_op: ≈2^165.6,  repeat:     1177,  ε: 0.003906\n",
      "dual: rop: ≈2^152.8,  m:      597,  red: ≈2^152.8,  δ_0: 1.003298,  β:  523,  repeat: ≈2^111.0,  d: 1173,  c:        1\n",
      "usvp: rop: ≈2^112.9,  red: ≈2^112.9,  δ_0: 1.003811,  β:  426,  d: 1070,  m:      493\n",
      " dec: rop: ≈2^153.6,  m:      609,  red: ≈2^153.6,  δ_0: 1.003220,  β:  541,  d: 1185,  babai: ≈2^138.8,  babai_op: ≈2^153.9,  repeat:     1177,  ε: 0.003906\n",
      "dual: rop: ≈2^141.6,  m:      606,  red: ≈2^141.6,  δ_0: 1.003248,  β:  534,  repeat:  ≈2^99.0,  d: 1182,  c:        1\n"
     ]
    },
    {
     "data": {
      "text/plain": [
       "OrderedDict([('usvp',          rop:  2^112.9\n",
       "         red:  2^112.9\n",
       "     delta_0: 1.003811\n",
       "        beta:      426\n",
       "           d:     1070\n",
       "           m:      493), ('dec',          rop:  2^153.6\n",
       "           m:      609\n",
       "         red:  2^153.6\n",
       "     delta_0: 1.003220\n",
       "        beta:      541\n",
       "           d:     1185\n",
       "       babai:  2^138.8\n",
       "    babai_op:  2^153.9\n",
       "      repeat:     1177\n",
       "     epsilon: 0.003906), ('dual',          rop:  2^141.6\n",
       "           m:      606\n",
       "         red:  2^141.6\n",
       "     delta_0: 1.003248\n",
       "        beta:      534\n",
       "      repeat:   2^99.0\n",
       "           d:     1182\n",
       "           c:        1)])"
      ]
     },
     "execution_count": 17,
     "metadata": {},
     "output_type": "execute_result"
    }
   ],
   "source": [
    "n = 576;\n",
    "q = 2593; stddev = sqrt(10/16); alpha = alphaf(sigmaf(stddev), q)\n",
    "estimate_lwe(n, alpha, q, secret_distribution=\"normal\", reduction_cost_model=Ccost)\n",
    "estimate_lwe(n, alpha, q, secret_distribution=\"normal\", reduction_cost_model=Qcost)"
   ]
  },
  {
   "cell_type": "code",
   "execution_count": 16,
   "metadata": {},
   "outputs": [
    {
     "data": {
      "text/plain": [
       "1/2*sqrt(5/2)"
      ]
     },
     "execution_count": 16,
     "metadata": {},
     "output_type": "execute_result"
    }
   ],
   "source": [
    "sqrt(10/16)"
   ]
  },
  {
   "cell_type": "code",
   "execution_count": 15,
   "metadata": {},
   "outputs": [
    {
     "name": "stderr",
     "output_type": "stream",
     "text": [
      "usvp: rop: ≈2^114.0,  red: ≈2^114.0,  δ_0: 1.003786,  β:  430,  d: 1079,  m:      502\n",
      " dec: rop: ≈2^155.2,  m:      614,  red: ≈2^155.2,  δ_0: 1.003193,  β:  547,  d: 1190,  babai: ≈2^140.4,  babai_op: ≈2^155.5,  repeat:     1177,  ε: 0.003906\n",
      "dual: rop: ≈2^143.4,  m:      611,  red: ≈2^143.4,  δ_0: 1.003221,  β:  541,  repeat:  ≈2^99.0,  d: 1187,  c:        1\n"
     ]
    },
    {
     "data": {
      "text/plain": [
       "OrderedDict([('usvp',          rop:  2^114.0\n",
       "         red:  2^114.0\n",
       "     delta_0: 1.003786\n",
       "        beta:      430\n",
       "           d:     1079\n",
       "           m:      502), ('dec',          rop:  2^155.2\n",
       "           m:      614\n",
       "         red:  2^155.2\n",
       "     delta_0: 1.003193\n",
       "        beta:      547\n",
       "           d:     1190\n",
       "       babai:  2^140.4\n",
       "    babai_op:  2^155.5\n",
       "      repeat:     1177\n",
       "     epsilon: 0.003906), ('dual',          rop:  2^143.4\n",
       "           m:      611\n",
       "         red:  2^143.4\n",
       "     delta_0: 1.003221\n",
       "        beta:      541\n",
       "      repeat:   2^99.0\n",
       "           d:     1187\n",
       "           c:        1)])"
      ]
     },
     "execution_count": 15,
     "metadata": {},
     "output_type": "execute_result"
    }
   ],
   "source": [
    "estimate_lwe(n, alpha, q, secret_distribution=\"normal\", reduction_cost_model=Qcost)"
   ]
  },
  {
   "cell_type": "code",
   "execution_count": 45,
   "metadata": {},
   "outputs": [
    {
     "name": "stderr",
     "output_type": "stream",
     "text": [
      "usvp: rop: ≈2^164.7,  red: ≈2^164.7,  δ_0: 1.003122,  β:  564,  d: 1376,  m:      607\n",
      " dec: rop: ≈2^218.0,  m:      747,  red: ≈2^218.0,  δ_0: 1.002674,  β:  698,  d: 1515,  babai: ≈2^204.4,  babai_op: ≈2^219.5,  repeat:  ≈2^14.2,  ε: ≈2^-12.0\n",
      "dual: rop: ≈2^196.8,  m:      743,  red: ≈2^196.8,  δ_0: 1.002744,  β:  674,  repeat: ≈2^152.0,  d: 1511,  c:        1\n",
      "usvp: rop: ≈2^149.5,  red: ≈2^149.5,  δ_0: 1.003122,  β:  564,  d: 1376,  m:      607\n",
      " dec: rop: ≈2^202.6,  m:      747,  red: ≈2^202.6,  δ_0: 1.002638,  β:  711,  d: 1515,  babai: ≈2^188.0,  babai_op: ≈2^203.1,  repeat:  ≈2^14.2,  ε: ≈2^-12.0\n",
      "dual: rop: ≈2^183.1,  m:      757,  red: ≈2^183.1,  δ_0: 1.002694,  β:  691,  repeat: ≈2^131.0,  d: 1525,  c:        1\n"
     ]
    },
    {
     "data": {
      "text/plain": [
       "OrderedDict([('usvp',          rop:  2^149.5\n",
       "         red:  2^149.5\n",
       "     delta_0: 1.003122\n",
       "        beta:      564\n",
       "           d:     1376\n",
       "           m:      607), ('dec',          rop:  2^202.6\n",
       "           m:      747\n",
       "         red:  2^202.6\n",
       "     delta_0: 1.002638\n",
       "        beta:      711\n",
       "           d:     1515\n",
       "       babai:  2^188.0\n",
       "    babai_op:  2^203.1\n",
       "      repeat:   2^14.2\n",
       "     epsilon:  2^-12.0), ('dual',          rop:  2^183.1\n",
       "           m:      757\n",
       "         red:  2^183.1\n",
       "     delta_0: 1.002694\n",
       "        beta:      691\n",
       "      repeat:  2^131.0\n",
       "           d:     1525\n",
       "           c:        1)])"
      ]
     },
     "execution_count": 45,
     "metadata": {},
     "output_type": "execute_result"
    }
   ],
   "source": [
    "n = 768;\n",
    "q = 3457; stddev = sqrt(1/2); alpha = alphaf(sigmaf(stddev), q)\n",
    "estimate_lwe(n, alpha, q, secret_distribution=\"normal\", reduction_cost_model=Ccost)\n",
    "estimate_lwe(n, alpha, q, secret_distribution=\"normal\", reduction_cost_model=Qcost)"
   ]
  },
  {
   "cell_type": "code",
   "execution_count": 40,
   "metadata": {},
   "outputs": [
    {
     "name": "stderr",
     "output_type": "stream",
     "text": [
      "usvp: rop: ≈2^181.9,  red: ≈2^181.9,  δ_0: 1.002905,  β:  623,  d: 1396,  m:      627\n",
      " dec: rop: ≈2^246.0,  m:      742,  red: ≈2^246.0,  δ_0: 1.002464,  β:  780,  d: 1510,  babai: ≈2^231.1,  babai_op: ≈2^246.2,  repeat:  ≈2^18.2,  ε: ≈2^-16.0\n",
      "dual: rop: ≈2^218.1,  m:      748,  red: ≈2^218.1,  δ_0: 1.002545,  β:  746,  repeat: ≈2^177.0,  d: 1516,  c:        1\n",
      "usvp: rop: ≈2^165.1,  red: ≈2^165.1,  δ_0: 1.002905,  β:  623,  d: 1396,  m:      627\n",
      " dec: rop: ≈2^228.6,  m:      779,  red: ≈2^228.6,  δ_0: 1.002430,  β:  794,  d: 1547,  babai: ≈2^214.1,  babai_op: ≈2^229.2,  repeat:  ≈2^18.2,  ε: ≈2^-16.0\n",
      "dual: rop: ≈2^203.3,  m:      763,  red: ≈2^203.3,  δ_0: 1.002495,  β:  767,  repeat: ≈2^152.0,  d: 1531,  c:        1\n"
     ]
    },
    {
     "data": {
      "text/plain": [
       "OrderedDict([('usvp',          rop:  2^165.1\n",
       "         red:  2^165.1\n",
       "     delta_0: 1.002905\n",
       "        beta:      623\n",
       "           d:     1396\n",
       "           m:      627), ('dec',          rop:  2^228.6\n",
       "           m:      779\n",
       "         red:  2^228.6\n",
       "     delta_0: 1.002430\n",
       "        beta:      794\n",
       "           d:     1547\n",
       "       babai:  2^214.1\n",
       "    babai_op:  2^229.2\n",
       "      repeat:   2^18.2\n",
       "     epsilon:  2^-16.0), ('dual',          rop:  2^203.3\n",
       "           m:      763\n",
       "         red:  2^203.3\n",
       "     delta_0: 1.002495\n",
       "        beta:      767\n",
       "      repeat:  2^152.0\n",
       "           d:     1531\n",
       "           c:        1)])"
      ]
     },
     "execution_count": 40,
     "metadata": {},
     "output_type": "execute_result"
    }
   ],
   "source": [
    "n = 768;\n",
    "q = 2017; stddev = sqrt(5/8); alpha = alphaf(sigmaf(stddev), q)\n",
    "estimate_lwe(n, alpha, q, secret_distribution=\"normal\", reduction_cost_model=Ccost)\n",
    "estimate_lwe(n, alpha, q, secret_distribution=\"normal\", reduction_cost_model=Qcost)"
   ]
  },
  {
   "cell_type": "code",
   "execution_count": 28,
   "metadata": {},
   "outputs": [
    {
     "name": "stderr",
     "output_type": "stream",
     "text": [
      "usvp: rop: ≈2^124.4,  red: ≈2^124.4,  δ_0: 1.003811,  β:  426,  d: 1070,  m:      493\n",
      " dec: rop: ≈2^165.3,  m:      594,  red: ≈2^165.3,  δ_0: 1.003264,  β:  531,  d: 1170,  babai: ≈2^150.5,  babai_op: ≈2^165.6,  repeat:     1177,  ε: 0.003906\n",
      "dual: rop: ≈2^152.8,  m:      597,  red: ≈2^152.8,  δ_0: 1.003298,  β:  523,  repeat: ≈2^111.0,  d: 1173,  c:        1\n",
      "usvp: rop: ≈2^112.9,  red: ≈2^112.9,  δ_0: 1.003811,  β:  426,  d: 1070,  m:      493\n",
      " dec: rop: ≈2^153.6,  m:      609,  red: ≈2^153.6,  δ_0: 1.003220,  β:  541,  d: 1185,  babai: ≈2^138.8,  babai_op: ≈2^153.9,  repeat:     1177,  ε: 0.003906\n",
      "dual: rop: ≈2^141.6,  m:      606,  red: ≈2^141.6,  δ_0: 1.003248,  β:  534,  repeat:  ≈2^99.0,  d: 1182,  c:        1\n"
     ]
    },
    {
     "data": {
      "text/plain": [
       "OrderedDict([('usvp',          rop:  2^112.9\n",
       "         red:  2^112.9\n",
       "     delta_0: 1.003811\n",
       "        beta:      426\n",
       "           d:     1070\n",
       "           m:      493), ('dec',          rop:  2^153.6\n",
       "           m:      609\n",
       "         red:  2^153.6\n",
       "     delta_0: 1.003220\n",
       "        beta:      541\n",
       "           d:     1185\n",
       "       babai:  2^138.8\n",
       "    babai_op:  2^153.9\n",
       "      repeat:     1177\n",
       "     epsilon: 0.003906), ('dual',          rop:  2^141.6\n",
       "           m:      606\n",
       "         red:  2^141.6\n",
       "     delta_0: 1.003248\n",
       "        beta:      534\n",
       "      repeat:   2^99.0\n",
       "           d:     1182\n",
       "           c:        1)])"
      ]
     },
     "execution_count": 28,
     "metadata": {},
     "output_type": "execute_result"
    }
   ],
   "source": [
    "n = 576;\n",
    "q = 2593; stddev = sqrt(5/8); alpha = alphaf(sigmaf(stddev), q)\n",
    "estimate_lwe(n, alpha, q, secret_distribution=\"normal\", reduction_cost_model=Ccost)\n",
    "estimate_lwe(n, alpha, q, secret_distribution=\"normal\", reduction_cost_model=Qcost)"
   ]
  },
  {
   "cell_type": "code",
   "execution_count": null,
   "metadata": {},
   "outputs": [],
   "source": []
  },
  {
   "cell_type": "code",
   "execution_count": null,
   "metadata": {},
   "outputs": [],
   "source": []
  },
  {
   "cell_type": "code",
   "execution_count": null,
   "metadata": {},
   "outputs": [],
   "source": []
  }
 ],
 "metadata": {
  "kernelspec": {
   "display_name": "SageMath 9.3",
   "language": "sage",
   "name": "sagemath"
  },
  "language_info": {
   "codemirror_mode": {
    "name": "ipython",
    "version": 3
   },
   "file_extension": ".py",
   "mimetype": "text/x-python",
   "name": "python",
   "nbconvert_exporter": "python",
   "pygments_lexer": "ipython3",
   "version": "3.7.10"
  }
 },
 "nbformat": 4,
 "nbformat_minor": 4
}
