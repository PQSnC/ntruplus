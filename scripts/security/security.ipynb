{
 "cells": [
  {
   "cell_type": "code",
   "execution_count": 1,
   "metadata": {},
   "outputs": [],
   "source": [
    "load('https://bitbucket.org/malb/lwe-estimator/raw/HEAD/estimator.py')"
   ]
  },
  {
   "cell_type": "code",
   "execution_count": 2,
   "metadata": {},
   "outputs": [],
   "source": [
    "Qcost=partial(BKZ.ADPS16, mode=\"quantum\")\n",
    "Ccost=partial(BKZ.ADPS16, mode=\"classical\")"
   ]
  },
  {
   "cell_type": "code",
   "execution_count": 3,
   "metadata": {},
   "outputs": [],
   "source": [
    "n = 576;\n",
    "q = 3457; stddev = sqrt(1/2); alpha = alphaf(sigmaf(stddev), q)"
   ]
  },
  {
   "cell_type": "code",
   "execution_count": 4,
   "metadata": {},
   "outputs": [
    {
     "name": "stderr",
     "output_type": "stream",
     "text": [
      "usvp: rop: ≈2^115.9,  red: ≈2^115.9,  δ_0: 1.004003,  β:  397,  d: 1043,  m:      466\n",
      " dec: rop: ≈2^151.8,  m:      575,  red: ≈2^151.8,  δ_0: 1.003479,  β:  485,  d: 1151,  babai: ≈2^137.1,  babai_op: ≈2^152.2,  repeat:     1177,  ε: 0.003906\n",
      "dual: rop: ≈2^142.2,  m:      588,  red: ≈2^142.2,  δ_0: 1.003469,  β:  487,  repeat:  ≈2^99.0,  d: 1164,  c:        1\n"
     ]
    },
    {
     "data": {
      "text/plain": [
       "OrderedDict([('usvp',          rop:  2^115.9\n",
       "         red:  2^115.9\n",
       "     delta_0: 1.004003\n",
       "        beta:      397\n",
       "           d:     1043\n",
       "           m:      466), ('dec',          rop:  2^151.8\n",
       "           m:      575\n",
       "         red:  2^151.8\n",
       "     delta_0: 1.003479\n",
       "        beta:      485\n",
       "           d:     1151\n",
       "       babai:  2^137.1\n",
       "    babai_op:  2^152.2\n",
       "      repeat:     1177\n",
       "     epsilon: 0.003906), ('dual',          rop:  2^142.2\n",
       "           m:      588\n",
       "         red:  2^142.2\n",
       "     delta_0: 1.003469\n",
       "        beta:      487\n",
       "      repeat:   2^99.0\n",
       "           d:     1164\n",
       "           c:        1)])"
      ]
     },
     "execution_count": 4,
     "metadata": {},
     "output_type": "execute_result"
    }
   ],
   "source": [
    "estimate_lwe(n, alpha, q, secret_distribution=\"normal\", reduction_cost_model=Ccost)"
   ]
  },
  {
   "cell_type": "code",
   "execution_count": 5,
   "metadata": {},
   "outputs": [
    {
     "name": "stderr",
     "output_type": "stream",
     "text": [
      "usvp: rop: ≈2^105.2,  red: ≈2^105.2,  δ_0: 1.004003,  β:  397,  d: 1043,  m:      466\n",
      " dec: rop: ≈2^141.1,  m:      590,  red: ≈2^141.1,  δ_0: 1.003437,  β:  494,  d: 1166,  babai: ≈2^126.1,  babai_op: ≈2^141.2,  repeat:     1177,  ε: 0.003906\n",
      "dual: rop: ≈2^132.1,  m:      592,  red: ≈2^132.1,  δ_0: 1.003446,  β:  492,  repeat:  ≈2^94.0,  d: 1168,  c:        1\n"
     ]
    },
    {
     "data": {
      "text/plain": [
       "OrderedDict([('usvp',          rop:  2^105.2\n",
       "         red:  2^105.2\n",
       "     delta_0: 1.004003\n",
       "        beta:      397\n",
       "           d:     1043\n",
       "           m:      466), ('dec',          rop:  2^141.1\n",
       "           m:      590\n",
       "         red:  2^141.1\n",
       "     delta_0: 1.003437\n",
       "        beta:      494\n",
       "           d:     1166\n",
       "       babai:  2^126.1\n",
       "    babai_op:  2^141.2\n",
       "      repeat:     1177\n",
       "     epsilon: 0.003906), ('dual',          rop:  2^132.1\n",
       "           m:      592\n",
       "         red:  2^132.1\n",
       "     delta_0: 1.003446\n",
       "        beta:      492\n",
       "      repeat:   2^94.0\n",
       "           d:     1168\n",
       "           c:        1)])"
      ]
     },
     "execution_count": 5,
     "metadata": {},
     "output_type": "execute_result"
    }
   ],
   "source": [
    "estimate_lwe(n, alpha, q, secret_distribution=\"normal\", reduction_cost_model=Qcost)"
   ]
  },
  {
   "cell_type": "code",
   "execution_count": 6,
   "metadata": {},
   "outputs": [],
   "source": [
    "n = 768;\n",
    "q = 3457; stddev = sqrt(1/2); alpha = alphaf(sigmaf(stddev), q)"
   ]
  },
  {
   "cell_type": "code",
   "execution_count": 7,
   "metadata": {},
   "outputs": [
    {
     "name": "stderr",
     "output_type": "stream",
     "text": [
      "usvp: rop: ≈2^164.7,  red: ≈2^164.7,  δ_0: 1.003122,  β:  564,  d: 1376,  m:      607\n",
      " dec: rop: ≈2^218.0,  m:      747,  red: ≈2^218.0,  δ_0: 1.002674,  β:  698,  d: 1515,  babai: ≈2^204.4,  babai_op: ≈2^219.5,  repeat:  ≈2^14.2,  ε: ≈2^-12.0\n",
      "dual: rop: ≈2^196.8,  m:      743,  red: ≈2^196.8,  δ_0: 1.002744,  β:  674,  repeat: ≈2^152.0,  d: 1511,  c:        1\n"
     ]
    },
    {
     "data": {
      "text/plain": [
       "OrderedDict([('usvp',          rop:  2^164.7\n",
       "         red:  2^164.7\n",
       "     delta_0: 1.003122\n",
       "        beta:      564\n",
       "           d:     1376\n",
       "           m:      607), ('dec',          rop:  2^218.0\n",
       "           m:      747\n",
       "         red:  2^218.0\n",
       "     delta_0: 1.002674\n",
       "        beta:      698\n",
       "           d:     1515\n",
       "       babai:  2^204.4\n",
       "    babai_op:  2^219.5\n",
       "      repeat:   2^14.2\n",
       "     epsilon:  2^-12.0), ('dual',          rop:  2^196.8\n",
       "           m:      743\n",
       "         red:  2^196.8\n",
       "     delta_0: 1.002744\n",
       "        beta:      674\n",
       "      repeat:  2^152.0\n",
       "           d:     1511\n",
       "           c:        1)])"
      ]
     },
     "execution_count": 7,
     "metadata": {},
     "output_type": "execute_result"
    }
   ],
   "source": [
    "estimate_lwe(n, alpha, q, secret_distribution=\"normal\", reduction_cost_model=Ccost)"
   ]
  },
  {
   "cell_type": "code",
   "execution_count": 8,
   "metadata": {},
   "outputs": [
    {
     "name": "stderr",
     "output_type": "stream",
     "text": [
      "usvp: rop: ≈2^149.5,  red: ≈2^149.5,  δ_0: 1.003122,  β:  564,  d: 1376,  m:      607\n",
      " dec: rop: ≈2^202.6,  m:      747,  red: ≈2^202.6,  δ_0: 1.002638,  β:  711,  d: 1515,  babai: ≈2^188.0,  babai_op: ≈2^203.1,  repeat:  ≈2^14.2,  ε: ≈2^-12.0\n",
      "dual: rop: ≈2^183.1,  m:      757,  red: ≈2^183.1,  δ_0: 1.002694,  β:  691,  repeat: ≈2^131.0,  d: 1525,  c:        1\n"
     ]
    },
    {
     "data": {
      "text/plain": [
       "OrderedDict([('usvp',          rop:  2^149.5\n",
       "         red:  2^149.5\n",
       "     delta_0: 1.003122\n",
       "        beta:      564\n",
       "           d:     1376\n",
       "           m:      607), ('dec',          rop:  2^202.6\n",
       "           m:      747\n",
       "         red:  2^202.6\n",
       "     delta_0: 1.002638\n",
       "        beta:      711\n",
       "           d:     1515\n",
       "       babai:  2^188.0\n",
       "    babai_op:  2^203.1\n",
       "      repeat:   2^14.2\n",
       "     epsilon:  2^-12.0), ('dual',          rop:  2^183.1\n",
       "           m:      757\n",
       "         red:  2^183.1\n",
       "     delta_0: 1.002694\n",
       "        beta:      691\n",
       "      repeat:  2^131.0\n",
       "           d:     1525\n",
       "           c:        1)])"
      ]
     },
     "execution_count": 8,
     "metadata": {},
     "output_type": "execute_result"
    }
   ],
   "source": [
    "estimate_lwe(n, alpha, q, secret_distribution=\"normal\", reduction_cost_model=Qcost)"
   ]
  },
  {
   "cell_type": "code",
   "execution_count": 9,
   "metadata": {},
   "outputs": [],
   "source": [
    "n = 864;\n",
    "q = 3457; stddev = sqrt(1/2); alpha = alphaf(sigmaf(stddev), q)"
   ]
  },
  {
   "cell_type": "code",
   "execution_count": 10,
   "metadata": {},
   "outputs": [
    {
     "name": "stderr",
     "output_type": "stream",
     "text": [
      "usvp: rop: ≈2^189.5,  red: ≈2^189.5,  δ_0: 1.002820,  β:  649,  d: 1550,  m:      685\n",
      " dec: rop: ≈2^252.6,  m:      817,  red: ≈2^252.6,  δ_0: 1.002405,  β:  806,  d: 1681,  babai: ≈2^238.9,  babai_op: ≈2^254.0,  repeat:  ≈2^17.2,  ε: ≈2^-15.0\n",
      "dual: rop: ≈2^224.3,  m:      817,  red: ≈2^224.3,  δ_0: 1.002494,  β:  767,  repeat: ≈2^183.0,  d: 1681,  c:        1\n"
     ]
    },
    {
     "data": {
      "text/plain": [
       "OrderedDict([('usvp',          rop:  2^189.5\n",
       "         red:  2^189.5\n",
       "     delta_0: 1.002820\n",
       "        beta:      649\n",
       "           d:     1550\n",
       "           m:      685), ('dec',          rop:  2^252.6\n",
       "           m:      817\n",
       "         red:  2^252.6\n",
       "     delta_0: 1.002405\n",
       "        beta:      806\n",
       "           d:     1681\n",
       "       babai:  2^238.9\n",
       "    babai_op:  2^254.0\n",
       "      repeat:   2^17.2\n",
       "     epsilon:  2^-15.0), ('dual',          rop:  2^224.3\n",
       "           m:      817\n",
       "         red:  2^224.3\n",
       "     delta_0: 1.002494\n",
       "        beta:      767\n",
       "      repeat:  2^183.0\n",
       "           d:     1681\n",
       "           c:        1)])"
      ]
     },
     "execution_count": 10,
     "metadata": {},
     "output_type": "execute_result"
    }
   ],
   "source": [
    "estimate_lwe(n, alpha, q, secret_distribution=\"normal\", reduction_cost_model=Ccost)"
   ]
  },
  {
   "cell_type": "code",
   "execution_count": 11,
   "metadata": {},
   "outputs": [
    {
     "name": "stderr",
     "output_type": "stream",
     "text": [
      "usvp: rop: ≈2^172.0,  red: ≈2^172.0,  δ_0: 1.002820,  β:  649,  d: 1550,  m:      685\n",
      " dec: rop: ≈2^234.7,  m:      840,  red: ≈2^234.7,  δ_0: 1.002347,  β:  832,  d: 1704,  babai: ≈2^219.8,  babai_op: ≈2^234.9,  repeat:  ≈2^14.2,  ε: ≈2^-12.0\n",
      "dual: rop: ≈2^208.8,  m:      834,  red: ≈2^208.8,  δ_0: 1.002444,  β:  788,  repeat: ≈2^155.0,  d: 1698,  c:        1\n"
     ]
    },
    {
     "data": {
      "text/plain": [
       "OrderedDict([('usvp',          rop:  2^172.0\n",
       "         red:  2^172.0\n",
       "     delta_0: 1.002820\n",
       "        beta:      649\n",
       "           d:     1550\n",
       "           m:      685), ('dec',          rop:  2^234.7\n",
       "           m:      840\n",
       "         red:  2^234.7\n",
       "     delta_0: 1.002347\n",
       "        beta:      832\n",
       "           d:     1704\n",
       "       babai:  2^219.8\n",
       "    babai_op:  2^234.9\n",
       "      repeat:   2^14.2\n",
       "     epsilon:  2^-12.0), ('dual',          rop:  2^208.8\n",
       "           m:      834\n",
       "         red:  2^208.8\n",
       "     delta_0: 1.002444\n",
       "        beta:      788\n",
       "      repeat:  2^155.0\n",
       "           d:     1698\n",
       "           c:        1)])"
      ]
     },
     "execution_count": 11,
     "metadata": {},
     "output_type": "execute_result"
    }
   ],
   "source": [
    "estimate_lwe(n, alpha, q, secret_distribution=\"normal\", reduction_cost_model=Qcost)"
   ]
  },
  {
   "cell_type": "code",
   "execution_count": 12,
   "metadata": {},
   "outputs": [],
   "source": [
    "n = 1152;\n",
    "q = 3457; stddev = sqrt(1/2); alpha = alphaf(sigmaf(stddev), q)"
   ]
  },
  {
   "cell_type": "code",
   "execution_count": 13,
   "metadata": {},
   "outputs": [
    {
     "name": "stderr",
     "output_type": "stream",
     "text": [
      "usvp: rop: ≈2^265.7,  red: ≈2^265.7,  δ_0: 1.002194,  β:  910,  d: 2035,  m:      882\n",
      " dec: rop: ≈2^360.4,  m:     1081,  red: ≈2^360.4,  δ_0: 1.001810,  β: 1172,  d: 2233,  babai: ≈2^346.5,  babai_op: ≈2^361.6,  repeat:  ≈2^18.2,  ε: ≈2^-16.0\n",
      "dual: rop: ≈2^313.9,  m:     1051,  red: ≈2^313.9,  δ_0: 1.001935,  β: 1075,  repeat: ≈2^243.0,  d: 2203,  c:        1\n"
     ]
    },
    {
     "data": {
      "text/plain": [
       "OrderedDict([('usvp',          rop:  2^265.7\n",
       "         red:  2^265.7\n",
       "     delta_0: 1.002194\n",
       "        beta:      910\n",
       "           d:     2035\n",
       "           m:      882), ('dec',          rop:  2^360.4\n",
       "           m:     1081\n",
       "         red:  2^360.4\n",
       "     delta_0: 1.001810\n",
       "        beta:     1172\n",
       "           d:   2^11.1\n",
       "       babai:  2^346.5\n",
       "    babai_op:  2^361.6\n",
       "      repeat:   2^18.2\n",
       "     epsilon:  2^-16.0), ('dual',          rop:  2^313.9\n",
       "           m:     1051\n",
       "         red:  2^313.9\n",
       "     delta_0: 1.001935\n",
       "        beta:     1075\n",
       "      repeat:  2^243.0\n",
       "           d:   2^11.1\n",
       "           c:        1)])"
      ]
     },
     "execution_count": 13,
     "metadata": {},
     "output_type": "execute_result"
    }
   ],
   "source": [
    "estimate_lwe(n, alpha, q, secret_distribution=\"normal\", reduction_cost_model=Ccost)"
   ]
  },
  {
   "cell_type": "code",
   "execution_count": 14,
   "metadata": {},
   "outputs": [
    {
     "name": "stderr",
     "output_type": "stream",
     "text": [
      "usvp: rop: ≈2^241.2,  red: ≈2^241.2,  δ_0: 1.002194,  β:  910,  d: 2035,  m:      882\n",
      " dec: rop: ≈2^334.1,  m:     1136,  red: ≈2^334.1,  δ_0: 1.001787,  β: 1192,  d: 2288,  babai: ≈2^320.0,  babai_op: ≈2^335.1,  repeat:  ≈2^18.2,  ε: ≈2^-16.0\n",
      "dual: rop: ≈2^288.6,  m:     1063,  red: ≈2^288.6,  δ_0: 1.001916,  β: 1089,  repeat: ≈2^223.0,  d: 2215,  c:        1\n"
     ]
    },
    {
     "data": {
      "text/plain": [
       "OrderedDict([('usvp',          rop:  2^241.2\n",
       "         red:  2^241.2\n",
       "     delta_0: 1.002194\n",
       "        beta:      910\n",
       "           d:     2035\n",
       "           m:      882), ('dec',          rop:  2^334.1\n",
       "           m:     1136\n",
       "         red:  2^334.1\n",
       "     delta_0: 1.001787\n",
       "        beta:     1192\n",
       "           d:   2^11.2\n",
       "       babai:  2^320.0\n",
       "    babai_op:  2^335.1\n",
       "      repeat:   2^18.2\n",
       "     epsilon:  2^-16.0), ('dual',          rop:  2^288.6\n",
       "           m:     1063\n",
       "         red:  2^288.6\n",
       "     delta_0: 1.001916\n",
       "        beta:     1089\n",
       "      repeat:  2^223.0\n",
       "           d:   2^11.1\n",
       "           c:        1)])"
      ]
     },
     "execution_count": 14,
     "metadata": {},
     "output_type": "execute_result"
    }
   ],
   "source": [
    "estimate_lwe(n, alpha, q, secret_distribution=\"normal\", reduction_cost_model=Qcost)"
   ]
  },
  {
   "cell_type": "code",
   "execution_count": null,
   "metadata": {},
   "outputs": [],
   "source": []
  }
 ],
 "metadata": {
  "kernelspec": {
   "display_name": "SageMath 9.3",
   "language": "sage",
   "name": "sagemath"
  },
  "language_info": {
   "codemirror_mode": {
    "name": "ipython",
    "version": 3
   },
   "file_extension": ".py",
   "mimetype": "text/x-python",
   "name": "python",
   "nbconvert_exporter": "python",
   "pygments_lexer": "ipython3",
   "version": "3.7.10"
  }
 },
 "nbformat": 4,
 "nbformat_minor": 4
}
