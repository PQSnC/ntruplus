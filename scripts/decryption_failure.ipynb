{
 "cells": [
  {
   "cell_type": "markdown",
   "metadata": {},
   "source": [
    "# Decryption Failure for GenNTRU[psi_1]"
   ]
  },
  {
   "cell_type": "markdown",
   "metadata": {},
   "source": [
    "### Paramters"
   ]
  },
  {
   "cell_type": "code",
   "execution_count": 51,
   "metadata": {},
   "outputs": [],
   "source": [
    "n = 576\n",
    "q = 3457"
   ]
  },
  {
   "cell_type": "code",
   "execution_count": 48,
   "metadata": {},
   "outputs": [],
   "source": [
    "R.<x> = QQ[]"
   ]
  },
  {
   "cell_type": "markdown",
   "metadata": {},
   "source": [
    "### Centered Binomial Distribution psi_1"
   ]
  },
  {
   "cell_type": "code",
   "execution_count": 25,
   "metadata": {},
   "outputs": [],
   "source": [
    "table0 = [0, 0, 0]\n",
    "for i in range(0,2):\n",
    "    for j in range(0,2):\n",
    "        r = i - j + 1                      \n",
    "        table0[r] += 1/4;"
   ]
  },
  {
   "cell_type": "code",
   "execution_count": 26,
   "metadata": {},
   "outputs": [
    {
     "data": {
      "text/plain": [
       "[1/4, 1/2, 1/4]"
      ]
     },
     "execution_count": 26,
     "metadata": {},
     "output_type": "execute_result"
    }
   ],
   "source": [
    "table0"
   ]
  },
  {
   "cell_type": "markdown",
   "metadata": {},
   "source": [
    "### Table 1"
   ]
  },
  {
   "cell_type": "code",
   "execution_count": 27,
   "metadata": {},
   "outputs": [],
   "source": [
    "table1 = [0, 0, 0, 0, 0]\n",
    "\n",
    "for a1 in range(-1,2):\n",
    "    p1 = table0[a1+1];\n",
    "    for a2 in range(-1,2):\n",
    "        p2 = table0[a2+1];\n",
    "        for b1 in range(-1,2):\n",
    "            p3 = table0[b1+1];\n",
    "            for b2 in range(-1,2):\n",
    "                p4= table0[b2+1];\n",
    "                \n",
    "                table1[a1*a2+b1*b2 + 2] += p1*p2*p3*p4;"
   ]
  },
  {
   "cell_type": "code",
   "execution_count": 28,
   "metadata": {},
   "outputs": [
    {
     "data": {
      "text/plain": [
       "[1/64, 3/16, 19/32, 3/16, 1/64]"
      ]
     },
     "execution_count": 28,
     "metadata": {},
     "output_type": "execute_result"
    }
   ],
   "source": [
    "table1"
   ]
  },
  {
   "cell_type": "code",
   "execution_count": 29,
   "metadata": {},
   "outputs": [],
   "source": [
    "poly1 = 0;\n",
    "for i in range(5):\n",
    "    poly1 += table1[i]*x^i"
   ]
  },
  {
   "cell_type": "markdown",
   "metadata": {},
   "source": [
    "### Table 2"
   ]
  },
  {
   "cell_type": "code",
   "execution_count": 30,
   "metadata": {},
   "outputs": [],
   "source": [
    "table2 = [0, 0, 0, 0, 0, 0, 0]\n",
    "\n",
    "for a1 in range(-1,2):\n",
    "    p1 = table0[a1+1];\n",
    "    for a2 in range(-1,2):\n",
    "        p2 = table0[a2+1];\n",
    "        for b1 in range(-1,2):\n",
    "            p3 = table0[b1+1];\n",
    "            for b2 in range(-1,2):\n",
    "                p4= table0[b2+1];\n",
    "                \n",
    "                table2[(a1*b1)+b2*(a1 + a2) + 3] += p1*p2*p3*p4;"
   ]
  },
  {
   "cell_type": "code",
   "execution_count": 31,
   "metadata": {},
   "outputs": [
    {
     "data": {
      "text/plain": [
       "[1/128, 1/32, 23/128, 9/16, 23/128, 1/32, 1/128]"
      ]
     },
     "execution_count": 31,
     "metadata": {},
     "output_type": "execute_result"
    }
   ],
   "source": [
    "table2"
   ]
  },
  {
   "cell_type": "code",
   "execution_count": 32,
   "metadata": {},
   "outputs": [],
   "source": [
    "poly2 = 0;\n",
    "for i in range(7):\n",
    "    poly2 += table2[i]*x^i"
   ]
  },
  {
   "cell_type": "markdown",
   "metadata": {},
   "source": [
    "### epsilon"
   ]
  },
  {
   "cell_type": "code",
   "execution_count": 33,
   "metadata": {},
   "outputs": [],
   "source": [
    "p = 1;\n",
    "\n",
    "for i in range(0, n/2):\n",
    "    poly = poly1^(2*i)\n",
    "    poly *= poly2^(n-i*2)\n",
    "    \n",
    "    coef = poly.coefficients()\n",
    "    deg = poly.degree()\n",
    "    \n",
    "    sum = 0;\n",
    "    for j in range(deg/2 + floor((q-3)/ 6), deg+1):\n",
    "        sum += coef[j]\n",
    "    \n",
    "    p *= (1 - 2 * sum);\n",
    "          \n",
    "poly = poly2^n\n",
    "\n",
    "coef = poly.coefficients()\n",
    "deg = poly.degree()\n",
    "\n",
    "sum = 0;\n",
    "for j in range(deg/2 + floor((q-3)/ 6), deg+1):\n",
    "    sum += coef[j]\n",
    "\n",
    "p *= (1 - 2 * sum)^(n/2);\n",
    "\n",
    "p = 1 - p"
   ]
  },
  {
   "cell_type": "markdown",
   "metadata": {},
   "source": [
    "### result"
   ]
  },
  {
   "cell_type": "code",
   "execution_count": 49,
   "metadata": {},
   "outputs": [
    {
     "data": {
      "text/plain": [
       "-487.76732265217212573198873940"
      ]
     },
     "execution_count": 49,
     "metadata": {},
     "output_type": "execute_result"
    }
   ],
   "source": [
    "log(p,2).n(100)"
   ]
  },
  {
   "cell_type": "markdown",
   "metadata": {},
   "source": [
    "# Average-case to Worst-case Correction Error"
   ]
  },
  {
   "cell_type": "code",
   "execution_count": 35,
   "metadata": {},
   "outputs": [],
   "source": [
    "delta=p"
   ]
  },
  {
   "cell_type": "markdown",
   "metadata": {},
   "source": [
    "### |psi_R|"
   ]
  },
  {
   "cell_type": "code",
   "execution_count": 43,
   "metadata": {},
   "outputs": [
    {
     "name": "stdout",
     "output_type": "stream",
     "text": [
      "-815.06159958461403948264636829\n"
     ]
    }
   ],
   "source": [
    "a = 0;\n",
    "for k in range(0,n+1):\n",
    "    a += (2^k)*binomial(n,k)*((1/2^(n-k))*(1/4^k))^2\n",
    "    \n",
    "print(log(a,2).n(100))"
   ]
  },
  {
   "cell_type": "markdown",
   "metadata": {},
   "source": [
    "### |M'|"
   ]
  },
  {
   "cell_type": "code",
   "execution_count": 38,
   "metadata": {},
   "outputs": [],
   "source": [
    "b = ((1/2)^n)^2 * 2^n"
   ]
  },
  {
   "cell_type": "markdown",
   "metadata": {},
   "source": [
    "### delta'"
   ]
  },
  {
   "cell_type": "code",
   "execution_count": 44,
   "metadata": {},
   "outputs": [],
   "source": [
    "delta_prime = delta + a * (1+sqrt((log(b,e)-log(a,e))/2))"
   ]
  },
  {
   "cell_type": "code",
   "execution_count": 45,
   "metadata": {},
   "outputs": [
    {
     "data": {
      "text/plain": [
       "-487.76732265217212573198873940"
      ]
     },
     "execution_count": 45,
     "metadata": {},
     "output_type": "execute_result"
    }
   ],
   "source": [
    "log(delta_prime,2).n(100)"
   ]
  },
  {
   "cell_type": "code",
   "execution_count": null,
   "metadata": {},
   "outputs": [],
   "source": []
  }
 ],
 "metadata": {
  "kernelspec": {
   "display_name": "SageMath 9.3",
   "language": "sage",
   "name": "sagemath"
  },
  "language_info": {
   "codemirror_mode": {
    "name": "ipython",
    "version": 3
   },
   "file_extension": ".py",
   "mimetype": "text/x-python",
   "name": "python",
   "nbconvert_exporter": "python",
   "pygments_lexer": "ipython3",
   "version": "3.7.10"
  }
 },
 "nbformat": 4,
 "nbformat_minor": 4
}
