{
 "cells": [
  {
   "cell_type": "code",
   "execution_count": 1,
   "metadata": {},
   "outputs": [
    {
     "data": {
      "text/plain": [
       "11.755304888262398616496620614"
      ]
     },
     "execution_count": 1,
     "metadata": {},
     "output_type": "execute_result"
    }
   ],
   "source": [
    "log(3457,2).n(100)"
   ]
  },
  {
   "cell_type": "code",
   "execution_count": 2,
   "metadata": {},
   "outputs": [
    {
     "data": {
      "text/plain": [
       "2113"
      ]
     },
     "execution_count": 2,
     "metadata": {},
     "output_type": "execute_result"
    }
   ],
   "source": [
    "2113"
   ]
  },
  {
   "cell_type": "code",
   "execution_count": 3,
   "metadata": {},
   "outputs": [
    {
     "data": {
      "text/plain": [
       "576"
      ]
     },
     "execution_count": 3,
     "metadata": {},
     "output_type": "execute_result"
    }
   ],
   "source": [
    "576"
   ]
  },
  {
   "cell_type": "code",
   "execution_count": 5,
   "metadata": {},
   "outputs": [],
   "source": [
    "a = 2113-1"
   ]
  },
  {
   "cell_type": "code",
   "execution_count": 11,
   "metadata": {},
   "outputs": [
    {
     "data": {
      "text/plain": [
       "33"
      ]
     },
     "execution_count": 11,
     "metadata": {},
     "output_type": "execute_result"
    }
   ],
   "source": [
    "a/64"
   ]
  },
  {
   "cell_type": "code",
   "execution_count": 2,
   "metadata": {},
   "outputs": [],
   "source": [
    "q = 64  * 3 * 11 + 1"
   ]
  },
  {
   "cell_type": "code",
   "execution_count": 27,
   "metadata": {},
   "outputs": [],
   "source": [
    "n  = 64 * 9"
   ]
  },
  {
   "cell_type": "code",
   "execution_count": 28,
   "metadata": {},
   "outputs": [
    {
     "data": {
      "text/plain": [
       "2113"
      ]
     },
     "execution_count": 28,
     "metadata": {},
     "output_type": "execute_result"
    }
   ],
   "source": [
    "q"
   ]
  },
  {
   "cell_type": "code",
   "execution_count": 29,
   "metadata": {},
   "outputs": [
    {
     "data": {
      "text/plain": [
       "576"
      ]
     },
     "execution_count": 29,
     "metadata": {},
     "output_type": "execute_result"
    }
   ],
   "source": [
    "n"
   ]
  },
  {
   "cell_type": "code",
   "execution_count": null,
   "metadata": {},
   "outputs": [],
   "source": [
    "q-1 = (n/3) * k"
   ]
  },
  {
   "cell_type": "code",
   "execution_count": 3,
   "metadata": {},
   "outputs": [
    {
     "ename": "ModuleNotFoundError",
     "evalue": "No module named 'tqdm'",
     "output_type": "error",
     "traceback": [
      "\u001b[0;31m---------------------------------------------------------------------------\u001b[0m",
      "\u001b[0;31mModuleNotFoundError\u001b[0m                       Traceback (most recent call last)",
      "\u001b[0;32m<ipython-input-3-fa65896567b2>\u001b[0m in \u001b[0;36m<module>\u001b[0;34m\u001b[0m\n\u001b[1;32m      1\u001b[0m \u001b[0;32mfrom\u001b[0m \u001b[0mscipy\u001b[0m\u001b[0;34m.\u001b[0m\u001b[0mstats\u001b[0m \u001b[0;32mimport\u001b[0m \u001b[0mbinom\u001b[0m\u001b[0;34m,\u001b[0m \u001b[0mhypergeom\u001b[0m\u001b[0;34m\u001b[0m\u001b[0;34m\u001b[0m\u001b[0m\n\u001b[0;32m----> 2\u001b[0;31m \u001b[0;32mfrom\u001b[0m \u001b[0mtqdm\u001b[0m \u001b[0;32mimport\u001b[0m \u001b[0mtqdm\u001b[0m\u001b[0;34m\u001b[0m\u001b[0;34m\u001b[0m\u001b[0m\n\u001b[0m\u001b[1;32m      3\u001b[0m \u001b[0;32mimport\u001b[0m \u001b[0mitertools\u001b[0m\u001b[0;34m\u001b[0m\u001b[0;34m\u001b[0m\u001b[0m\n\u001b[1;32m      4\u001b[0m \u001b[0;34m\u001b[0m\u001b[0m\n\u001b[1;32m      5\u001b[0m \u001b[0;32mimport\u001b[0m \u001b[0mmatplotlib\u001b[0m \u001b[0;32mas\u001b[0m \u001b[0mmpl\u001b[0m\u001b[0;34m\u001b[0m\u001b[0;34m\u001b[0m\u001b[0m\n",
      "\u001b[0;31mModuleNotFoundError\u001b[0m: No module named 'tqdm'"
     ]
    }
   ],
   "source": [
    "from scipy.stats import binom, hypergeom\n",
    "from tqdm import tqdm\n",
    "import itertools\n",
    "\n",
    "import matplotlib as mpl\n",
    "mpl.use('Agg')\n",
    "\n",
    "# take into account error correction that can correct up to te errors\n",
    "def Binom_prob(prob, ne, te):\n",
    "    res = binom.sf(te, ne, p=prob)\n",
    "    return res\n",
    "\n",
    "# calculate the theoretical predictions\n",
    "def checktheory(thres, n, ne, p, te, s):\n",
    "    # calculate failure probability for a certain number of ones in se\n",
    "    pfaildict = {}\n",
    "\n",
    "    for se in range(0, n + 1):\n",
    "        tmp_0 = [binom.sf((thres + i + se) / 2, se, p=0.5) * s[i] for i in s]\n",
    "        tmp_1_1 = [binom.sf((thres + i + se + 1) / 2, se, p=0.5) * s[i] for i in s]\n",
    "        tmp_1_2 = [binom.sf((thres + i + se - 1) / 2, se, p=0.5) * s[i] for i in s]\n",
    "        pfail = sum(tmp_0) + (sum(tmp_1_1) + sum(tmp_1_2)) * 0.5\n",
    "        pfaildict[se] = pfail\n",
    "\n",
    "    # set everything to zero\n",
    "    fail = 0\n",
    "\n",
    "    # loop over all norm values\n",
    "    for l1, l2 in tqdm(itertools.combinations_with_replacement(range(0, n + 1), 2), leave=False, total=n * (n + 1) / 2):\n",
    "        # probability of a certain norm\n",
    "        # pl = P[||s||2] * P[||c||2]\n",
    "        pl1 = binom.pmf(l1, n=n, p=p)\n",
    "        pl2 = binom.pmf(l2, n=n, p=p)\n",
    "        pl = pl1 * pl2\n",
    "        if l1 != l2:\n",
    "            pl *= 2\n",
    "\n",
    "        # skip if probability is too small\n",
    "        if pl < 2**-100: ## 200\n",
    "            continue\n",
    "\n",
    "        # calculate the probability of a failure\n",
    "        failtmp = 0\n",
    "        # loop over all possible number of nonzero elements in se\n",
    "        for se1 in range(max(0, l1 + l2 - n), min(l1, l2) + 1):\n",
    "            # probability of number of nonzero elements in se\n",
    "            pse = hypergeom.pmf(k=se1, M=n, n=l1, N=l2)\n",
    "            # probability of failure for a certain se1\n",
    "            pfail = pfaildict[se1]\n",
    "            # weighted average share\n",
    "            failtmp += pse * pfail*0.5 # failtmp = pb\n",
    "        \n",
    "        # for new model, take error correction into account\n",
    "        fail += pl * Binom_prob(failtmp, ne, te) # Binom_prob : 1 - Binom(d, lm, pb)\n",
    "\n",
    "    return fail\n",
    "\n",
    "\n",
    "def main():\n",
    "    # maximum error correction to plot\n",
    "    te = 15\n",
    "    # scheme to use\n",
    "    q = 256\n",
    "    p = 64\n",
    "    n = 512 #1024 for strong\n",
    "    LizarMong = {}\n",
    "    LizarMong['thres'] = q / 4 - q / (2 * p)\n",
    "    LizarMong['s'] = {-1: 1. / 8, 0: 3. / 4, 1: 1. / 8}   #hs=128 with Comfort\n",
    "    #LizarMong['s'] = {-1: 1. / 16, 0: 7. / 8, 1: 1. / 16}   #hs=128 with Strong\n",
    "    LizarMong['e'] = {-1: 1. / 4, 0: 1. / 2, 1: 1. / 4}\n",
    "    LizarMong['sprime'] = LizarMong['s']\n",
    "    LizarMong['eprime'] = 0\n",
    "    LizarMong['eprimeprime'] = 0\n",
    "    LizarMong['n'] = n\n",
    "    LizarMong['n2'] = 1  # ??\n",
    "    LizarMong['name'] = 'LizarMong'\n",
    "    scheme = LizarMong\n",
    "\n",
    "    # load some parameters\n",
    "    n = 2 * scheme['n']\n",
    "    s = scheme['s']\n",
    "    thres = scheme['thres']\n",
    "    alg = scheme['name']\n",
    "    ne = n / 2 - 1\n",
    "    p = s[1] + s[-1]\n",
    "    errors = list(range(0, te + 1))\n",
    "\n",
    "    test = checktheory(thres, n, ne, p, errors, s)\n",
    "    print(test) \n",
    "    f = open(\"LizarMong_result.txt\", 'w')\n",
    "    f.write(str(test))\n",
    "    f.close()\n",
    "\n",
    "\n",
    "\n",
    "if __name__ == '__main__':\n",
    "    main()\n"
   ]
  },
  {
   "cell_type": "code",
   "execution_count": null,
   "metadata": {},
   "outputs": [],
   "source": []
  }
 ],
 "metadata": {
  "kernelspec": {
   "display_name": "SageMath 9.3",
   "language": "sage",
   "name": "sagemath"
  },
  "language_info": {
   "codemirror_mode": {
    "name": "ipython",
    "version": 3
   },
   "file_extension": ".py",
   "mimetype": "text/x-python",
   "name": "python",
   "nbconvert_exporter": "python",
   "pygments_lexer": "ipython3",
   "version": "3.7.10"
  }
 },
 "nbformat": 4,
 "nbformat_minor": 4
}
